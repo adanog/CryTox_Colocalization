{
 "cells": [
  {
   "cell_type": "markdown",
   "id": "92c6d340-b9cc-402f-8bde-a899b42b29c7",
   "metadata": {},
   "source": [
    "# Open an OIB file and explore metadata properties"
   ]
  },
  {
   "cell_type": "markdown",
   "id": "2cfaf797-0cbd-4ce5-a1e2-d39479c9e4b5",
   "metadata": {},
   "source": [
    "## Install libraries"
   ]
  },
  {
   "cell_type": "code",
   "execution_count": 1,
   "id": "c0e99d0c-a601-4dc6-8fcf-96113bc57c9f",
   "metadata": {},
   "outputs": [
    {
     "name": "stdout",
     "output_type": "stream",
     "text": [
      "Requirement already satisfied: oiffile in /opt/conda/lib/python3.11/site-packages (2024.5.24)\n",
      "Requirement already satisfied: numpy in /opt/conda/lib/python3.11/site-packages (from oiffile) (1.26.4)\n",
      "Requirement already satisfied: tifffile in /opt/conda/lib/python3.11/site-packages (from oiffile) (2024.2.12)\n",
      "Requirement already satisfied: natsort in /opt/conda/lib/python3.11/site-packages (8.4.0)\n"
     ]
    }
   ],
   "source": [
    "!pip install oiffile\n",
    "!pip install natsort"
   ]
  },
  {
   "cell_type": "markdown",
   "id": "3f69fda8-68fc-405a-8aab-5971f5e97c21",
   "metadata": {},
   "source": [
    "## Load libraries"
   ]
  },
  {
   "cell_type": "code",
   "execution_count": 2,
   "id": "2cad611c-cef5-45aa-8dfb-acab0b85af4f",
   "metadata": {},
   "outputs": [],
   "source": [
    "import oiffile\n",
    "import os"
   ]
  },
  {
   "cell_type": "markdown",
   "id": "c15f2d54-0b02-41ab-8260-1bfe8f5384dc",
   "metadata": {},
   "source": [
    "## Parameters"
   ]
  },
  {
   "cell_type": "code",
   "execution_count": 3,
   "id": "001cc767-874c-418f-8e51-d64c97b60a1b",
   "metadata": {},
   "outputs": [
    {
     "name": "stdout",
     "output_type": "stream",
     "text": [
      "/home/jovyan/LNMA/bravoa/data/Seleccion ROIs para Fig endoscitosis/3_Cry11__1mg_3h_FM4_1_mM_60X_Z3.5__ant_bis__int_2.oib\n"
     ]
    }
   ],
   "source": [
    "\n",
    "directory_path = '/home/jovyan/LNMA/bravoa/data/Seleccion ROIs para Fig endoscitosis/'\n",
    "#filename = '2_Cry11Aa_1_mg_FM4_3h_60X_Z3.5_ant_bis.oib'\n",
    "filename = '3_Cry11__1mg_3h_FM4_1_mM_60X_Z3.5__ant_bis__int_2.oib'\n",
    "\n",
    "\n",
    "#directory_path = '/home/jovyan/LNMA/bravoa/'\n",
    "#filename = '3-Cry11  1mg 3h+FM4 1 mM 60X Z3.5  ant bis  int 2 copy.oib'\n",
    "\n",
    "#filename = '3-Cry11  1mg 3h+FM4 1 mM 60X Z3.5  ant bis  int 2 copy.oib'\n",
    "file_path = os.path.join(directory_path, filename)\n",
    "print(file_path)"
   ]
  },
  {
   "cell_type": "markdown",
   "id": "12176bff-a662-485f-8872-6637b6203a3f",
   "metadata": {},
   "source": [
    "## Load *.oib file properties"
   ]
  },
  {
   "cell_type": "code",
   "execution_count": 4,
   "id": "4bda98cd-db9b-444b-bb63-f5e60ccb3965",
   "metadata": {},
   "outputs": [
    {
     "name": "stdout",
     "output_type": "stream",
     "text": [
      "(4, 1024, 1024)\n",
      "CYX\n",
      "(4, 1024, 1024)\n",
      "uint16\n",
      "['Storage00001/s_C001.tif', 'Storage00001/s_C002.tif', 'Storage00001/s_C003.tif', 'Storage00001/s_C004.tif']\n",
      "Cry11Ba 1mg 3h+FM4 1 mM 60X Z3.5  ant bis  int 2.oib\n",
      "{'DataName': 'Cry11Ba 1mg 3h+FM4 1 mM 60X Z3.5  ant bis  int 2.oib', 'FileFormat': 'Olympus Image Format', 'FileType': 'GrayScale', 'Path': 'D:\\\\Alejandra Bravo\\\\240515\\\\', 'UserName': 'Guest'}\n"
     ]
    }
   ],
   "source": [
    "from oiffile import OifFile\n",
    "from natsort import natsorted\n",
    "from oiffile import imread\n",
    "\n",
    "# Load image\n",
    "image = imread(file_path)\n",
    "print(image.shape)\n",
    "\n",
    "# Access metadata\n",
    "with OifFile(file_path) as oib:\n",
    "    filename = natsorted(oib.glob('*.tif'))[:]  # Get the first .tif file in natural order\n",
    "    #image = oib.asarray(filename)  # Read the .tif file as a NumPy array\n",
    "    print(oib.axes)\n",
    "    print(oib.shape)\n",
    "    print(oib.dtype)\n",
    "    ataname = oib.mainfile['File Info']['DataName']\n",
    "   # creation_date = oib.mainfile['Acquisition Parameters Common Info']['ImageCaputreDate']\n",
    "    \n",
    "print(filename)\n",
    "print(ataname)\n",
    "print(oib.mainfile['File Info'])"
   ]
  },
  {
   "cell_type": "code",
   "execution_count": 5,
   "id": "611f2f5d-f787-4054-8668-b9478c76a597",
   "metadata": {},
   "outputs": [
    {
     "name": "stdout",
     "output_type": "stream",
     "text": [
      "2024-05-15 13:53:53\n",
      "Image Date: 2024-05-15 13:53:53\n"
     ]
    }
   ],
   "source": [
    "# Access metadata\n",
    "with OifFile(file_path) as oib:\n",
    "    main_settings = oib.mainfile\n",
    "print(main_settings['Acquisition Parameters Common']['ImageCaputreDate'])  \n",
    "\n",
    "image_date = main_settings.get('Acquisition Parameters Common', {}).get('ImageCaputreDate', 'Date not found')\n",
    "print(\"Image Date:\", image_date)"
   ]
  }
 ],
 "metadata": {
  "kernelspec": {
   "display_name": "Python 3 (ipykernel)",
   "language": "python",
   "name": "python3"
  },
  "language_info": {
   "codemirror_mode": {
    "name": "ipython",
    "version": 3
   },
   "file_extension": ".py",
   "mimetype": "text/x-python",
   "name": "python",
   "nbconvert_exporter": "python",
   "pygments_lexer": "ipython3",
   "version": "3.11.8"
  }
 },
 "nbformat": 4,
 "nbformat_minor": 5
}
