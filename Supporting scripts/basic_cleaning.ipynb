{
 "cells": [
  {
   "cell_type": "markdown",
   "id": "5eb8465c-55de-4191-b5c9-7470fba23fb8",
   "metadata": {},
   "source": [
    "# Basic Cleaning"
   ]
  },
  {
   "cell_type": "markdown",
   "id": "5cf97d1e-3178-462b-a2c6-a1f3c4af3c59",
   "metadata": {},
   "source": [
    "## Load libraries"
   ]
  },
  {
   "cell_type": "code",
   "execution_count": 10,
   "id": "814f1936-da0a-4bca-86d2-2218b7ff2764",
   "metadata": {},
   "outputs": [],
   "source": [
    "import os\n",
    "from oiffile import imread\n",
    "import pandas as pd"
   ]
  },
  {
   "cell_type": "markdown",
   "id": "7f88646b-6b6f-46d4-9b96-2f0a2c7b62c0",
   "metadata": {},
   "source": [
    "# Parameters"
   ]
  },
  {
   "cell_type": "code",
   "execution_count": 11,
   "id": "34d85e37-bf85-4518-b0ca-031605de5331",
   "metadata": {},
   "outputs": [],
   "source": [
    "# Directory containing the files\n",
    "directory_path = '/home/jovyan/LNMA/bravoa/data/New2 Fig para colocalizacion Manders-Mito'"
   ]
  },
  {
   "cell_type": "markdown",
   "id": "4e8b3601-307e-4288-b3a1-e4e64491410c",
   "metadata": {},
   "source": [
    "# Functions"
   ]
  },
  {
   "cell_type": "code",
   "execution_count": 69,
   "id": "d9a58a9c-643c-402c-ba2e-459ce6f42250",
   "metadata": {},
   "outputs": [],
   "source": [
    "def clean_filenames(directory_path):\n",
    "    # Initialize a list to store cleaned file names\n",
    "    cleaned_file_names = []\n",
    "    # Process each file in the specified directory\n",
    "    for file_name in os.listdir(directory_path):\n",
    "        if file_name.endswith('.oib'):\n",
    "            # Clean the file name\n",
    "            file_name = file_name.strip().lower().replace('.oib', '')\n",
    "            file_name = file_name.replace(' ', '_').replace('-', '_').replace('/', '_')\n",
    "            file_name = file_name.replace('+', '_').replace('_copy', '')\n",
    "            # Append the cleaned file name to the list\n",
    "            cleaned_file_names.append(file_name)\n",
    "    # Return the list of cleaned file names\n",
    "    return cleaned_file_names"
   ]
  },
  {
   "cell_type": "code",
   "execution_count": 70,
   "id": "681c3af5-f4ba-47e0-ad51-cbebcd8262a3",
   "metadata": {},
   "outputs": [
    {
     "data": {
      "text/plain": [
       "['9_cry11ba_1mg_3h_mitotrack_750nm_60x_ant__bis5_int2_z3.5',\n",
       " '3_cry11_2mg_2h_mitot_750nm_60x__post_z3.5_bis_3',\n",
       " '8_cry11ba_1mg_3h_mitotrack_750nm_60x_ant__bis4_int2_z3.5',\n",
       " '7_cry11ba_1mg_3h_mitotrack_750nm_60x_ant_int2_z3.5',\n",
       " '4_cry11_2mg_2h_mitot_750nm_60x__post_z3.5_bis_4',\n",
       " '1_cry11_2mg_2h_mitot_750nm_60xmed_post_3.5_z',\n",
       " '2_cry11_2mg_2h_mitot_750nm_60x__post_z3.5_bis_bis',\n",
       " '5_cry11_2mg_2h_mitot_750nm_60x__post_z3.5_bis_6',\n",
       " '6_cry11ba_1mg_3h_mitotrack_750nm_60x_ant_bisbis_z3.5']"
      ]
     },
     "execution_count": 70,
     "metadata": {},
     "output_type": "execute_result"
    }
   ],
   "source": [
    "# Example usage\n",
    "files_names_cleaned = clean_filenames(directory_path)\n",
    "files_names_cleaned"
   ]
  }
 ],
 "metadata": {
  "kernelspec": {
   "display_name": "Python 3 (ipykernel)",
   "language": "python",
   "name": "python3"
  },
  "language_info": {
   "codemirror_mode": {
    "name": "ipython",
    "version": 3
   },
   "file_extension": ".py",
   "mimetype": "text/x-python",
   "name": "python",
   "nbconvert_exporter": "python",
   "pygments_lexer": "ipython3",
   "version": "3.11.8"
  }
 },
 "nbformat": 4,
 "nbformat_minor": 5
}
