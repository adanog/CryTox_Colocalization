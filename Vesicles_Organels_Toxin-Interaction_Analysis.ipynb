{
 "cells": [
  {
   "cell_type": "markdown",
   "id": "314b32c5-5ccb-464b-9b4e-0625891705a1",
   "metadata": {},
   "source": [
    "# Comparison of Corresponding Values in Toxin-Actin Datasets\n",
    "\n",
    "This notebook compares the `m1` and `m2` values across three datasets: **Ordered**, **Mutant Ordered**, and **Disordered** observations of toxin-actin interactions. Boxplots are used to visualize the distribution of `m1` and `m2` values across these different conditions.\n",
    "\n",
    "\n",
    "\n",
    "Explanation\n",
    "\n",
    "\t•\tUnmodified data_configurations: This code directly reads each entry from data_configurations without modifications, ensuring that no information is lost.\n",
    "\t•\tDynamic Loading and Verification: Each file is loaded if it exists; otherwise, a message is printed indicating the missing file.\n",
    "\t•\tData Aggregation: data_M1, data_M2, and conditions capture all relevant data for each condition.\n",
    "\t•\tPlotting: Horizontal boxplots are created for m1 and m2, with annotations indicating the number of data points for each condition.\n",
    "\t•\tSaving and Displaying: The final plot is saved as a PDF for all conditions and displayed.\n",
    "\n",
    "This code will produce a comprehensive set of boxplots that include every configuration listed in data_configurations."
   ]
  },
  {
   "cell_type": "markdown",
   "id": "fab85e46-437e-4814-b2ba-f91f89063d58",
   "metadata": {},
   "source": [
    "## Importing Libraries"
   ]
  },
  {
   "cell_type": "code",
   "execution_count": null,
   "id": "c1f5fa67-8673-434d-9c73-75c0eef6dc31",
   "metadata": {},
   "outputs": [],
   "source": [
    "import os\n",
    "import pandas as pd\n",
    "import matplotlib.pyplot as plt\n",
    "import re"
   ]
  },
  {
   "cell_type": "markdown",
   "id": "63fb93bc-acca-4d55-8433-61f457846be6",
   "metadata": {},
   "source": [
    "## Define the working directory"
   ]
  },
  {
   "cell_type": "code",
   "execution_count": null,
   "id": "6f1edd03-4ede-404c-aef5-8c85fd133572",
   "metadata": {},
   "outputs": [],
   "source": [
    "wd = '/home/jovyan/LNMA/bravoa/data/'"
   ]
  },
  {
   "cell_type": "markdown",
   "id": "1228e83a-c68e-40fd-9dc4-3b6b121c4272",
   "metadata": {},
   "source": [
    "## Data configurations"
   ]
  },
  {
   "cell_type": "code",
   "execution_count": null,
   "id": "707961cd-b222-49e1-a3bd-de7db7e4c506",
   "metadata": {},
   "outputs": [],
   "source": [
    "\n",
    "# Example data_configurations\n",
    "data_configurations = {\n",
    "    \"Toxin_vs_actin\": {\"df_name\": \"Toxin_vs_actin\"},\n",
    "    \"Toxin_vs_Nucleus_a\": {\"df_name\": \"Toxin_vs_Nucleus_a\"},\n",
    "    \"Toxin_vs_actin_ord\": {\"df_name\": \"Toxin_vs_actin_ord\"},\n",
    "    \"Toxin_vs_actin_desord\": {\"df_name\": \"Toxin_vs_actin_desord\"},\n",
    "    \"Toxin_vs_actin_mutord\": {\"df_name\": \"Toxin_vs_actin_mutord\"},\n",
    "    \"Toxin_vs_Nucleus_ER\": {\"df_name\": \"Toxin_vs_Nucleus_ER\"},\n",
    "    \"Toxin_vs_ER\": {\"df_name\": \"Toxin_vs_ER\"},\n",
    "    \"Toxin_vs_Nucleus_L\": {\"df_name\": \"Toxin_vs_Nucleus_L\"},\n",
    "    \"Toxin_vs_Lizo\": {\"df_name\": \"Toxin_vs_Lizo\"},\n",
    "    \"Toxin_vs_Nucleus_M\": {\"df_name\": \"Toxin_vs_Nucleus_M\"},\n",
    "    \"Toxin_vs_Mito\": {\"df_name\": \"Toxin_vs_Mito\"},\n",
    "    \"Toxin_vs_Nucleus_E\": {\"df_name\": \"Toxin_vs_Nucleus_E\"},\n",
    "    \"Toxin_vs_Endo\": {\"df_name\": \"Toxin_vs_Endo\"},\n",
    "    \"Toxin_vs_EndoEarly\": {\"df_name\": \"Toxin_vs_EndoEarly\"},\n",
    "    \"Toxin_vs_mutEndoEarly\": {\"df_name\": \"Toxin_vs_mutEndoEarly\"},\n",
    "    \"Vesicles_Toxin_vs_actin\": {\"df_name\": \"Vesicles_Toxin_vs_actin\"},\n",
    "    \"Vesicles_Toxin_vs_ER\": {\"df_name\": \"Vesicles_Toxin_vs_ER\"},\n",
    "    \"Vesicles_Toxin_vs_Lizo\": {\"df_name\": \"Vesicles_Toxin_vs_Lizo\"},\n",
    "    \"Vesicles_Toxin_vs_Mito\": {\"df_name\": \"Vesicles_Toxin_vs_Mito\"},\n",
    "    \"Vesicles_Toxin_vs_Endo\": {\"df_name\": \"Vesicles_Toxin_vs_Endo\"}\n",
    "}\n",
    "\n",
    "# Configurations for the categories\n",
    "vesicles_configurations = {\n",
    "    \"actin\": data_configurations[\"Vesicles_Toxin_vs_actin\"],\n",
    "    \"ER\": data_configurations[\"Vesicles_Toxin_vs_ER\"],\n",
    "    \"lysosomes\": data_configurations[\"Vesicles_Toxin_vs_Lizo\"],\n",
    "    \"mitochondria\": data_configurations[\"Vesicles_Toxin_vs_Mito\"],\n",
    "    \"endosomes\": data_configurations[\"Vesicles_Toxin_vs_Endo\"]\n",
    "}\n",
    "\n",
    "nucleus_configurations = {\n",
    "    \"a\": data_configurations[\"Toxin_vs_Nucleus_a\"],\n",
    "    \"ER\": data_configurations[\"Toxin_vs_Nucleus_ER\"],\n",
    "    \"lysosomes\": data_configurations[\"Toxin_vs_Nucleus_L\"],\n",
    "    \"mitochondria\": data_configurations[\"Toxin_vs_Nucleus_M\"],\n",
    "    \"endosomes\": data_configurations[\"Toxin_vs_Nucleus_E\"]\n",
    "}\n",
    "\n",
    "cytoplasm_configurations = {\n",
    "    \"actin\": data_configurations[\"Toxin_vs_actin\"],\n",
    "    \"ER\": data_configurations[\"Toxin_vs_ER\"],\n",
    "    \"lysosomes\": data_configurations[\"Toxin_vs_Lizo\"],\n",
    "    \"mitochondria\": data_configurations[\"Toxin_vs_Mito\"],\n",
    "    \"endosomes\": data_configurations[\"Toxin_vs_Endo\"]\n",
    "}\n",
    "\n",
    "actin_configurations = {\n",
    "    \"Cry11Aa-polymerized Actin\": data_configurations[\"Toxin_vs_actin_ord\"],\n",
    "    \"Cry11Aa-depolymerized\": data_configurations[\"Toxin_vs_actin_desord\"],\n",
    "    \"Cry11AaE97A-polymerized Actin\": data_configurations[\"Toxin_vs_actin_mutord\"]\n",
    "}\n",
    "\n",
    "endo_configurations = {\n",
    "    \"Cry11Aa\": data_configurations[\"Toxin_vs_EndoEarly\"],\n",
    "    \"Cry11AaE97A\": data_configurations[\"Toxin_vs_mutEndoEarly\"]\n",
    "}\n"
   ]
  },
  {
   "cell_type": "markdown",
   "id": "bab24888-025b-4e48-8db3-b0ccd1c2b515",
   "metadata": {},
   "source": [
    "## Define Functions"
   ]
  },
  {
   "cell_type": "code",
   "execution_count": null,
   "id": "5e5c37f9-f580-4059-8afb-ecb9554a50ff",
   "metadata": {},
   "outputs": [],
   "source": [
    "def plot_single_category(ax, configurations, category_name, max_conditions, custom_labels=None):\n",
    "    data_M1 = []\n",
    "    data_M2 = []\n",
    "    conditions = []\n",
    "\n",
    "    # Load data for each configuration in the category\n",
    "    for config_name, config in configurations.items():\n",
    "        file_path = os.path.join(wd, f\"{config['df_name']}_all_manders_results.csv\")\n",
    "        if os.path.exists(file_path):\n",
    "            df = pd.read_csv(file_path)\n",
    "            if 'm1' in df.columns and 'm2' in df.columns:\n",
    "                data_M1.append(df['m1'].tolist())\n",
    "                data_M2.append(df['m2'].tolist())\n",
    "                conditions.append(config_name)\n",
    "        else:\n",
    "            print(f\"File not found: {file_path}\")\n",
    "\n",
    "    # If custom_labels are provided, pad data to match lengths\n",
    "    if custom_labels:\n",
    "        while len(data_M1) < len(custom_labels):\n",
    "            data_M1.append([])\n",
    "            data_M2.append([])\n",
    "        conditions = custom_labels\n",
    "\n",
    "    # Add empty labels and data to standardize heights\n",
    "    while len(conditions) < max_conditions:\n",
    "        conditions.append(\"\")\n",
    "        data_M1.append([])\n",
    "        data_M2.append([])\n",
    "\n",
    "    # Define positions to standardize widths\n",
    "    positions = range(1, len(conditions) + 1)\n",
    "\n",
    "    # Boxplot for M1\n",
    "    ax[0].boxplot(data_M1, labels=conditions, vert=False, positions=positions)\n",
    "    ax[0].set_title(f\"{category_name} M1\")\n",
    "    ax[0].set_xlim(0.2, 1)\n",
    "    ax[0].set_ylim(0.5, max_conditions + 0.5)\n",
    "    for i, data in enumerate(data_M1):\n",
    "        if data:\n",
    "            ax[0].text(0.9, i + 1, f'n={len(data)}', va='center', fontsize=8)\n",
    "\n",
    "    # Boxplot for M2\n",
    "    ax[1].boxplot(data_M2, labels=[\"\"] * len(conditions), vert=False, positions=positions)  # Empty labels for M2\n",
    "    ax[1].set_title(f\"{category_name} M2\")\n",
    "    ax[1].set_xlim(0.2, 1)\n",
    "    ax[1].set_ylim(0.5, max_conditions + 0.5)\n",
    "    for i, data in enumerate(data_M2):\n",
    "        if data:\n",
    "            ax[1].text(0.9, i + 1, f'n={len(data)}', va='center', fontsize=8)"
   ]
  },
  {
   "cell_type": "markdown",
   "id": "e72e516b-ef2f-4e8d-a617-c7fbe10ba9cc",
   "metadata": {},
   "source": [
    "## Determine the maximum number of conditions"
   ]
  },
  {
   "cell_type": "code",
   "execution_count": null,
   "id": "cbdddd57-6801-436c-8f18-7be703fe4adb",
   "metadata": {},
   "outputs": [],
   "source": [
    "max_conditions = max(len(vesicles_configurations), len(nucleus_configurations), \n",
    "                     len(cytoplasm_configurations), len(actin_configurations), len(endo_configurations))\n"
   ]
  },
  {
   "cell_type": "markdown",
   "id": "5d827584-8538-4329-ace1-e4c811e43d6f",
   "metadata": {},
   "source": [
    "## Custom labels for specific categories"
   ]
  },
  {
   "cell_type": "code",
   "execution_count": null,
   "id": "44ccfb83-bc7f-4bfe-9482-601e0daedb67",
   "metadata": {},
   "outputs": [],
   "source": [
    "actin_labels = [\"Cry11Aa-polymerized Actin\", \"Cry11Aa-depolymerized actin\", \"Cry11AaE97A-polymerized Actin\"]\n",
    "endo_labels = [\"Cry11Aa\", \"Cry11AaE97A\"]"
   ]
  },
  {
   "cell_type": "markdown",
   "id": "d8ca113d-fc45-49d1-9e28-7c50ef38491a",
   "metadata": {},
   "source": [
    "## Create the plots"
   ]
  },
  {
   "cell_type": "code",
   "execution_count": null,
   "id": "5ae06e9b-51d5-4da0-a88e-3b36ef628f34",
   "metadata": {},
   "outputs": [],
   "source": [
    "fig, axes = plt.subplots(5, 2, figsize=(10, 15))  # Adjusted size for 5 categories\n",
    "plt.subplots_adjust(hspace=0.4)\n",
    "\n",
    "plot_single_category(axes[0], vesicles_configurations, \"Extracellular Vesicles\", max_conditions)\n",
    "plot_single_category(axes[1], nucleus_configurations, \"Nucleus\", max_conditions)\n",
    "plot_single_category(axes[2], cytoplasm_configurations, \"Cytoplasm\", max_conditions)\n",
    "plot_single_category(axes[3], actin_configurations, \"Microvilli\", max_conditions, custom_labels=actin_labels)\n",
    "plot_single_category(axes[4], endo_configurations, \"Endosomes\", max_conditions, custom_labels=endo_labels)\n",
    "# Save the combined figure as a PDF\n",
    "pdf_path = os.path.join(wd, \"Manders_Coefficients_All_Categories.pdf\")\n",
    "fig.suptitle(\"Manders' Coefficients for All Categories\", fontsize=16, y=0.92)\n",
    "plt.savefig(pdf_path, format=\"pdf\")\n",
    "print(f\"Saved combined plot as PDF: {pdf_path}\")\n",
    "\n",
    "plt.show()"
   ]
  }
 ],
 "metadata": {
  "kernelspec": {
   "display_name": "Python 3 (ipykernel)",
   "language": "python",
   "name": "python3"
  },
  "language_info": {
   "codemirror_mode": {
    "name": "ipython",
    "version": 3
   },
   "file_extension": ".py",
   "mimetype": "text/x-python",
   "name": "python",
   "nbconvert_exporter": "python",
   "pygments_lexer": "ipython3",
   "version": "3.11.8"
  }
 },
 "nbformat": 4,
 "nbformat_minor": 5
}
