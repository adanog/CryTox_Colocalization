{
 "cells": [
  {
   "cell_type": "markdown",
   "id": "632f719a-60a6-4c5a-8e2c-22446611d08d",
   "metadata": {},
   "source": [
    "## Libraries"
   ]
  },
  {
   "cell_type": "code",
   "execution_count": 1,
   "id": "814e81bc-07da-49ca-a721-ee278f755589",
   "metadata": {},
   "outputs": [],
   "source": [
    "import numpy as np\n",
    "from scipy.stats import entropy\n",
    "from scipy.spatial.distance import cosine\n",
    "from skimage.metrics import structural_similarity as ssim\n",
    "from sklearn.metrics import mutual_info_score\n",
    "from scipy.signal import correlate2d"
   ]
  },
  {
   "cell_type": "markdown",
   "id": "bee986df-0936-4473-816b-a27c65eb48af",
   "metadata": {},
   "source": [
    "## Functions"
   ]
  },
  {
   "cell_type": "code",
   "execution_count": 4,
   "id": "192ebcad-4b9a-42a5-9f06-5e06964953c0",
   "metadata": {},
   "outputs": [],
   "source": [
    "def pearson_coefficient(image1, image2):\n",
    "    \"\"\"Calculate Pearson Correlation Coefficient.\"\"\"\n",
    "    return np.corrcoef(image1.ravel(), image2.ravel())[0, 1]\n",
    "\n",
    "def mutual_information(image1, image2):\n",
    "    \"\"\"Calculate Mutual Information.\"\"\"\n",
    "    hist_2d, _, _ = np.histogram2d(image1.ravel(), image2.ravel(), bins=20)\n",
    "    return mutual_info_score(None, None, contingency=hist_2d)\n",
    "\n",
    "def structural_similarity(image1, image2):\n",
    "    \"\"\"Calculate Structural Similarity Index.\"\"\"\n",
    "    return ssim(image1, image2, data_range=image2.max() - image2.min())\n",
    "\n",
    "def earth_movers_distance(image1, image2):\n",
    "    \"\"\"Calculate Earth Mover's Distance.\"\"\"\n",
    "    hist1, _ = np.histogram(image1.ravel(), bins=256, density=True)\n",
    "    hist2, _ = np.histogram(image2.ravel(), bins=256, density=True)\n",
    "    cdf1 = np.cumsum(hist1)\n",
    "    cdf2 = np.cumsum(hist2)\n",
    "    return np.sum(np.abs(cdf1 - cdf2))\n",
    "\n",
    "def cosine_similarity(image1, image2):\n",
    "    \"\"\"Calculate Cosine Similarity.\"\"\"\n",
    "    vector1 = image1.ravel()\n",
    "    vector2 = image2.ravel()\n",
    "    return 1 - cosine(vector1, vector2)  # 1 - cosine_distance gives similarity\n",
    "\n",
    "def kullback_leibler_divergence(image1, image2):\n",
    "    \"\"\"Calculate Kullback-Leibler Divergence.\"\"\"\n",
    "    hist1, _ = np.histogram(image1.ravel(), bins=256, density=True)\n",
    "    hist2, _ = np.histogram(image2.ravel(), bins=256, density=True)\n",
    "    return entropy(hist1, hist2)\n",
    "\n",
    "def cross_correlation(image1, image2):\n",
    "    \"\"\"Calculate Cross-Correlation Function.\"\"\"\n",
    "    return np.max(correlate2d(image1, image2, mode='same'))\n",
    "\n"
   ]
  },
  {
   "cell_type": "markdown",
   "id": "f465de7c-83ce-4009-ad19-74d5380177b7",
   "metadata": {},
   "source": [
    "## Analysis"
   ]
  },
  {
   "cell_type": "code",
   "execution_count": 5,
   "id": "21b917d0-2fdd-4102-96df-96c17b88c87c",
   "metadata": {},
   "outputs": [
    {
     "data": {
      "text/plain": [
       "{'Pearson Coefficient': 0.009515866546327368,\n",
       " 'Mutual Information': 0.018713032697566585,\n",
       " 'Structural Similarity (SSIM)': 0.013413280058403353,\n",
       " \"Earth Mover's Distance (EMD)\": 327.80398842166653,\n",
       " 'Cosine Similarity': 0.7521621288651272,\n",
       " 'Kullback-Leibler Divergence (KL)': 0.02667004749416278,\n",
       " 'Cross-Correlation': 2508.7918678494834}"
      ]
     },
     "execution_count": 5,
     "metadata": {},
     "output_type": "execute_result"
    }
   ],
   "source": [
    "# Example usage: Call any of these functions with two 2D numpy arrays (images)\n",
    "# Example: result = pearson_coefficient(image1, image2)\n",
    "# Generate example images\n",
    "image1 = np.random.rand(100, 100)\n",
    "image2 = np.random.rand(100, 100)\n",
    "\n",
    "# Calculate all metrics\n",
    "result_pearson = pearson_coefficient(image1, image2)\n",
    "result_mutual_info = mutual_information(image1, image2)\n",
    "result_ssim = structural_similarity(image1, image2)\n",
    "result_emd = earth_movers_distance(image1, image2)\n",
    "result_cosine = cosine_similarity(image1, image2)\n",
    "result_kl = kullback_leibler_divergence(image1, image2)\n",
    "result_cc = cross_correlation(image1, image2)\n",
    "\n",
    "# Print all results\n",
    "results = {\n",
    "    \"Pearson Coefficient\": result_pearson,\n",
    "    \"Mutual Information\": result_mutual_info,\n",
    "    \"Structural Similarity (SSIM)\": result_ssim,\n",
    "    \"Earth Mover's Distance (EMD)\": result_emd,\n",
    "    \"Cosine Similarity\": result_cosine,\n",
    "    \"Kullback-Leibler Divergence (KL)\": result_kl,\n",
    "    \"Cross-Correlation\": result_cc\n",
    "}\n",
    "\n",
    "results"
   ]
  },
  {
   "cell_type": "code",
   "execution_count": null,
   "id": "f15d0dab-2aaf-424f-8677-fa03c338e127",
   "metadata": {},
   "outputs": [],
   "source": []
  }
 ],
 "metadata": {
  "kernelspec": {
   "display_name": "Python 3 (ipykernel)",
   "language": "python",
   "name": "python3"
  },
  "language_info": {
   "codemirror_mode": {
    "name": "ipython",
    "version": 3
   },
   "file_extension": ".py",
   "mimetype": "text/x-python",
   "name": "python",
   "nbconvert_exporter": "python",
   "pygments_lexer": "ipython3",
   "version": "3.11.8"
  }
 },
 "nbformat": 4,
 "nbformat_minor": 5
}
