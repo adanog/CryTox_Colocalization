{
 "cells": [
  {
   "cell_type": "markdown",
   "id": "3c500fc6-6af1-4216-bd01-01afe9b60620",
   "metadata": {},
   "source": [
    "# Pairing OIB and ZIP Files by Numerical Prefix After Filename Cleaning\n",
    "\n",
    "This script first cleans the filenames using the clean_filenames function to standardize and prepare them for matching. After cleaning, the script matches .oib and .zip files by their shared numerical prefix, ￼. It accomplishes this by parsing each cleaned filename, extracting the relevant prefix, and then grouping files into pairs where each .oib file is paired with its corresponding .zip file based on their common prefix.\n",
    "\n",
    "The matching is based on the following filename patterns:\n",
    "\n",
    "\t•\t.oib files: These files start with a number followed by an underscore (e.g., 1_Cry11_2mg_2h_MitoT_750nM_60xmed_post_3.5_Z.oib).\n",
    "\t•\t.zip files: These files begin with RoiSet_, followed by the same number and an underscore (e.g., RoiSet_1_Cry11_2mg_2h_MitoT_750nM_60xmed_post_3.5_Z.zip).\n",
    "\n",
    "The script performs the following steps:\n",
    "\n",
    "\t1.\tClean Filenames: It first calls clean_filenames on the input list of filenames to ensure consistent naming for accurate matching.\n",
    "\t2.\tDefine Regex Patterns: Uses regular expressions to capture the number prefix in cleaned .oib and .zip filenames.\n",
    "\t3.\tFile Grouping: Iterates through the cleaned filenames, classifying .oib and .zip files into separate dictionaries (oib_files and zip_files) using the extracted prefix as a key.\n",
    "\t4.\tFile Pairing: Matches files by identifying prefixes present in both dictionaries, resulting in a list of tuples, with each tuple containing an .oib file and its corresponding .zip file.\n",
    "\n",
    "The output is a list of paired filenames, based on the shared numerical prefix, that have been cleaned and matched accurately."
   ]
  },
  {
   "cell_type": "markdown",
   "id": "e324b47e-7d82-4951-9fcf-3639d71068f1",
   "metadata": {},
   "source": [
    "## Install Libraries"
   ]
  },
  {
   "cell_type": "code",
   "execution_count": 7,
   "id": "630dd3e7-3090-4351-9a3b-253cb2db23ed",
   "metadata": {},
   "outputs": [
    {
     "name": "stdout",
     "output_type": "stream",
     "text": [
      "Installing necessary libraries...\n",
      "Libraries installed successfully.\n"
     ]
    }
   ],
   "source": [
    "print(\"Installing necessary libraries...\")\n",
    "!pip install natsort oiffile ome-zarr read_roi > /dev/null 2>&1\n",
    "print(\"Libraries installed successfully.\")"
   ]
  },
  {
   "cell_type": "markdown",
   "id": "5c834546-f446-49af-aa79-b5b8525fa467",
   "metadata": {},
   "source": [
    "## Import Libraries"
   ]
  },
  {
   "cell_type": "code",
   "execution_count": 8,
   "id": "6d3880f1-4a2e-47bb-86c9-12c155d933b8",
   "metadata": {},
   "outputs": [],
   "source": [
    "import os\n",
    "from oiffile import imread\n",
    "import pandas as pd\n",
    "from natsort import natsorted"
   ]
  },
  {
   "cell_type": "markdown",
   "id": "91cd5a5e-b13b-4c8f-bdd1-b1275385593e",
   "metadata": {},
   "source": [
    "## Define File Paths"
   ]
  },
  {
   "cell_type": "code",
   "execution_count": 9,
   "id": "abe48070-e6f2-4838-949e-3ab0a54968c0",
   "metadata": {},
   "outputs": [],
   "source": [
    "# Directory containing the files\n",
    "directory_path = '/home/jovyan/LNMA/bravoa/data/New2 Fig para colocalizacion Manders-Mito'"
   ]
  },
  {
   "cell_type": "markdown",
   "id": "f5323a68-75f1-429d-9859-7f1a03928fe3",
   "metadata": {},
   "source": [
    "# Functions"
   ]
  },
  {
   "cell_type": "code",
   "execution_count": 21,
   "id": "38822008-ad66-4026-8c2a-846d804f277b",
   "metadata": {},
   "outputs": [],
   "source": [
    "def clean_filenames(directory_path):\n",
    "    # Initialize a list to store cleaned file names\n",
    "    cleaned_file_names = []\n",
    "    # Process each file in the specified directory\n",
    "    for file_name in os.listdir(directory_path):\n",
    "        file_name = file_name.replace(' ', '_').replace('-', '_').replace('/', '_')\n",
    "        file_name = file_name.replace('+', '_').replace('_copy', '')\n",
    "        # Append the cleaned file name to the list\n",
    "        cleaned_file_names.append(file_name)\n",
    "    # Return the list of cleaned file names\n",
    "    return natsorted(cleaned_file_names)"
   ]
  },
  {
   "cell_type": "code",
   "execution_count": 15,
   "id": "d49af07b-24a5-402f-8275-a7a03c720c70",
   "metadata": {},
   "outputs": [
    {
     "data": {
      "text/plain": [
       "['1_Cry11_2mg_2h_MitoT_750nM_60xmed_post_3.5_Z.oib',\n",
       " '1_Cry11_2mg_2h_MitoT_750nM_60xmed_post_3.5_Z.zarr',\n",
       " '2_Cry11_2mg_2h_MitoT_750nM_60x__post_Z3.5_bis_bis.oib',\n",
       " '3_Cry11_2mg_2h_MitoT_750nM_60x__post_Z3.5_bis_3.oib',\n",
       " '4_Cry11_2mg_2h_MitoT_750nM_60x__post_Z3.5_bis_4.oib',\n",
       " '5_Cry11_2mg_2h_MitoT_750nM_60x__post_Z3.5_bis_6.oib',\n",
       " '6_Cry11Ba_1mg_3h_MitoTrack_750nM_60X_ant_bisbis_Z3.5.oib',\n",
       " '7_Cry11Ba_1mg_3h_MitoTrack_750nM_60X_ant_int2_Z3.5.oib',\n",
       " '8_Cry11Ba_1mg_3h_MitoTrack_750nM_60X_ant__bis4_int2_Z3.5.oib',\n",
       " '9_Cry11Ba_1mg_3h_MitoTrack_750nM_60X_ant__bis5_int2_Z3.5.oib',\n",
       " 'RoiSet_1_Cry11_2mg_2h_MitoT_750nM_60xmed_post_3.5_Z.zip',\n",
       " 'RoiSet_2_Cry11_2mg_2h_MitoT_750nM_60x__post_Z3.5_bis_bis.zip',\n",
       " 'RoiSet_3_Cry11_2mg_2h_MitoT_750nM_60x__post_Z3.5_bis_3.zip',\n",
       " 'RoiSet_4_Cry11_2mg_2h_MitoT_750nM_60x__post_Z3.5_bis_4.zip',\n",
       " 'RoiSet_5_Cry11_2mg_2h_MitoT_750nM_60x__post_Z3.5_bis_6.zip',\n",
       " 'RoiSet_6_Cry11Ba_1mg_3h_MitoTrack_750nM_60X_ant_bisbis_Z3.5.zip',\n",
       " 'RoiSet_7_Cry11Ba_1mg_3h_MitoTrack_750nM_60X_ant_int2_Z3.5.zip',\n",
       " 'RoiSet_8_Cry11Ba_1mg_3h_MitoTrack_750nM_60X_ant__bis4_int2_Z3.5.zip',\n",
       " 'RoiSet_9_Cry11Ba_1mg_3h_MitoTrack_750nM_60X_ant__bis5_int2_Z3.5.zip']"
      ]
     },
     "execution_count": 15,
     "metadata": {},
     "output_type": "execute_result"
    }
   ],
   "source": [
    "# Example usage\n",
    "files_names_cleaned = clean_filenames(directory_path)\n",
    "files_names_cleaned"
   ]
  },
  {
   "cell_type": "code",
   "execution_count": 22,
   "id": "6c499163-ce5c-42aa-8cad-d6bdbeac4244",
   "metadata": {},
   "outputs": [
    {
     "data": {
      "text/plain": [
       "[('1_Cry11_2mg_2h_MitoT_750nM_60xmed_post_3.5_Z.oib',\n",
       "  'RoiSet_1_Cry11_2mg_2h_MitoT_750nM_60xmed_post_3.5_Z.zip'),\n",
       " ('2_Cry11_2mg_2h_MitoT_750nM_60x__post_Z3.5_bis_bis.oib',\n",
       "  'RoiSet_2_Cry11_2mg_2h_MitoT_750nM_60x__post_Z3.5_bis_bis.zip'),\n",
       " ('3_Cry11_2mg_2h_MitoT_750nM_60x__post_Z3.5_bis_3.oib',\n",
       "  'RoiSet_3_Cry11_2mg_2h_MitoT_750nM_60x__post_Z3.5_bis_3.zip'),\n",
       " ('4_Cry11_2mg_2h_MitoT_750nM_60x__post_Z3.5_bis_4.oib',\n",
       "  'RoiSet_4_Cry11_2mg_2h_MitoT_750nM_60x__post_Z3.5_bis_4.zip'),\n",
       " ('5_Cry11_2mg_2h_MitoT_750nM_60x__post_Z3.5_bis_6.oib',\n",
       "  'RoiSet_5_Cry11_2mg_2h_MitoT_750nM_60x__post_Z3.5_bis_6.zip'),\n",
       " ('6_Cry11Ba_1mg_3h_MitoTrack_750nM_60X_ant_bisbis_Z3.5.oib',\n",
       "  'RoiSet_6_Cry11Ba_1mg_3h_MitoTrack_750nM_60X_ant_bisbis_Z3.5.zip'),\n",
       " ('7_Cry11Ba_1mg_3h_MitoTrack_750nM_60X_ant_int2_Z3.5.oib',\n",
       "  'RoiSet_7_Cry11Ba_1mg_3h_MitoTrack_750nM_60X_ant_int2_Z3.5.zip'),\n",
       " ('8_Cry11Ba_1mg_3h_MitoTrack_750nM_60X_ant__bis4_int2_Z3.5.oib',\n",
       "  'RoiSet_8_Cry11Ba_1mg_3h_MitoTrack_750nM_60X_ant__bis4_int2_Z3.5.zip'),\n",
       " ('9_Cry11Ba_1mg_3h_MitoTrack_750nM_60X_ant__bis5_int2_Z3.5.oib',\n",
       "  'RoiSet_9_Cry11Ba_1mg_3h_MitoTrack_750nM_60X_ant__bis5_int2_Z3.5.zip')]"
      ]
     },
     "execution_count": 22,
     "metadata": {},
     "output_type": "execute_result"
    }
   ],
   "source": [
    "import re\n",
    "from collections import defaultdict\n",
    "\n",
    "# Dictionaries to store .oib and .zip files by their prefix number\n",
    "oib_files = {}\n",
    "zip_files = {}\n",
    "\n",
    "# Regular expressions to match prefixes in filenames\n",
    "oib_pattern = re.compile(r'^(\\d+)_.*\\.oib$')\n",
    "zip_pattern = re.compile(r'^RoiSet_(\\d+)_.*\\.zip$')\n",
    "\n",
    "# Populate the dictionaries with files based on their number prefix\n",
    "for filename in files_names_cleaned:\n",
    "    oib_match = oib_pattern.match(filename)\n",
    "    zip_match = zip_pattern.match(filename)\n",
    "    \n",
    "    if oib_match:\n",
    "        prefix = oib_match.group(1)\n",
    "        oib_files[prefix] = filename\n",
    "    elif zip_match:\n",
    "        prefix = zip_match.group(1)\n",
    "        zip_files[prefix] = filename\n",
    "\n",
    "# Pair .oib and .zip files by their prefix\n",
    "paired_files = [(oib_files[key], zip_files[key]) for key in oib_files.keys() if key in zip_files]\n",
    "\n",
    "# Display the result\n",
    "paired_files= natsorted(paired_files)\n",
    "\n",
    "paired_files\n"
   ]
  }
 ],
 "metadata": {
  "kernelspec": {
   "display_name": "Python 3 (ipykernel)",
   "language": "python",
   "name": "python3"
  },
  "language_info": {
   "codemirror_mode": {
    "name": "ipython",
    "version": 3
   },
   "file_extension": ".py",
   "mimetype": "text/x-python",
   "name": "python",
   "nbconvert_exporter": "python",
   "pygments_lexer": "ipython3",
   "version": "3.11.8"
  }
 },
 "nbformat": 4,
 "nbformat_minor": 5
}
