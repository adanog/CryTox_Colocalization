{
 "cells": [
  {
   "cell_type": "markdown",
   "id": "ff858efb-92e4-46c0-9d97-6cadae1bbd8a",
   "metadata": {},
   "source": [
    "# Batch OIB to OME-Zarr Conversion and metadata integration\n",
    "\n",
    "Performs batch conversion, name cleaning and add both image and ROI metadata to the OME-Zarr file"
   ]
  },
  {
   "cell_type": "markdown",
   "id": "7e09c7fa-88bb-4a20-98dc-a9797a854e85",
   "metadata": {},
   "source": [
    "## Define directory containing the files to be converted"
   ]
  },
  {
   "cell_type": "code",
   "execution_count": 1,
   "id": "3ed616c2-2504-4204-ba59-35bbd250e99e",
   "metadata": {},
   "outputs": [],
   "source": [
    "directory_path = '/home/jovyan/LNMA/bravoa/data/New2 Fig para colocalizacion Manders-Mito'\n",
    "#directory_path = '/home/jovyan/LNMA/bravoa/data/Seleccion ROIs circulares RE'"
   ]
  },
  {
   "cell_type": "markdown",
   "id": "7b689e47-2797-49ed-a49f-c768d4c438df",
   "metadata": {},
   "source": [
    "## Install Libraries"
   ]
  },
  {
   "cell_type": "code",
   "execution_count": 2,
   "id": "27e3fa49-9c36-47ec-9918-62746f114743",
   "metadata": {},
   "outputs": [
    {
     "name": "stdout",
     "output_type": "stream",
     "text": [
      "Installing necessary libraries...\n",
      "Libraries installed successfully.\n"
     ]
    }
   ],
   "source": [
    "print(\"Installing necessary libraries...\")\n",
    "!pip install natsort oiffile ome-zarr read_roi> /dev/null 2>&1\n",
    "print(\"Libraries installed successfully.\")"
   ]
  },
  {
   "cell_type": "markdown",
   "id": "1fded675-9f84-4029-878e-90217a4b8c35",
   "metadata": {},
   "source": [
    "## Import Libraries"
   ]
  },
  {
   "cell_type": "code",
   "execution_count": 3,
   "id": "e104e01e-d917-41e8-bc8e-9849ba291bb7",
   "metadata": {},
   "outputs": [],
   "source": [
    "import os\n",
    "import oiffile\n",
    "from oiffile import imread\n",
    "import pandas as pd\n",
    "import re\n",
    "from natsort import natsorted\n",
    "\n",
    "import numpy as np\n",
    "import zarr\n",
    "from ome_zarr.io import parse_url\n",
    "import matplotlib.pyplot as plt\n",
    "from read_roi import read_roi_zip"
   ]
  },
  {
   "cell_type": "markdown",
   "id": "3e9c7236-bbc8-441c-9811-6471cf0d4384",
   "metadata": {},
   "source": [
    "## Functions"
   ]
  },
  {
   "cell_type": "code",
   "execution_count": 4,
   "id": "1366e79e-7c70-4012-8214-21d273e2b4e5",
   "metadata": {},
   "outputs": [],
   "source": [
    "def clean_filenames(directory_path):\n",
    "    \"\"\"\n",
    "    Cleans filenames in the specified directory by replacing certain characters\n",
    "    and renaming the files in the filesystem.\n",
    "\n",
    "    Parameters:\n",
    "        directory_path (str): Path to the directory containing the files.\n",
    "\n",
    "    Returns:\n",
    "        list: A list of cleaned file names sorted naturally.\n",
    "    \"\"\"\n",
    "    # Initialize a list to store cleaned file names\n",
    "    cleaned_file_names = []\n",
    "\n",
    "    # Process each file in the specified directory\n",
    "    for file_name in os.listdir(directory_path):\n",
    "        # Construct the original full path\n",
    "        original_path = os.path.join(directory_path, file_name)\n",
    "\n",
    "        # Clean the filename by replacing spaces and other unwanted characters\n",
    "        cleaned_name = file_name.replace(' ', '_').replace('-', '_').replace('/', '_')\n",
    "        cleaned_name = cleaned_name.replace('+', '_').replace('_copy', '')\n",
    "\n",
    "        # Construct the new full path\n",
    "        cleaned_path = os.path.join(directory_path, cleaned_name)\n",
    "\n",
    "        # Rename the file if the cleaned name is different from the original name\n",
    "        if original_path != cleaned_path:\n",
    "            os.rename(original_path, cleaned_path)\n",
    "            #print(f\"Renamed {original_path} to {cleaned_path}\")\n",
    "\n",
    "        # Append the cleaned file name to the list\n",
    "        cleaned_file_names.append(cleaned_name)\n",
    "\n",
    "    # Return the list of cleaned file names, sorted naturally\n",
    "    return natsorted(cleaned_file_names)\n",
    "    \n",
    "def pair_oib_zip_files(files_names_cleaned):\n",
    "    \"\"\"\n",
    "    Pairs .oib and .zip files by their shared numerical prefix after filename cleaning.\n",
    "\n",
    "    Parameters:\n",
    "        files_names_cleaned (list): List of cleaned filenames.\n",
    "\n",
    "    Returns:\n",
    "        list: List of tuples where each tuple contains a paired .oib and .zip file.\n",
    "    \"\"\"\n",
    "    # Dictionaries to store .oib and .zip files by their prefix number\n",
    "    oib_files = {}\n",
    "    zip_files = {}\n",
    "\n",
    "    # Regular expressions to match prefixes in filenames\n",
    "    oib_pattern = re.compile(r'^(\\d+)_.*\\.oib$')\n",
    "    zip_pattern = re.compile(r'^RoiSet_(\\d+)_.*\\.zip$')\n",
    "\n",
    "    # Populate the dictionaries with files based on their number prefix\n",
    "    for filename in files_names_cleaned:\n",
    "        oib_match = oib_pattern.match(filename)\n",
    "        zip_match = zip_pattern.match(filename)\n",
    "        \n",
    "        if oib_match:\n",
    "            prefix = oib_match.group(1)\n",
    "            oib_files[prefix] = filename\n",
    "        elif zip_match:\n",
    "            prefix = zip_match.group(1)\n",
    "            zip_files[prefix] = filename\n",
    "\n",
    "    # Pair .oib and .zip files by their prefix\n",
    "    paired_files = [(oib_files[key], zip_files[key]) for key in oib_files.keys() if key in zip_files]\n",
    "    \n",
    "    # Sort the paired files naturally\n",
    "    return natsorted(paired_files)\n",
    "\n",
    "def create_paths_from_pairs(paired_files, directory_path):\n",
    "    \"\"\"\n",
    "    Generates file paths for each pair of .oib and .zip files.\n",
    "\n",
    "    Parameters:\n",
    "        paired_files (list): List of tuples with paired .oib and .zip filenames.\n",
    "        directory_path (str): Path to the directory containing the files.\n",
    "\n",
    "    Returns:\n",
    "        list: List of dictionaries containing paths for each pair.\n",
    "    \"\"\"\n",
    "    paired_paths = []\n",
    "\n",
    "    for oib_name, rois_name in paired_files:\n",
    "        # Construct the file paths\n",
    "        file_path = os.path.join(directory_path, oib_name)  # .oib file path\n",
    "        rois_path = os.path.join(directory_path, rois_name) # .zip file path\n",
    "        oib_file_path = file_path\n",
    "        ome_zarr_path = f'{file_path[:-4]}.zarr'  # Path with .zarr extension instead of .oib\n",
    "\n",
    "        # Append the paths to the list as a dictionary\n",
    "        paired_paths.append({\n",
    "            'oib_file_path': oib_file_path,\n",
    "            'rois_path': rois_path,\n",
    "            'ome_zarr_path': ome_zarr_path\n",
    "        })\n",
    "        \n",
    "    return paired_paths"
   ]
  },
  {
   "cell_type": "markdown",
   "id": "6e51c4f1-e4f3-47f4-b863-ce6521cecd27",
   "metadata": {},
   "source": [
    "## Clean file names"
   ]
  },
  {
   "cell_type": "code",
   "execution_count": 5,
   "id": "9d41bbce-f74b-40c6-8dc8-3951c76dafc1",
   "metadata": {},
   "outputs": [
    {
     "data": {
      "text/plain": [
       "['1_Cry11_2mg_2h_MitoT_750nM_60xmed_post_3.5_Z.oib',\n",
       " '1_Cry11_2mg_2h_MitoT_750nM_60xmed_post_3.5_Z.zarr',\n",
       " '2_Cry11_2mg_2h_MitoT_750nM_60x__post_Z3.5_bis_bis.oib',\n",
       " '2_Cry11_2mg_2h_MitoT_750nM_60x__post_Z3.5_bis_bis.zarr',\n",
       " '3_Cry11_2mg_2h_MitoT_750nM_60x__post_Z3.5_bis_3.oib',\n",
       " '3_Cry11_2mg_2h_MitoT_750nM_60x__post_Z3.5_bis_3.zarr',\n",
       " '4_Cry11_2mg_2h_MitoT_750nM_60x__post_Z3.5_bis_4.oib',\n",
       " '4_Cry11_2mg_2h_MitoT_750nM_60x__post_Z3.5_bis_4.zarr',\n",
       " '5_Cry11_2mg_2h_MitoT_750nM_60x__post_Z3.5_bis_6.oib',\n",
       " '5_Cry11_2mg_2h_MitoT_750nM_60x__post_Z3.5_bis_6.zarr',\n",
       " '6_Cry11Ba_1mg_3h_MitoTrack_750nM_60X_ant_bisbis_Z3.5.oib',\n",
       " '6_Cry11Ba_1mg_3h_MitoTrack_750nM_60X_ant_bisbis_Z3.5.zarr',\n",
       " '7_Cry11Ba_1mg_3h_MitoTrack_750nM_60X_ant_int2_Z3.5.oib',\n",
       " '7_Cry11Ba_1mg_3h_MitoTrack_750nM_60X_ant_int2_Z3.5.zarr',\n",
       " '8_Cry11Ba_1mg_3h_MitoTrack_750nM_60X_ant__bis4_int2_Z3.5.oib',\n",
       " '8_Cry11Ba_1mg_3h_MitoTrack_750nM_60X_ant__bis4_int2_Z3.5.zarr',\n",
       " '9_Cry11Ba_1mg_3h_MitoTrack_750nM_60X_ant__bis5_int2_Z3.5.oib',\n",
       " '9_Cry11Ba_1mg_3h_MitoTrack_750nM_60X_ant__bis5_int2_Z3.5.zarr',\n",
       " '.ipynb_checkpoints',\n",
       " 'RoiSet_1_Cry11_2mg_2h_MitoT_750nM_60xmed_post_3.5_Z.zip',\n",
       " 'RoiSet_2_Cry11_2mg_2h_MitoT_750nM_60x__post_Z3.5_bis_bis.zip',\n",
       " 'RoiSet_3_Cry11_2mg_2h_MitoT_750nM_60x__post_Z3.5_bis_3.zip',\n",
       " 'RoiSet_4_Cry11_2mg_2h_MitoT_750nM_60x__post_Z3.5_bis_4.zip',\n",
       " 'RoiSet_5_Cry11_2mg_2h_MitoT_750nM_60x__post_Z3.5_bis_6.zip',\n",
       " 'RoiSet_6_Cry11Ba_1mg_3h_MitoTrack_750nM_60X_ant_bisbis_Z3.5.zip',\n",
       " 'RoiSet_7_Cry11Ba_1mg_3h_MitoTrack_750nM_60X_ant_int2_Z3.5.zip',\n",
       " 'RoiSet_8_Cry11Ba_1mg_3h_MitoTrack_750nM_60X_ant__bis4_int2_Z3.5.zip',\n",
       " 'RoiSet_9_Cry11Ba_1mg_3h_MitoTrack_750nM_60X_ant__bis5_int2_Z3.5.zip']"
      ]
     },
     "execution_count": 5,
     "metadata": {},
     "output_type": "execute_result"
    }
   ],
   "source": [
    "# Example usage:\n",
    "cleaned_files = clean_filenames(directory_path)\n",
    "cleaned_files"
   ]
  },
  {
   "cell_type": "markdown",
   "id": "bf875801-278b-44a4-a022-794cd3d2b340",
   "metadata": {},
   "source": [
    "## Define File Paths Dictionary"
   ]
  },
  {
   "cell_type": "code",
   "execution_count": 6,
   "id": "bb64587a-fef7-4dbc-ab6a-ab2e9fc0cb16",
   "metadata": {},
   "outputs": [],
   "source": [
    "paired_files = pair_oib_zip_files(cleaned_files)\n",
    "paired_paths = create_paths_from_pairs(paired_files, directory_path)\n",
    "#paired_paths"
   ]
  },
  {
   "cell_type": "markdown",
   "id": "f6fb4199-8ab1-48a6-b9db-463a0da2139b",
   "metadata": {},
   "source": [
    "## Create OME-Zarr files with metadata and rois included"
   ]
  },
  {
   "cell_type": "code",
   "execution_count": 7,
   "id": "f020b656-e866-46dc-801b-b627a98f39e3",
   "metadata": {},
   "outputs": [
    {
     "name": "stdout",
     "output_type": "stream",
     "text": [
      "Conversion complete. The OME-Zarr files are saved with all metadata.\n"
     ]
    }
   ],
   "source": [
    "for paths in paired_paths:\n",
    "    oib_file_path = paths['oib_file_path']\n",
    "    rois_path = paths['rois_path']\n",
    "    ome_zarr_path = paths['ome_zarr_path']\n",
    "    with oiffile.OifFile(oib_file_path) as oib:\n",
    "        image_data = oib.asarray()  # Load image data\n",
    "        all_metadata = dict(oib.mainfile)  # Retrieve all metadata as a dictionary\n",
    "    \n",
    "    ## Load rois\n",
    "    rois = read_roi_zip(rois_path)\n",
    "    roi_metadata = [\n",
    "        {\n",
    "            \"name\": roi_name,\n",
    "            \"type\": roi_data.get(\"type\"),\n",
    "            \"left\": roi_data.get(\"left\"),\n",
    "            \"top\": roi_data.get(\"top\"),\n",
    "            \"width\": roi_data.get(\"width\"),\n",
    "            \"height\": roi_data.get(\"height\"),\n",
    "            \"arc_size\": roi_data.get(\"arc_size\"),\n",
    "            \"position\": roi_data.get(\"position\"),\n",
    "        }\n",
    "        for roi_name, roi_data in rois.items()\n",
    "    ]\n",
    "    \n",
    "    ## Format Image Data for OME-Zarr\n",
    "    \n",
    "    # Ensure data shape is in (T, C, Z, Y, X) format\n",
    "    while image_data.ndim < 5:\n",
    "        image_data = np.expand_dims(image_data, axis=0)  # Add dimensions as needed\n",
    "\n",
    "    # Convert the data to a numpy array (if not already)\n",
    "    image_data = np.asarray(image_data)\n",
    "\n",
    "    # Reorder data\n",
    "    image_data = image_data.transpose(0, 2, 1, 3, 4)\n",
    "    \n",
    "    ## Remove Existing Zarr Store (if exists)\n",
    "    if os.path.exists(ome_zarr_path):\n",
    "        import shutil\n",
    "        shutil.rmtree(ome_zarr_path)\n",
    "        \n",
    "    ## Save Image Data and Metadata to OME-Zarr\n",
    "    store = parse_url(ome_zarr_path, mode=\"w\").store\n",
    "    root = zarr.group(store=store)\n",
    "    dataset = root.create_dataset(\"image_data\", data=image_data, chunks=True)\n",
    "\n",
    "    # Save image metadata and ROI metadata as attributes\n",
    "    root.attrs[\"image_metadata\"] = all_metadata\n",
    "    root.attrs[\"roi_metadata\"] = roi_metadata\n",
    "\n",
    "print(\"Conversion complete. The OME-Zarr files are saved with all metadata.\")\n"
   ]
  }
 ],
 "metadata": {
  "kernelspec": {
   "display_name": "Python 3 (ipykernel)",
   "language": "python",
   "name": "python3"
  },
  "language_info": {
   "codemirror_mode": {
    "name": "ipython",
    "version": 3
   },
   "file_extension": ".py",
   "mimetype": "text/x-python",
   "name": "python",
   "nbconvert_exporter": "python",
   "pygments_lexer": "ipython3",
   "version": "3.11.8"
  }
 },
 "nbformat": 4,
 "nbformat_minor": 5
}
