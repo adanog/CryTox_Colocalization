{
 "cells": [
  {
   "cell_type": "markdown",
   "id": "d5cbdaa2-3945-40cd-9b78-fa5cdbdc33e8",
   "metadata": {},
   "source": [
    "# MSSR and Manders' Colocalization Analysis\n",
    "\n",
    "This script evaluates the colocalization between fluorophores using Manders' coefficients and the impact of **Mean Shift Super Resolution (MSSR)**. It simulates two fluorophores, progressively separates them, and analyzes colocalization at varying distances.\n",
    "\n",
    "## Key Features\n",
    "\n",
    "- **Fluorophore Modeling**: \n",
    "  Uses Gaussian distributions to simulate fluorescence emitters based on physical parameters: emission wavelengths (543 nm, 603 nm), NA (1.3), and pixel size (60 μm).\n",
    "\n",
    "- **MSSR Application**: \n",
    "  Enhances resolution as described in [Nature Communications, 2022](https://www.nature.com/articles/s41467-022-34693-9). Compares diffraction-limited and MSSR-enhanced data.\n",
    "\n",
    "- **Colocalization Analysis**: \n",
    "  Computes Manders' coefficients (M1 and M2) with varying thresholds (0.5 to 0.001).\n",
    "\n",
    "- **Distance Dependency**: \n",
    "  Analyzes the effect of inter-emitter distance (in nanometers) on colocalization.\n",
    "\n",
    "## Outputs\n",
    "\n",
    "- **Colocalization Plots**: \n",
    "  Visualizes M1 and M2 coefficients for diffraction-limited and MSSR-enhanced data.\n",
    "  \n",
    "- **Threshold Analysis**: \n",
    "  Compares the impact of multiple thresholds on colocalization results.\n",
    "\n",
    "- **PDF Reports**: \n",
    "  Saves all plots in a single PDF.\n",
    "\n",
    "## Recommendations\n",
    "\n",
    "- Use a Manders' threshold of **0.1** for optimal sensitivity.\n",
    "- MSSR is recommended for reliable colocalization analysis by improving spatial resolution.\n",
    "\n",
    "## Contact\n",
    "\n",
    "For questions or suggestions, contact **Adan Guerrero / LNMA-UNAM** at **adan.guerrero@ibt.unam.mx**."
   ]
  },
  {
   "cell_type": "markdown",
   "id": "57cb5ca6-7902-472f-9076-3993d6160f26",
   "metadata": {},
   "source": [
    "## Install Required Libraries"
   ]
  },
  {
   "cell_type": "code",
   "execution_count": 1,
   "id": "bd18cd58-a688-41a2-a51e-fb05ddd4924e",
   "metadata": {},
   "outputs": [
    {
     "name": "stdout",
     "output_type": "stream",
     "text": [
      "Installing necessary libraries...\n",
      "Libraries installed successfully.\n"
     ]
    }
   ],
   "source": [
    "print(\"Installing necessary libraries...\")\n",
    "!pip install ome-zarr PyQt5 napari[all] > /dev/null 2>&1\n",
    "!pip install git+https://github.com/RoccoDAnt/napari-superres.git > /dev/null 2>&1\n",
    "print(\"Libraries installed successfully.\")"
   ]
  },
  {
   "cell_type": "markdown",
   "id": "5a564bc7-2628-44fb-a764-87c651ba455a",
   "metadata": {},
   "source": [
    "## Libraries"
   ]
  },
  {
   "cell_type": "code",
   "execution_count": 2,
   "id": "1e3dbea8-2ee1-42cf-a1b7-1c19b0ff21bd",
   "metadata": {},
   "outputs": [
    {
     "name": "stderr",
     "output_type": "stream",
     "text": [
      "/opt/conda/lib/python3.11/site-packages/pytools/persistent_dict.py:52: RecommendedHashNotFoundWarning: Unable to import recommended hash 'siphash24.siphash13', falling back to 'hashlib.sha256'. Run 'python3 -m pip install siphash24' to install the recommended hash.\n",
      "  warn(\"Unable to import recommended hash 'siphash24.siphash13', \"\n",
      "/opt/conda/lib/python3.11/site-packages/liquid_engine/__opencl__.py:125: UserWarning: tap... tap... tap... COMPUTER SAYS NO (OpenCL)!\n",
      "  warnings.warn(\"tap... tap... tap... COMPUTER SAYS NO (OpenCL)!\")\n"
     ]
    },
    {
     "name": "stdout",
     "output_type": "stream",
     "text": [
      "This exception is what's causing cl equals None: clGetPlatformIDs failed: PLATFORM_NOT_FOUND_KHR\n",
      "Cupy implementation is not available. Make sure you have the right version of Cupy and CUDA installed.\n",
      "Optional dependecy Dask_image is not installed. Implementations using it will be ignored.\n"
     ]
    }
   ],
   "source": [
    "import numpy as np\n",
    "import matplotlib.pyplot as plt\n",
    "import os\n",
    "from napari_superres.core_mssr import mssr_class\n",
    "mssr_instance = mssr_class()\n",
    "\n",
    "from matplotlib.backends.backend_pdf import PdfPages"
   ]
  },
  {
   "cell_type": "markdown",
   "id": "69ec98a1-ee96-4c7d-9911-70ba7060d829",
   "metadata": {},
   "source": [
    "## Supporting functions"
   ]
  },
  {
   "cell_type": "code",
   "execution_count": 16,
   "id": "b023c7bd-ffd0-4386-b433-53c3563c4326",
   "metadata": {},
   "outputs": [],
   "source": [
    "def calculate_physical_fwhm(lambda_nm, pixel_size_um, na):\n",
    "    \"\"\"\n",
    "    Calculate the physical FWHM in pixels based on the emission wavelength, pixel size, and numerical aperture.\n",
    "    \"\"\"\n",
    "    # Convert wavelength from nm to um\n",
    "    lambda_um = lambda_nm * 1e-3  # Convert nm to micrometers\n",
    "    # Airy disk radius (Rayleigh criterion)\n",
    "    r_um = 1.22 * lambda_um / (2 * na)\n",
    "    # Diameter of Airy disk\n",
    "    fwhm_um = 2 * r_um\n",
    "    # Convert to pixels\n",
    "    fwhm_pixels = fwhm_um / pixel_size_um\n",
    "    return fwhm_pixels\n",
    " \n",
    "# Generate a 2D Gaussian matrix\n",
    "def generate_gaussian(size, sigma, shift_x=0, shift_y=0):\n",
    "    xc = + 0.2*size\n",
    "    yc = 0\n",
    "    x = np.arange(size) - size // 2\n",
    "    y = np.arange(size) - size // 2\n",
    "    x, y = np.meshgrid(x, y)\n",
    "    gaussian = np.exp(-(((x - shift_x + xc) ** 2 + (y - shift_y +yc) ** 2) / (2 * sigma**2)))\n",
    "    return gaussian / np.max(gaussian)\n",
    "\n",
    "# Normalize a channel for visualization\n",
    "def normalize_channel(channel):\n",
    "    return (channel - np.min(channel)) / (np.max(channel) - np.min(channel))\n",
    "\n",
    "# Compute Manders' colocalization coefficients\n",
    "#def manders_colocalization(image1, image2):\n",
    "#    overlap = np.logical_and(image1 > 0, image2 > 0)\n",
    "#    m1 = np.sum(overlap) / np.sum(image1 > 0) if np.sum(image1 > 0) > 0 else 0\n",
    "#    m2 = np.sum(overlap) / np.sum(image2 > 0) if np.sum(image2 > 0) > 0 else 0\n",
    "#    return m1, m2\n",
    "\n",
    "\n",
    "def manders_colocalization(image1, image2, threshold=0):\n",
    "    # Apply threshold\n",
    "    mask1 = image1 > threshold * np.max(image1)\n",
    "    mask2 = image2 > threshold * np.max(image2)\n",
    "    overlap = np.logical_and(mask1, mask2)\n",
    "    m1 = np.sum(overlap) / np.sum(mask1) if np.sum(mask1) > 0 else 0\n",
    "    m2 = np.sum(overlap) / np.sum(mask2) if np.sum(mask2) > 0 else 0\n",
    "    return m1, m2\n",
    "\n",
    "def normalize_and_visualize(\n",
    "    roi_channel_m1,\n",
    "    roi_channel_m2,\n",
    "    roi_channel_m1_mssr,\n",
    "    roi_channel_m2_mssr,\n",
    "    size,\n",
    "    shift,\n",
    "):\n",
    "    norm_channel_m1 = normalize_channel(roi_channel_m1)\n",
    "    norm_channel_m2 = normalize_channel(roi_channel_m2)\n",
    "    norm_channel_m1_mssr = normalize_channel(roi_channel_m1_mssr)\n",
    "    norm_channel_m2_mssr = normalize_channel(roi_channel_m2_mssr)\n",
    "\n",
    "    # Create RGB images\n",
    "    green_channel_m1 = np.zeros((size, size, 3), dtype=float)\n",
    "    red_channel_m2 = np.zeros((size, size, 3), dtype=float)\n",
    "    green_channel_m1_mssr = np.zeros((size, size, 3), dtype=float)\n",
    "    red_channel_m2_mssr = np.zeros((size, size, 3), dtype=float)\n",
    "\n",
    "    green_channel_m1[..., 1] = norm_channel_m1  # Channel 1 in green\n",
    "    red_channel_m2[..., 0] = norm_channel_m2  # Channel 2 in red\n",
    "    green_channel_m1_mssr[..., 1] = norm_channel_m1_mssr  # Channel 1 in green after MSSR\n",
    "    red_channel_m2_mssr[..., 0] = norm_channel_m2_mssr  # Channel 2 in red after MSSR\n",
    "\n",
    "    # Create combined RGB overlays\n",
    "    combined_before = np.zeros((size, size, 3), dtype=float)\n",
    "    combined_before[..., 1] = norm_channel_m1  # Channel 1 in green\n",
    "    combined_before[..., 0] = norm_channel_m2  # Channel 2 in red\n",
    "\n",
    "    combined_after = np.zeros((size, size, 3), dtype=float)\n",
    "    combined_after[..., 1] = norm_channel_m1_mssr  # Channel 1 in green\n",
    "    combined_after[..., 0] = norm_channel_m2_mssr  # Channel 2 in red\n",
    "\n",
    "    # Visualization\n",
    "    plt.figure(figsize=(20, 5))\n",
    "\n",
    "    # Display the original images\n",
    "    plt.subplot(1, 6, 1)\n",
    "    plt.title(\"Channel 1 (Static)\")\n",
    "    plt.imshow(green_channel_m1)\n",
    "    plt.axis(\"off\")\n",
    "\n",
    "    plt.subplot(1, 6, 2)\n",
    "    plt.title(f\"Channel 2 (Shift = {shift:.2f})\")\n",
    "    plt.imshow(red_channel_m2)\n",
    "    plt.axis(\"off\")\n",
    "\n",
    "    # Display MSSR images\n",
    "    plt.subplot(1, 6, 3)\n",
    "    plt.title(\"Channel 1 After MSSR\")\n",
    "    plt.imshow(green_channel_m1_mssr)\n",
    "    plt.axis(\"off\")\n",
    "\n",
    "    plt.subplot(1, 6, 4)\n",
    "    plt.title(\"Channel 2 After MSSR\")\n",
    "    plt.imshow(red_channel_m2_mssr)\n",
    "    plt.axis(\"off\")\n",
    "\n",
    "    # Display overlays\n",
    "    plt.subplot(1, 6, 5)\n",
    "    plt.title(f\"Overlay Before MSSR\")\n",
    "    plt.imshow(combined_before)\n",
    "    plt.axis(\"off\")\n",
    "\n",
    "    plt.subplot(1, 6, 6)\n",
    "    plt.title(f\"Overlay After MSSR\")\n",
    "    plt.imshow(combined_after)\n",
    "    plt.axis(\"off\")\n",
    "\n",
    "    plt.show()\n",
    "\n",
    "def process_gaussian_shifts(size, sigma1, sigma2, steps, mssr_instance, mssr_fwhm, amp, order, mesh, ftI, intNorm, \n",
    "                            M_threshold, pixel_size_um, normalize_and_visualize, PLOT=True):\n",
    "    \"\"\"\n",
    "    Process Gaussian distributions with varying shifts, compute Manders' coefficients for \n",
    "    diffraction-limited and MSSR-corrected data, and visualize results.\n",
    "\n",
    "    Args:\n",
    "        size (int): Size of the Gaussian image matrix.\n",
    "        sigma1 (float): Standard deviation for the first Gaussian.\n",
    "        sigma2 (float): Standard deviation for the second Gaussian.\n",
    "        steps (list): List of shifts to apply to the second Gaussian.\n",
    "        mssr_instance (object): Initialized MSSR instance for sharpening.\n",
    "        mssr_fwhm (float): Full-width at half maximum for MSSR sharpening.\n",
    "        amp (float): Amplitude scaling for MSSR.\n",
    "        order (int): Order of derivative for MSSR.\n",
    "        mesh (bool): Apply MSSR to a mesh grid.\n",
    "        ftI (bool): Fourier transform option for MSSR.\n",
    "        intNorm (bool): Intensity normalization for MSSR.\n",
    "        M_threshold (float): Threshold for Manders' colocalization.\n",
    "        pixel_size_um (float): Pixel size in micrometers for physical unit conversion.\n",
    "        normalize_and_visualize (function): Function to normalize and visualize results.\n",
    "\n",
    "    Returns:\n",
    "        tuple: (manders_diffraction_results, manders_results)\n",
    "    \"\"\"\n",
    "    # Generate the first Gaussian distribution\n",
    "    roi_channel_m1 = generate_gaussian(size, sigma1).astype(np.float32)\n",
    "\n",
    "    # Initialize storage for Manders' coefficients\n",
    "    manders_results = []\n",
    "    manders_diffraction_results = []\n",
    "\n",
    "    # Loop through shifts\n",
    "    for shift in steps:\n",
    "        roi_channel_m2 = generate_gaussian(size, sigma2, shift_x=shift).astype(np.float32)\n",
    "\n",
    "        # Compute Manders' coefficients for diffraction-limited data\n",
    "        m1_diffraction, m2_diffraction = manders_colocalization(roi_channel_m1, roi_channel_m2, M_threshold)\n",
    "        manders_diffraction_results.append((shift, round(m1_diffraction, 3), round(m2_diffraction, 3)))\n",
    "        print(f\"Shift: {shift* pixel_size_um * 1e3:.2f} nm -> M1 (Diffraction): {round(m1_diffraction, 3)}, M2 (Diffraction): {round(m2_diffraction, 3)}\")\n",
    "\n",
    "        # Apply MSSR sharpening\n",
    "        roi_channel_m1_mssr = mssr_instance.sfMSSR(\n",
    "            img=roi_channel_m1, fwhm=mssr_fwhm, amp=amp, order=order, mesh=mesh, ftI=ftI, intNorm=intNorm\n",
    "        )\n",
    "        roi_channel_m2_mssr = mssr_instance.sfMSSR(\n",
    "            img=roi_channel_m2, fwhm=mssr_fwhm, amp=amp, order=order, mesh=mesh, ftI=ftI, intNorm=intNorm\n",
    "        )\n",
    "\n",
    "        # Compute Manders' coefficients for MSSR-corrected data\n",
    "        m1_mssr, m2_mssr = manders_colocalization(roi_channel_m1_mssr, roi_channel_m2_mssr, M_threshold)\n",
    "        manders_results.append((shift, round(m1_mssr, 3), round(m2_mssr, 3)))\n",
    "        print(f\"Shift: {shift * pixel_size_um * 1e3:.2f} nm -> M1 (MSSR): {round(m1_mssr, 3)}, M2 (MSSR): {round(m2_mssr, 3)}\")\n",
    "\n",
    "        # Call the normalization and visualization function\n",
    "        if(PLOT):\n",
    "            normalize_and_visualize(\n",
    "                roi_channel_m1, roi_channel_m2, roi_channel_m1_mssr, roi_channel_m2_mssr, size, shift\n",
    "            )\n",
    "    \n",
    "    return manders_diffraction_results, manders_results\n",
    "\n",
    "def plot_manders_results_grid(results_dict, pixel_size_um, output_pdf=\"Manders_Coefficients_Grid.pdf\"):\n",
    "    \"\"\"\n",
    "    Plot Manders' coefficients for all thresholds in a grid (2 rows x 3 columns per page) and save them in a single PDF.\n",
    "    \"\"\"\n",
    "    with PdfPages(output_pdf) as pdf:\n",
    "        # Number of plots per page\n",
    "        plots_per_page = 6\n",
    "        # Create a list of all thresholds\n",
    "        thresholds = list(results_dict.keys())\n",
    "        \n",
    "        # Iterate through pages\n",
    "        for page_start in range(0, len(thresholds), plots_per_page):\n",
    "            # Create a new figure for each page\n",
    "            fig, axes = plt.subplots(2, 3, figsize=(8, 8))  # 2 rows x 3 columns\n",
    "            axes = axes.flatten()  # Flatten the 2D axes array for easy iteration\n",
    "            \n",
    "            # Get the thresholds for this page\n",
    "            current_thresholds = thresholds[page_start:page_start + plots_per_page]\n",
    "            \n",
    "            # Plot each threshold on this page\n",
    "            for idx, M_threshold in enumerate(current_thresholds):\n",
    "                results = results_dict[M_threshold]\n",
    "                manders_diffraction_results = results[\"manders_diffraction_results\"]\n",
    "                manders_results = results[\"manders_results\"]\n",
    "                \n",
    "                # Extract shift values and convert to nanometers\n",
    "                shifts = [result[0] for result in manders_results]\n",
    "                shifts_nm = [shift * pixel_size_um * 1e3 for shift in shifts]\n",
    "                \n",
    "                # Extract Manders' coefficients\n",
    "                m1_diffraction_values = [result[1] for result in manders_diffraction_results]\n",
    "                m2_diffraction_values = [result[2] for result in manders_diffraction_results]\n",
    "                m1_mssr_values = [result[1] for result in manders_results]\n",
    "                m2_mssr_values = [result[2] for result in manders_results]\n",
    "                \n",
    "                # Plot on the current axis\n",
    "                ax = axes[idx]\n",
    "                ax.plot(shifts_nm, m1_diffraction_values, label=\"M1 (DL)\", linestyle=\"--\", color=\"blue\", marker=\"o\", alpha=0.8)\n",
    "                ax.plot(shifts_nm, m2_diffraction_values, label=\"M2 (DL)\", linestyle=\"--\", color=\"orange\", marker=\"o\", alpha=0.8)\n",
    "                ax.plot(shifts_nm, m1_mssr_values, label=\"M1 (MSSR)\", linestyle=\"-\", color=\"green\", marker=\"o\", alpha=0.8)\n",
    "                ax.plot(shifts_nm, m2_mssr_values, label=\"M2 (MSSR)\", linestyle=\"-\", color=\"red\", marker=\"o\", alpha=0.8)\n",
    "                \n",
    "                # Set title and grid for the current subplot\n",
    "                ax.set_title(f\"Threshold: {M_threshold}\", fontsize=10)\n",
    "                ax.set_xlabel(\"Distance (nm)\", fontsize=8)\n",
    "                ax.set_ylabel(\"Manders' Coefficient\", fontsize=8)\n",
    "                ax.grid(True, linestyle=\"--\", alpha=0.6)\n",
    "                ax.tick_params(axis='both', which='major', labelsize=8)\n",
    "            \n",
    "            # Hide unused axes\n",
    "            for remaining_idx in range(len(current_thresholds), len(axes)):\n",
    "                fig.delaxes(axes[remaining_idx])\n",
    "            \n",
    "            # Add a shared legend to the figure\n",
    "            handles, labels = axes[0].get_legend_handles_labels()\n",
    "            fig.legend(handles, labels, loc=\"upper center\", fontsize=10, ncol=4, frameon=False)\n",
    "\n",
    "            # Adjust layout and save the current page\n",
    "            fig.tight_layout(rect=[0, 0, 1, 0.95])  # Leave space for the legend\n",
    "            pdf.savefig(fig)\n",
    "            plt.close(fig)  # Close the figure to prepare for the next page\n",
    "\n",
    "        print(f\"Grid plots saved to PDF: {output_pdf}\")\n",
    "        plt.show()\n",
    "\n",
    "def plot_m1_comparison_side_by_side(results_dict, pixel_size_um, output_pdf=\"M1_Threshold_Comparison_SideBySide.pdf\"):\n",
    "    \"\"\"\n",
    "    Plot M1 coefficients for diffraction-limited and MSSR data across thresholds side by side.\n",
    "    \n",
    "    Parameters:\n",
    "    - results_dict: Dictionary with Manders' results for different thresholds.\n",
    "    - pixel_size_um: Pixel size in micrometers to convert shifts to nanometers.\n",
    "    - output_pdf: Path to save the plots as a single PDF.\n",
    "    \"\"\"\n",
    "    # Convert thresholds to a sorted list\n",
    "    thresholds = sorted(results_dict.keys())\n",
    "    \n",
    "    # Initialize lists to store data\n",
    "    shifts_nm = None\n",
    "    m1_diffraction_by_threshold = []\n",
    "    m1_mssr_by_threshold = []\n",
    "    \n",
    "    # Extract M1 data for all thresholds\n",
    "    for M_threshold in thresholds:\n",
    "        results = results_dict[M_threshold]\n",
    "        manders_diffraction_results = results[\"manders_diffraction_results\"]\n",
    "        manders_results = results[\"manders_results\"]\n",
    "        \n",
    "        # Extract shifts (convert only once, as shifts are the same for all thresholds)\n",
    "        if shifts_nm is None:\n",
    "            shifts = [result[0] for result in manders_results]\n",
    "            shifts_nm = [shift * pixel_size_um * 1e3 for shift in shifts]\n",
    "        \n",
    "        # Extract M1 coefficients\n",
    "        m1_diffraction_values = [result[1] for result in manders_diffraction_results]\n",
    "        m1_mssr_values = [result[1] for result in manders_results]\n",
    "        \n",
    "        # Store data for plotting\n",
    "        m1_diffraction_by_threshold.append(m1_diffraction_values)\n",
    "        m1_mssr_by_threshold.append(m1_mssr_values)\n",
    "    \n",
    "    # Create plots side by side\n",
    "    with PdfPages(output_pdf) as pdf:\n",
    "        fig, axes = plt.subplots(1, 2, figsize=(8, 4))  # 1 row, 2 columns\n",
    "        \n",
    "        # Plot M1 (Diffraction-Limited) on the first subplot\n",
    "        for idx, M_threshold in enumerate(thresholds):\n",
    "            axes[0].plot(\n",
    "                shifts_nm, \n",
    "                m1_diffraction_by_threshold[idx], \n",
    "                label=f\"Threshold: {M_threshold}\", \n",
    "                linestyle=\"--\", \n",
    "                marker=\"o\", \n",
    "                alpha=0.8\n",
    "            )\n",
    "        axes[0].set_title(\"M1 (DL)\", fontsize=14, fontweight=\"bold\")\n",
    "        axes[0].set_xlabel(\"Inter-Emitter Distance (nm)\", fontsize=12)\n",
    "        axes[0].set_ylabel(\"M1 Coefficient\", fontsize=12)\n",
    "        axes[0].grid(True, linestyle=\"--\", alpha=0.6)\n",
    "        axes[0].legend(fontsize=10, loc=\"best\")\n",
    "        \n",
    "        # Plot M1 (MSSR) on the second subplot\n",
    "        for idx, M_threshold in enumerate(thresholds):\n",
    "            axes[1].plot(\n",
    "                shifts_nm, \n",
    "                m1_mssr_by_threshold[idx], \n",
    "                label=f\"Threshold: {M_threshold}\", \n",
    "                linestyle=\"-\", \n",
    "                marker=\"o\", \n",
    "                alpha=0.8\n",
    "            )\n",
    "        axes[1].set_title(\"M1 (MSSR)\", fontsize=14, fontweight=\"bold\")\n",
    "        axes[1].set_xlabel(\"Inter-Emitter Distance (nm)\", fontsize=12)\n",
    "        axes[1].set_ylabel(\"M1 Coefficient\", fontsize=12)\n",
    "        axes[1].grid(True, linestyle=\"--\", alpha=0.6)\n",
    "        axes[1].legend(fontsize=10, loc=\"best\")\n",
    "        \n",
    "        # Adjust layout and save\n",
    "        fig.tight_layout()\n",
    "        pdf.savefig(fig)\n",
    "        plt.close(fig)  # Close the figure after saving\n",
    "        plt.show()\n",
    "        print(f\"Side-by-side plots saved to PDF: {output_pdf}\")"
   ]
  },
  {
   "cell_type": "markdown",
   "id": "cda27525-b024-4cd2-a0b2-3679d55f8030",
   "metadata": {},
   "source": [
    "## Parameters"
   ]
  },
  {
   "cell_type": "code",
   "execution_count": 14,
   "id": "36568d0e-e2d8-4f21-bfa6-2f672bdd21f7",
   "metadata": {},
   "outputs": [
    {
     "name": "stdout",
     "output_type": "stream",
     "text": [
      "FWHM (Green): 50.96 pixels, 510 nm, Sigma (Green): 21.64 pixels\n",
      "FWHM (Red): 50.96 pixels, 510 nm, Sigma (Red): 21.64 pixels\n"
     ]
    }
   ],
   "source": [
    "# Microscope and fluorescence parameters\n",
    "# Parameters\n",
    "#size = 64  # Matrix size (e.g., 64x64)\n",
    "#pixel_size_um = 0.059  # Pixel size in micrometers\n",
    "\n",
    "#size = 512  # Matrix size (e.g., 64x64)\n",
    "#pixel_size_um = 0.005  # Pixel size in micrometers\n",
    "#na = 1.3  # Numerical aperture\n",
    "\n",
    "wd = '/home/jovyan/LNMA/bravoa/model'\n",
    "results_name = \"04_MSSR-Manders-Thresholds\"\n",
    "pdf_path = os.path.join(wd, results_name +\".pdf\")\n",
    "\n",
    "\n",
    "na = 1.3  # Numerical aperture\n",
    "#size = 64  # Matrix size (e.g., 64x64)\n",
    "#pixel_size_um = 0.05  # Pixel size in micrometers\n",
    "size = 256  # Matrix size (e.g., 64x64)\n",
    "pixel_size_um = 0.01  # Pixel size in micrometers\n",
    "\n",
    "# Wavelengths for green and red fluorescence\n",
    "lambda1_nm = 543  # Green emission in nm\n",
    "lambda2_nm = lambda1_nm #603  # Red emission in nm\n",
    "\n",
    "# Calculate FWHM for green and red fluorescence in pixels\n",
    "fwhm1 = calculate_physical_fwhm(lambda1_nm, pixel_size_um, na)\n",
    "fwhm2 = calculate_physical_fwhm(lambda2_nm, pixel_size_um, na)\n",
    "\n",
    "# Convert FWHM to sigma\n",
    "sigma1 = fwhm1 / 2.355  # Sigma for green fluorescence\n",
    "sigma2 = fwhm2 / 2.355  # Sigma for red fluorescence\n",
    "\n",
    "print(f\"FWHM (Green): {fwhm1:.2f} pixels, {fwhm1* pixel_size_um * 1e3:.0f} nm, Sigma (Green): {sigma1:.2f} pixels\")\n",
    "print(f\"FWHM (Red): {fwhm2:.2f} pixels, {fwhm2* pixel_size_um * 1e3:.0f} nm, Sigma (Red): {sigma2:.2f} pixels\")\n",
    "\n",
    "\n",
    "# MSSR parameters\n",
    "mssr_fwhm = fwhm2/1.22 # Full width at half maximum for MSSR sharpening\n",
    "amp = 1  # Amplitude scaling for MSSR\n",
    "order = 1  # Order of derivative\n",
    "mesh = True  # Apply MSSR to a mesh grid\n",
    "ftI = False  # Fourier transform option (False for spatial domain)\n",
    "intNorm = False  # Intensity normalization (False to preserve raw intensity)\n",
    "\n",
    "###  Steps to separate the Gaussians\n",
    "\n",
    "steps = np.arange(0, 5 * sigma2, 0.1 * sigma2)\n",
    "\n",
    "### Threshold for Manders' coloc\n",
    "#M_threshold=0.1\n",
    "\n",
    "M_threshold_values = [0, 0.001, 0.01, 0.1, 0.25, 0.5] "
   ]
  },
  {
   "cell_type": "markdown",
   "id": "bb0ed635-8fe8-487d-95bd-b0e969ef833d",
   "metadata": {},
   "source": [
    "## Main analysis"
   ]
  },
  {
   "cell_type": "code",
   "execution_count": 5,
   "id": "75ca1ec6-0736-4efc-acdf-dbc907f1aabf",
   "metadata": {
    "scrolled": true
   },
   "outputs": [
    {
     "name": "stdout",
     "output_type": "stream",
     "text": [
      "Shift: 0.00 nm -> M1 (Diffraction): 1.0, M2 (Diffraction): 1.0\n"
     ]
    },
    {
     "name": "stderr",
     "output_type": "stream",
     "text": [
      "progress: 100%|██████████| 43/43 [00:00<00:00, 152.34it/s]\n",
      "progress: 100%|██████████| 43/43 [00:01<00:00, 36.55it/s]\n",
      "progress: 100%|██████████| 43/43 [00:00<00:00, 157.38it/s]\n",
      "progress: 100%|██████████| 43/43 [00:01<00:00, 36.13it/s]\n"
     ]
    },
    {
     "name": "stdout",
     "output_type": "stream",
     "text": [
      "Shift: 0.00 nm -> M1 (MSSR): 1.0, M2 (MSSR): 1.0\n",
      "Shift: 21.64 nm -> M1 (Diffraction): 1.0, M2 (Diffraction): 1.0\n"
     ]
    },
    {
     "name": "stderr",
     "output_type": "stream",
     "text": [
      "progress: 100%|██████████| 43/43 [00:00<00:00, 116.88it/s]\n",
      "progress: 100%|██████████| 43/43 [00:01<00:00, 36.67it/s]\n",
      "progress: 100%|██████████| 43/43 [00:00<00:00, 156.91it/s]\n",
      "progress: 100%|██████████| 43/43 [00:01<00:00, 36.91it/s]\n"
     ]
    },
    {
     "name": "stdout",
     "output_type": "stream",
     "text": [
      "Shift: 21.64 nm -> M1 (MSSR): 0.963, M2 (MSSR): 0.961\n",
      "Shift: 43.28 nm -> M1 (Diffraction): 1.0, M2 (Diffraction): 1.0\n"
     ]
    },
    {
     "name": "stderr",
     "output_type": "stream",
     "text": [
      "progress: 100%|██████████| 43/43 [00:00<00:00, 166.96it/s]\n",
      "progress: 100%|██████████| 43/43 [00:01<00:00, 38.77it/s]\n",
      "progress: 100%|██████████| 43/43 [00:00<00:00, 161.07it/s]\n",
      "progress: 100%|██████████| 43/43 [00:01<00:00, 37.69it/s]\n"
     ]
    },
    {
     "name": "stdout",
     "output_type": "stream",
     "text": [
      "Shift: 43.28 nm -> M1 (MSSR): 0.925, M2 (MSSR): 0.924\n",
      "Shift: 64.92 nm -> M1 (Diffraction): 1.0, M2 (Diffraction): 1.0\n"
     ]
    },
    {
     "name": "stderr",
     "output_type": "stream",
     "text": [
      "progress: 100%|██████████| 43/43 [00:00<00:00, 153.21it/s]\n",
      "progress: 100%|██████████| 43/43 [00:01<00:00, 37.47it/s]\n",
      "progress: 100%|██████████| 43/43 [00:00<00:00, 156.58it/s]\n",
      "progress: 100%|██████████| 43/43 [00:01<00:00, 36.90it/s]\n"
     ]
    },
    {
     "name": "stdout",
     "output_type": "stream",
     "text": [
      "Shift: 64.92 nm -> M1 (MSSR): 0.887, M2 (MSSR): 0.887\n",
      "Shift: 86.55 nm -> M1 (Diffraction): 1.0, M2 (Diffraction): 1.0\n"
     ]
    },
    {
     "name": "stderr",
     "output_type": "stream",
     "text": [
      "progress: 100%|██████████| 43/43 [00:00<00:00, 155.89it/s]\n",
      "progress: 100%|██████████| 43/43 [00:01<00:00, 37.31it/s]\n",
      "progress: 100%|██████████| 43/43 [00:00<00:00, 156.59it/s]\n",
      "progress: 100%|██████████| 43/43 [00:01<00:00, 38.27it/s]\n"
     ]
    },
    {
     "name": "stdout",
     "output_type": "stream",
     "text": [
      "Shift: 86.55 nm -> M1 (MSSR): 0.848, M2 (MSSR): 0.849\n",
      "Shift: 108.19 nm -> M1 (Diffraction): 1.0, M2 (Diffraction): 1.0\n"
     ]
    },
    {
     "name": "stderr",
     "output_type": "stream",
     "text": [
      "progress: 100%|██████████| 43/43 [00:00<00:00, 157.02it/s]\n",
      "progress: 100%|██████████| 43/43 [00:01<00:00, 38.37it/s]\n",
      "progress: 100%|██████████| 43/43 [00:00<00:00, 152.48it/s]\n",
      "progress: 100%|██████████| 43/43 [00:01<00:00, 37.51it/s]\n"
     ]
    },
    {
     "name": "stdout",
     "output_type": "stream",
     "text": [
      "Shift: 108.19 nm -> M1 (MSSR): 0.808, M2 (MSSR): 0.808\n",
      "Shift: 129.83 nm -> M1 (Diffraction): 1.0, M2 (Diffraction): 1.0\n"
     ]
    },
    {
     "name": "stderr",
     "output_type": "stream",
     "text": [
      "progress: 100%|██████████| 43/43 [00:00<00:00, 167.28it/s]\n",
      "progress: 100%|██████████| 43/43 [00:01<00:00, 36.57it/s]\n",
      "progress: 100%|██████████| 43/43 [00:00<00:00, 154.89it/s]\n",
      "progress: 100%|██████████| 43/43 [00:01<00:00, 38.03it/s]\n"
     ]
    },
    {
     "name": "stdout",
     "output_type": "stream",
     "text": [
      "Shift: 129.83 nm -> M1 (MSSR): 0.77, M2 (MSSR): 0.77\n",
      "Shift: 151.47 nm -> M1 (Diffraction): 1.0, M2 (Diffraction): 1.0\n"
     ]
    },
    {
     "name": "stderr",
     "output_type": "stream",
     "text": [
      "progress: 100%|██████████| 43/43 [00:00<00:00, 158.18it/s]\n",
      "progress: 100%|██████████| 43/43 [00:01<00:00, 37.41it/s]\n",
      "progress: 100%|██████████| 43/43 [00:00<00:00, 155.19it/s]\n",
      "progress: 100%|██████████| 43/43 [00:01<00:00, 37.39it/s]\n"
     ]
    },
    {
     "name": "stdout",
     "output_type": "stream",
     "text": [
      "Shift: 151.47 nm -> M1 (MSSR): 0.734, M2 (MSSR): 0.733\n",
      "Shift: 173.11 nm -> M1 (Diffraction): 1.0, M2 (Diffraction): 1.0\n"
     ]
    },
    {
     "name": "stderr",
     "output_type": "stream",
     "text": [
      "progress: 100%|██████████| 43/43 [00:00<00:00, 145.88it/s]\n",
      "progress: 100%|██████████| 43/43 [00:01<00:00, 37.55it/s]\n",
      "progress: 100%|██████████| 43/43 [00:00<00:00, 157.34it/s]\n",
      "progress: 100%|██████████| 43/43 [00:01<00:00, 36.66it/s]\n"
     ]
    },
    {
     "name": "stdout",
     "output_type": "stream",
     "text": [
      "Shift: 173.11 nm -> M1 (MSSR): 0.699, M2 (MSSR): 0.697\n",
      "Shift: 194.75 nm -> M1 (Diffraction): 1.0, M2 (Diffraction): 1.0\n"
     ]
    },
    {
     "name": "stderr",
     "output_type": "stream",
     "text": [
      "progress: 100%|██████████| 43/43 [00:00<00:00, 154.30it/s]\n",
      "progress: 100%|██████████| 43/43 [00:01<00:00, 34.53it/s]\n",
      "progress: 100%|██████████| 43/43 [00:00<00:00, 164.52it/s]\n",
      "progress: 100%|██████████| 43/43 [00:01<00:00, 36.87it/s]\n"
     ]
    },
    {
     "name": "stdout",
     "output_type": "stream",
     "text": [
      "Shift: 194.75 nm -> M1 (MSSR): 0.661, M2 (MSSR): 0.661\n",
      "Shift: 216.38 nm -> M1 (Diffraction): 1.0, M2 (Diffraction): 1.0\n"
     ]
    },
    {
     "name": "stderr",
     "output_type": "stream",
     "text": [
      "progress: 100%|██████████| 43/43 [00:00<00:00, 168.85it/s]\n",
      "progress: 100%|██████████| 43/43 [00:01<00:00, 38.99it/s]\n",
      "progress: 100%|██████████| 43/43 [00:00<00:00, 155.43it/s]\n",
      "progress: 100%|██████████| 43/43 [00:01<00:00, 37.15it/s]\n"
     ]
    },
    {
     "name": "stdout",
     "output_type": "stream",
     "text": [
      "Shift: 216.38 nm -> M1 (MSSR): 0.623, M2 (MSSR): 0.624\n",
      "Shift: 238.02 nm -> M1 (Diffraction): 1.0, M2 (Diffraction): 1.0\n"
     ]
    },
    {
     "name": "stderr",
     "output_type": "stream",
     "text": [
      "progress: 100%|██████████| 43/43 [00:00<00:00, 158.55it/s]\n",
      "progress: 100%|██████████| 43/43 [00:01<00:00, 37.54it/s]\n",
      "progress: 100%|██████████| 43/43 [00:00<00:00, 154.66it/s]\n",
      "progress: 100%|██████████| 43/43 [00:01<00:00, 38.06it/s]\n"
     ]
    },
    {
     "name": "stdout",
     "output_type": "stream",
     "text": [
      "Shift: 238.02 nm -> M1 (MSSR): 0.586, M2 (MSSR): 0.586\n",
      "Shift: 259.66 nm -> M1 (Diffraction): 1.0, M2 (Diffraction): 1.0\n"
     ]
    },
    {
     "name": "stderr",
     "output_type": "stream",
     "text": [
      "progress: 100%|██████████| 43/43 [00:00<00:00, 153.38it/s]\n",
      "progress: 100%|██████████| 43/43 [00:01<00:00, 38.12it/s]\n",
      "progress: 100%|██████████| 43/43 [00:00<00:00, 156.69it/s]\n",
      "progress: 100%|██████████| 43/43 [00:01<00:00, 36.36it/s]\n"
     ]
    },
    {
     "name": "stdout",
     "output_type": "stream",
     "text": [
      "Shift: 259.66 nm -> M1 (MSSR): 0.55, M2 (MSSR): 0.55\n",
      "Shift: 281.30 nm -> M1 (Diffraction): 1.0, M2 (Diffraction): 1.0\n"
     ]
    },
    {
     "name": "stderr",
     "output_type": "stream",
     "text": [
      "progress: 100%|██████████| 43/43 [00:00<00:00, 154.10it/s]\n",
      "progress: 100%|██████████| 43/43 [00:01<00:00, 36.91it/s]\n",
      "progress: 100%|██████████| 43/43 [00:00<00:00, 155.66it/s]\n",
      "progress: 100%|██████████| 43/43 [00:01<00:00, 37.78it/s]\n"
     ]
    },
    {
     "name": "stdout",
     "output_type": "stream",
     "text": [
      "Shift: 281.30 nm -> M1 (MSSR): 0.516, M2 (MSSR): 0.515\n",
      "Shift: 302.94 nm -> M1 (Diffraction): 1.0, M2 (Diffraction): 1.0\n"
     ]
    },
    {
     "name": "stderr",
     "output_type": "stream",
     "text": [
      "progress: 100%|██████████| 43/43 [00:00<00:00, 159.32it/s]\n",
      "progress: 100%|██████████| 43/43 [00:01<00:00, 36.87it/s]\n",
      "progress: 100%|██████████| 43/43 [00:00<00:00, 163.35it/s]\n",
      "progress: 100%|██████████| 43/43 [00:01<00:00, 38.07it/s]\n"
     ]
    },
    {
     "name": "stdout",
     "output_type": "stream",
     "text": [
      "Shift: 302.94 nm -> M1 (MSSR): 0.482, M2 (MSSR): 0.481\n",
      "Shift: 324.58 nm -> M1 (Diffraction): 1.0, M2 (Diffraction): 1.0\n"
     ]
    },
    {
     "name": "stderr",
     "output_type": "stream",
     "text": [
      "progress: 100%|██████████| 43/43 [00:00<00:00, 158.13it/s]\n",
      "progress: 100%|██████████| 43/43 [00:01<00:00, 37.05it/s]\n",
      "progress: 100%|██████████| 43/43 [00:00<00:00, 157.92it/s]\n",
      "progress: 100%|██████████| 43/43 [00:01<00:00, 37.05it/s]\n"
     ]
    },
    {
     "name": "stdout",
     "output_type": "stream",
     "text": [
      "Shift: 324.58 nm -> M1 (MSSR): 0.448, M2 (MSSR): 0.448\n",
      "Shift: 346.21 nm -> M1 (Diffraction): 1.0, M2 (Diffraction): 1.0\n"
     ]
    },
    {
     "name": "stderr",
     "output_type": "stream",
     "text": [
      "progress: 100%|██████████| 43/43 [00:00<00:00, 170.04it/s]\n",
      "progress: 100%|██████████| 43/43 [00:01<00:00, 37.28it/s]\n",
      "progress: 100%|██████████| 43/43 [00:00<00:00, 160.61it/s]\n",
      "progress: 100%|██████████| 43/43 [00:01<00:00, 37.32it/s]\n"
     ]
    },
    {
     "name": "stdout",
     "output_type": "stream",
     "text": [
      "Shift: 346.21 nm -> M1 (MSSR): 0.414, M2 (MSSR): 0.414\n",
      "Shift: 367.85 nm -> M1 (Diffraction): 1.0, M2 (Diffraction): 1.0\n"
     ]
    },
    {
     "name": "stderr",
     "output_type": "stream",
     "text": [
      "progress: 100%|██████████| 43/43 [00:00<00:00, 168.79it/s]\n",
      "progress: 100%|██████████| 43/43 [00:01<00:00, 38.50it/s]\n",
      "progress: 100%|██████████| 43/43 [00:00<00:00, 160.42it/s]\n",
      "progress: 100%|██████████| 43/43 [00:01<00:00, 37.69it/s]\n"
     ]
    },
    {
     "name": "stdout",
     "output_type": "stream",
     "text": [
      "Shift: 367.85 nm -> M1 (MSSR): 0.379, M2 (MSSR): 0.379\n",
      "Shift: 389.49 nm -> M1 (Diffraction): 1.0, M2 (Diffraction): 1.0\n"
     ]
    },
    {
     "name": "stderr",
     "output_type": "stream",
     "text": [
      "progress: 100%|██████████| 43/43 [00:00<00:00, 155.42it/s]\n",
      "progress: 100%|██████████| 43/43 [00:01<00:00, 37.62it/s]\n",
      "progress: 100%|██████████| 43/43 [00:00<00:00, 153.66it/s]\n",
      "progress: 100%|██████████| 43/43 [00:01<00:00, 38.75it/s]\n"
     ]
    },
    {
     "name": "stdout",
     "output_type": "stream",
     "text": [
      "Shift: 389.49 nm -> M1 (MSSR): 0.347, M2 (MSSR): 0.347\n",
      "Shift: 411.13 nm -> M1 (Diffraction): 1.0, M2 (Diffraction): 1.0\n"
     ]
    },
    {
     "name": "stderr",
     "output_type": "stream",
     "text": [
      "progress: 100%|██████████| 43/43 [00:00<00:00, 154.25it/s]\n",
      "progress: 100%|██████████| 43/43 [00:01<00:00, 38.52it/s]\n",
      "progress: 100%|██████████| 43/43 [00:00<00:00, 159.68it/s]\n",
      "progress: 100%|██████████| 43/43 [00:01<00:00, 36.22it/s]\n"
     ]
    },
    {
     "name": "stdout",
     "output_type": "stream",
     "text": [
      "Shift: 411.13 nm -> M1 (MSSR): 0.317, M2 (MSSR): 0.317\n",
      "Shift: 432.77 nm -> M1 (Diffraction): 1.0, M2 (Diffraction): 1.0\n"
     ]
    },
    {
     "name": "stderr",
     "output_type": "stream",
     "text": [
      "progress: 100%|██████████| 43/43 [00:00<00:00, 154.41it/s]\n",
      "progress: 100%|██████████| 43/43 [00:01<00:00, 36.92it/s]\n",
      "progress: 100%|██████████| 43/43 [00:00<00:00, 155.84it/s]\n",
      "progress: 100%|██████████| 43/43 [00:01<00:00, 38.06it/s]\n"
     ]
    },
    {
     "name": "stdout",
     "output_type": "stream",
     "text": [
      "Shift: 432.77 nm -> M1 (MSSR): 0.288, M2 (MSSR): 0.287\n",
      "Shift: 454.41 nm -> M1 (Diffraction): 1.0, M2 (Diffraction): 1.0\n"
     ]
    },
    {
     "name": "stderr",
     "output_type": "stream",
     "text": [
      "progress: 100%|██████████| 43/43 [00:00<00:00, 157.86it/s]\n",
      "progress: 100%|██████████| 43/43 [00:01<00:00, 36.92it/s]\n",
      "progress: 100%|██████████| 43/43 [00:00<00:00, 159.58it/s]\n",
      "progress: 100%|██████████| 43/43 [00:01<00:00, 37.80it/s]\n"
     ]
    },
    {
     "name": "stdout",
     "output_type": "stream",
     "text": [
      "Shift: 454.41 nm -> M1 (MSSR): 0.258, M2 (MSSR): 0.258\n",
      "Shift: 476.05 nm -> M1 (Diffraction): 1.0, M2 (Diffraction): 1.0\n"
     ]
    },
    {
     "name": "stderr",
     "output_type": "stream",
     "text": [
      "progress: 100%|██████████| 43/43 [00:00<00:00, 153.38it/s]\n",
      "progress: 100%|██████████| 43/43 [00:01<00:00, 36.83it/s]\n",
      "progress: 100%|██████████| 43/43 [00:00<00:00, 156.62it/s]\n",
      "progress: 100%|██████████| 43/43 [00:01<00:00, 37.23it/s]\n"
     ]
    },
    {
     "name": "stdout",
     "output_type": "stream",
     "text": [
      "Shift: 476.05 nm -> M1 (MSSR): 0.23, M2 (MSSR): 0.23\n",
      "Shift: 497.68 nm -> M1 (Diffraction): 1.0, M2 (Diffraction): 1.0\n"
     ]
    },
    {
     "name": "stderr",
     "output_type": "stream",
     "text": [
      "progress: 100%|██████████| 43/43 [00:00<00:00, 164.56it/s]\n",
      "progress: 100%|██████████| 43/43 [00:01<00:00, 36.33it/s]\n",
      "progress: 100%|██████████| 43/43 [00:00<00:00, 160.71it/s]\n",
      "progress: 100%|██████████| 43/43 [00:01<00:00, 37.24it/s]\n"
     ]
    },
    {
     "name": "stdout",
     "output_type": "stream",
     "text": [
      "Shift: 497.68 nm -> M1 (MSSR): 0.201, M2 (MSSR): 0.201\n",
      "Shift: 519.32 nm -> M1 (Diffraction): 1.0, M2 (Diffraction): 1.0\n"
     ]
    },
    {
     "name": "stderr",
     "output_type": "stream",
     "text": [
      "progress: 100%|██████████| 43/43 [00:00<00:00, 170.72it/s]\n",
      "progress: 100%|██████████| 43/43 [00:01<00:00, 38.97it/s]\n",
      "progress: 100%|██████████| 43/43 [00:00<00:00, 156.03it/s]\n",
      "progress: 100%|██████████| 43/43 [00:01<00:00, 37.35it/s]\n"
     ]
    },
    {
     "name": "stdout",
     "output_type": "stream",
     "text": [
      "Shift: 519.32 nm -> M1 (MSSR): 0.174, M2 (MSSR): 0.174\n",
      "Shift: 540.96 nm -> M1 (Diffraction): 1.0, M2 (Diffraction): 1.0\n"
     ]
    },
    {
     "name": "stderr",
     "output_type": "stream",
     "text": [
      "progress: 100%|██████████| 43/43 [00:00<00:00, 155.70it/s]\n",
      "progress: 100%|██████████| 43/43 [00:01<00:00, 37.78it/s]\n",
      "progress: 100%|██████████| 43/43 [00:00<00:00, 156.60it/s]\n",
      "progress: 100%|██████████| 43/43 [00:01<00:00, 39.13it/s]\n"
     ]
    },
    {
     "name": "stdout",
     "output_type": "stream",
     "text": [
      "Shift: 540.96 nm -> M1 (MSSR): 0.15, M2 (MSSR): 0.149\n",
      "Shift: 562.60 nm -> M1 (Diffraction): 1.0, M2 (Diffraction): 1.0\n"
     ]
    },
    {
     "name": "stderr",
     "output_type": "stream",
     "text": [
      "progress: 100%|██████████| 43/43 [00:00<00:00, 156.19it/s]\n",
      "progress: 100%|██████████| 43/43 [00:01<00:00, 37.58it/s]\n",
      "progress: 100%|██████████| 43/43 [00:00<00:00, 158.99it/s]\n",
      "progress: 100%|██████████| 43/43 [00:01<00:00, 36.19it/s]\n"
     ]
    },
    {
     "name": "stdout",
     "output_type": "stream",
     "text": [
      "Shift: 562.60 nm -> M1 (MSSR): 0.126, M2 (MSSR): 0.126\n",
      "Shift: 584.24 nm -> M1 (Diffraction): 1.0, M2 (Diffraction): 1.0\n"
     ]
    },
    {
     "name": "stderr",
     "output_type": "stream",
     "text": [
      "progress: 100%|██████████| 43/43 [00:00<00:00, 155.56it/s]\n",
      "progress: 100%|██████████| 43/43 [00:01<00:00, 36.95it/s]\n",
      "progress: 100%|██████████| 43/43 [00:00<00:00, 163.79it/s]\n",
      "progress: 100%|██████████| 43/43 [00:01<00:00, 37.36it/s]\n"
     ]
    },
    {
     "name": "stdout",
     "output_type": "stream",
     "text": [
      "Shift: 584.24 nm -> M1 (MSSR): 0.103, M2 (MSSR): 0.103\n",
      "Shift: 605.88 nm -> M1 (Diffraction): 1.0, M2 (Diffraction): 1.0\n"
     ]
    },
    {
     "name": "stderr",
     "output_type": "stream",
     "text": [
      "progress: 100%|██████████| 43/43 [00:00<00:00, 156.96it/s]\n",
      "progress: 100%|██████████| 43/43 [00:01<00:00, 37.16it/s]\n",
      "progress: 100%|██████████| 43/43 [00:00<00:00, 159.96it/s]\n",
      "progress: 100%|██████████| 43/43 [00:01<00:00, 37.61it/s]\n"
     ]
    },
    {
     "name": "stdout",
     "output_type": "stream",
     "text": [
      "Shift: 605.88 nm -> M1 (MSSR): 0.083, M2 (MSSR): 0.083\n",
      "Shift: 627.51 nm -> M1 (Diffraction): 1.0, M2 (Diffraction): 1.0\n"
     ]
    },
    {
     "name": "stderr",
     "output_type": "stream",
     "text": [
      "progress: 100%|██████████| 43/43 [00:00<00:00, 155.69it/s]\n",
      "progress: 100%|██████████| 43/43 [00:01<00:00, 37.17it/s]\n",
      "progress: 100%|██████████| 43/43 [00:00<00:00, 160.59it/s]\n",
      "progress: 100%|██████████| 43/43 [00:01<00:00, 36.97it/s]\n"
     ]
    },
    {
     "name": "stdout",
     "output_type": "stream",
     "text": [
      "Shift: 627.51 nm -> M1 (MSSR): 0.063, M2 (MSSR): 0.063\n",
      "Shift: 649.15 nm -> M1 (Diffraction): 1.0, M2 (Diffraction): 1.0\n"
     ]
    },
    {
     "name": "stderr",
     "output_type": "stream",
     "text": [
      "progress: 100%|██████████| 43/43 [00:00<00:00, 166.86it/s]\n",
      "progress: 100%|██████████| 43/43 [00:01<00:00, 36.30it/s]\n",
      "progress: 100%|██████████| 43/43 [00:00<00:00, 159.36it/s]\n",
      "progress: 100%|██████████| 43/43 [00:01<00:00, 38.14it/s]\n"
     ]
    },
    {
     "name": "stdout",
     "output_type": "stream",
     "text": [
      "Shift: 649.15 nm -> M1 (MSSR): 0.044, M2 (MSSR): 0.044\n",
      "Shift: 670.79 nm -> M1 (Diffraction): 1.0, M2 (Diffraction): 1.0\n"
     ]
    },
    {
     "name": "stderr",
     "output_type": "stream",
     "text": [
      "progress: 100%|██████████| 43/43 [00:00<00:00, 172.44it/s]\n",
      "progress: 100%|██████████| 43/43 [00:01<00:00, 38.81it/s]\n",
      "progress: 100%|██████████| 43/43 [00:00<00:00, 150.37it/s]\n",
      "progress: 100%|██████████| 43/43 [00:01<00:00, 38.47it/s]\n"
     ]
    },
    {
     "name": "stdout",
     "output_type": "stream",
     "text": [
      "Shift: 670.79 nm -> M1 (MSSR): 0.029, M2 (MSSR): 0.028\n",
      "Shift: 692.43 nm -> M1 (Diffraction): 1.0, M2 (Diffraction): 1.0\n"
     ]
    },
    {
     "name": "stderr",
     "output_type": "stream",
     "text": [
      "progress: 100%|██████████| 43/43 [00:00<00:00, 154.04it/s]\n",
      "progress: 100%|██████████| 43/43 [00:01<00:00, 37.41it/s]\n",
      "progress: 100%|██████████| 43/43 [00:00<00:00, 158.22it/s]\n",
      "progress: 100%|██████████| 43/43 [00:01<00:00, 38.41it/s]\n"
     ]
    },
    {
     "name": "stdout",
     "output_type": "stream",
     "text": [
      "Shift: 692.43 nm -> M1 (MSSR): 0.015, M2 (MSSR): 0.015\n",
      "Shift: 714.07 nm -> M1 (Diffraction): 1.0, M2 (Diffraction): 1.0\n"
     ]
    },
    {
     "name": "stderr",
     "output_type": "stream",
     "text": [
      "progress: 100%|██████████| 43/43 [00:00<00:00, 154.58it/s]\n",
      "progress: 100%|██████████| 43/43 [00:01<00:00, 38.26it/s]\n",
      "progress: 100%|██████████| 43/43 [00:00<00:00, 153.37it/s]\n",
      "progress: 100%|██████████| 43/43 [00:01<00:00, 36.19it/s]\n"
     ]
    },
    {
     "name": "stdout",
     "output_type": "stream",
     "text": [
      "Shift: 714.07 nm -> M1 (MSSR): 0.005, M2 (MSSR): 0.005\n",
      "Shift: 735.71 nm -> M1 (Diffraction): 1.0, M2 (Diffraction): 1.0\n"
     ]
    },
    {
     "name": "stderr",
     "output_type": "stream",
     "text": [
      "progress: 100%|██████████| 43/43 [00:00<00:00, 153.08it/s]\n",
      "progress: 100%|██████████| 43/43 [00:01<00:00, 37.14it/s]\n",
      "progress: 100%|██████████| 43/43 [00:00<00:00, 156.08it/s]\n",
      "progress: 100%|██████████| 43/43 [00:01<00:00, 37.13it/s]\n"
     ]
    },
    {
     "name": "stdout",
     "output_type": "stream",
     "text": [
      "Shift: 735.71 nm -> M1 (MSSR): 0.0, M2 (MSSR): 0.0\n",
      "Shift: 757.34 nm -> M1 (Diffraction): 1.0, M2 (Diffraction): 1.0\n"
     ]
    },
    {
     "name": "stderr",
     "output_type": "stream",
     "text": [
      "progress: 100%|██████████| 43/43 [00:00<00:00, 156.75it/s]\n",
      "progress: 100%|██████████| 43/43 [00:01<00:00, 37.82it/s]\n",
      "progress: 100%|██████████| 43/43 [00:00<00:00, 155.62it/s]\n",
      "progress: 100%|██████████| 43/43 [00:01<00:00, 38.33it/s]\n"
     ]
    },
    {
     "name": "stdout",
     "output_type": "stream",
     "text": [
      "Shift: 757.34 nm -> M1 (MSSR): 0.0, M2 (MSSR): 0.0\n",
      "Shift: 778.98 nm -> M1 (Diffraction): 1.0, M2 (Diffraction): 1.0\n"
     ]
    },
    {
     "name": "stderr",
     "output_type": "stream",
     "text": [
      "progress: 100%|██████████| 43/43 [00:00<00:00, 157.12it/s]\n",
      "progress: 100%|██████████| 43/43 [00:01<00:00, 37.02it/s]\n",
      "progress: 100%|██████████| 43/43 [00:00<00:00, 159.22it/s]\n",
      "progress: 100%|██████████| 43/43 [00:01<00:00, 37.08it/s]\n"
     ]
    },
    {
     "name": "stdout",
     "output_type": "stream",
     "text": [
      "Shift: 778.98 nm -> M1 (MSSR): 0.0, M2 (MSSR): 0.0\n",
      "Shift: 800.62 nm -> M1 (Diffraction): 1.0, M2 (Diffraction): 1.0\n"
     ]
    },
    {
     "name": "stderr",
     "output_type": "stream",
     "text": [
      "progress: 100%|██████████| 43/43 [00:00<00:00, 157.42it/s]\n",
      "progress: 100%|██████████| 43/43 [00:01<00:00, 36.84it/s]\n",
      "progress: 100%|██████████| 43/43 [00:00<00:00, 156.20it/s]\n",
      "progress: 100%|██████████| 43/43 [00:01<00:00, 37.45it/s]\n"
     ]
    },
    {
     "name": "stdout",
     "output_type": "stream",
     "text": [
      "Shift: 800.62 nm -> M1 (MSSR): 0.0, M2 (MSSR): 0.0\n",
      "Shift: 822.26 nm -> M1 (Diffraction): 1.0, M2 (Diffraction): 1.0\n"
     ]
    },
    {
     "name": "stderr",
     "output_type": "stream",
     "text": [
      "progress: 100%|██████████| 43/43 [00:00<00:00, 169.09it/s]\n",
      "progress: 100%|██████████| 43/43 [00:01<00:00, 37.58it/s]\n",
      "progress: 100%|██████████| 43/43 [00:00<00:00, 156.70it/s]\n",
      "progress: 100%|██████████| 43/43 [00:01<00:00, 37.88it/s]\n"
     ]
    },
    {
     "name": "stdout",
     "output_type": "stream",
     "text": [
      "Shift: 822.26 nm -> M1 (MSSR): 0.0, M2 (MSSR): 0.0\n",
      "Shift: 843.90 nm -> M1 (Diffraction): 1.0, M2 (Diffraction): 1.0\n"
     ]
    },
    {
     "name": "stderr",
     "output_type": "stream",
     "text": [
      "progress: 100%|██████████| 43/43 [00:00<00:00, 155.50it/s]\n",
      "progress: 100%|██████████| 43/43 [00:01<00:00, 37.22it/s]\n",
      "progress: 100%|██████████| 43/43 [00:00<00:00, 161.25it/s]\n",
      "progress: 100%|██████████| 43/43 [00:01<00:00, 38.52it/s]\n"
     ]
    },
    {
     "name": "stdout",
     "output_type": "stream",
     "text": [
      "Shift: 843.90 nm -> M1 (MSSR): 0.0, M2 (MSSR): 0.0\n",
      "Shift: 865.54 nm -> M1 (Diffraction): 1.0, M2 (Diffraction): 1.0\n"
     ]
    },
    {
     "name": "stderr",
     "output_type": "stream",
     "text": [
      "progress: 100%|██████████| 43/43 [00:00<00:00, 154.33it/s]\n",
      "progress: 100%|██████████| 43/43 [00:01<00:00, 37.31it/s]\n",
      "progress: 100%|██████████| 43/43 [00:00<00:00, 152.23it/s]\n",
      "progress: 100%|██████████| 43/43 [00:01<00:00, 36.23it/s]\n"
     ]
    },
    {
     "name": "stdout",
     "output_type": "stream",
     "text": [
      "Shift: 865.54 nm -> M1 (MSSR): 0.0, M2 (MSSR): 0.0\n",
      "Shift: 887.17 nm -> M1 (Diffraction): 1.0, M2 (Diffraction): 1.0\n"
     ]
    },
    {
     "name": "stderr",
     "output_type": "stream",
     "text": [
      "progress: 100%|██████████| 43/43 [00:00<00:00, 152.26it/s]\n",
      "progress: 100%|██████████| 43/43 [00:01<00:00, 37.49it/s]\n",
      "progress: 100%|██████████| 43/43 [00:00<00:00, 159.52it/s]\n",
      "progress: 100%|██████████| 43/43 [00:01<00:00, 37.66it/s]\n"
     ]
    },
    {
     "name": "stdout",
     "output_type": "stream",
     "text": [
      "Shift: 887.17 nm -> M1 (MSSR): 0.0, M2 (MSSR): 0.0\n",
      "Shift: 908.81 nm -> M1 (Diffraction): 1.0, M2 (Diffraction): 1.0\n"
     ]
    },
    {
     "name": "stderr",
     "output_type": "stream",
     "text": [
      "progress: 100%|██████████| 43/43 [00:00<00:00, 154.36it/s]\n",
      "progress: 100%|██████████| 43/43 [00:01<00:00, 38.09it/s]\n",
      "progress: 100%|██████████| 43/43 [00:00<00:00, 161.17it/s]\n",
      "progress: 100%|██████████| 43/43 [00:01<00:00, 37.87it/s]\n"
     ]
    },
    {
     "name": "stdout",
     "output_type": "stream",
     "text": [
      "Shift: 908.81 nm -> M1 (MSSR): 0.0, M2 (MSSR): 0.0\n",
      "Shift: 930.45 nm -> M1 (Diffraction): 1.0, M2 (Diffraction): 1.0\n"
     ]
    },
    {
     "name": "stderr",
     "output_type": "stream",
     "text": [
      "progress: 100%|██████████| 43/43 [00:00<00:00, 156.99it/s]\n",
      "progress: 100%|██████████| 43/43 [00:01<00:00, 37.15it/s]\n",
      "progress: 100%|██████████| 43/43 [00:00<00:00, 157.67it/s]\n",
      "progress: 100%|██████████| 43/43 [00:01<00:00, 36.86it/s]\n"
     ]
    },
    {
     "name": "stdout",
     "output_type": "stream",
     "text": [
      "Shift: 930.45 nm -> M1 (MSSR): 0.0, M2 (MSSR): 0.0\n",
      "Shift: 952.09 nm -> M1 (Diffraction): 1.0, M2 (Diffraction): 1.0\n"
     ]
    },
    {
     "name": "stderr",
     "output_type": "stream",
     "text": [
      "progress: 100%|██████████| 43/43 [00:00<00:00, 167.00it/s]\n",
      "progress: 100%|██████████| 43/43 [00:01<00:00, 36.91it/s]\n",
      "progress: 100%|██████████| 43/43 [00:00<00:00, 165.59it/s]\n",
      "progress: 100%|██████████| 43/43 [00:01<00:00, 37.62it/s]\n"
     ]
    },
    {
     "name": "stdout",
     "output_type": "stream",
     "text": [
      "Shift: 952.09 nm -> M1 (MSSR): 0.0, M2 (MSSR): 0.0\n",
      "Shift: 973.73 nm -> M1 (Diffraction): 1.0, M2 (Diffraction): 1.0\n"
     ]
    },
    {
     "name": "stderr",
     "output_type": "stream",
     "text": [
      "progress: 100%|██████████| 43/43 [00:00<00:00, 167.53it/s]\n",
      "progress: 100%|██████████| 43/43 [00:01<00:00, 37.84it/s]\n",
      "progress: 100%|██████████| 43/43 [00:00<00:00, 154.87it/s]\n",
      "progress: 100%|██████████| 43/43 [00:01<00:00, 38.46it/s]\n"
     ]
    },
    {
     "name": "stdout",
     "output_type": "stream",
     "text": [
      "Shift: 973.73 nm -> M1 (MSSR): 0.0, M2 (MSSR): 0.0\n",
      "Shift: 995.37 nm -> M1 (Diffraction): 1.0, M2 (Diffraction): 1.0\n"
     ]
    },
    {
     "name": "stderr",
     "output_type": "stream",
     "text": [
      "progress: 100%|██████████| 43/43 [00:00<00:00, 153.24it/s]\n",
      "progress: 100%|██████████| 43/43 [00:01<00:00, 37.66it/s]\n",
      "progress: 100%|██████████| 43/43 [00:00<00:00, 157.12it/s]\n",
      "progress: 100%|██████████| 43/43 [00:01<00:00, 38.44it/s]\n"
     ]
    },
    {
     "name": "stdout",
     "output_type": "stream",
     "text": [
      "Shift: 995.37 nm -> M1 (MSSR): 0.0, M2 (MSSR): 0.0\n",
      "Shift: 1017.01 nm -> M1 (Diffraction): 1.0, M2 (Diffraction): 1.0\n"
     ]
    },
    {
     "name": "stderr",
     "output_type": "stream",
     "text": [
      "progress: 100%|██████████| 43/43 [00:00<00:00, 154.50it/s]\n",
      "progress: 100%|██████████| 43/43 [00:01<00:00, 38.04it/s]\n",
      "progress: 100%|██████████| 43/43 [00:00<00:00, 157.50it/s]\n",
      "progress: 100%|██████████| 43/43 [00:01<00:00, 36.43it/s]\n"
     ]
    },
    {
     "name": "stdout",
     "output_type": "stream",
     "text": [
      "Shift: 1017.01 nm -> M1 (MSSR): 0.0, M2 (MSSR): 0.0\n",
      "Shift: 1038.64 nm -> M1 (Diffraction): 1.0, M2 (Diffraction): 1.0\n"
     ]
    },
    {
     "name": "stderr",
     "output_type": "stream",
     "text": [
      "progress: 100%|██████████| 43/43 [00:00<00:00, 160.33it/s]\n",
      "progress: 100%|██████████| 43/43 [00:01<00:00, 37.17it/s]\n",
      "progress: 100%|██████████| 43/43 [00:00<00:00, 162.61it/s]\n",
      "progress: 100%|██████████| 43/43 [00:01<00:00, 37.44it/s]\n"
     ]
    },
    {
     "name": "stdout",
     "output_type": "stream",
     "text": [
      "Shift: 1038.64 nm -> M1 (MSSR): 0.0, M2 (MSSR): 0.0\n",
      "Shift: 1060.28 nm -> M1 (Diffraction): 1.0, M2 (Diffraction): 1.0\n"
     ]
    },
    {
     "name": "stderr",
     "output_type": "stream",
     "text": [
      "progress: 100%|██████████| 43/43 [00:00<00:00, 157.54it/s]\n",
      "progress: 100%|██████████| 43/43 [00:01<00:00, 37.33it/s]\n",
      "progress: 100%|██████████| 43/43 [00:00<00:00, 161.78it/s]\n",
      "progress: 100%|██████████| 43/43 [00:01<00:00, 37.86it/s]\n"
     ]
    },
    {
     "name": "stdout",
     "output_type": "stream",
     "text": [
      "Shift: 1060.28 nm -> M1 (MSSR): 0.0, M2 (MSSR): 0.0\n",
      "Shift: 0.00 nm -> M1 (Diffraction): 1.0, M2 (Diffraction): 1.0\n"
     ]
    },
    {
     "name": "stderr",
     "output_type": "stream",
     "text": [
      "progress: 100%|██████████| 43/43 [00:00<00:00, 158.46it/s]\n",
      "progress: 100%|██████████| 43/43 [00:01<00:00, 37.44it/s]\n",
      "progress: 100%|██████████| 43/43 [00:00<00:00, 161.73it/s]\n",
      "progress: 100%|██████████| 43/43 [00:01<00:00, 33.15it/s]\n"
     ]
    },
    {
     "name": "stdout",
     "output_type": "stream",
     "text": [
      "Shift: 0.00 nm -> M1 (MSSR): 1.0, M2 (MSSR): 1.0\n",
      "Shift: 21.64 nm -> M1 (Diffraction): 0.987, M2 (Diffraction): 0.983\n"
     ]
    },
    {
     "name": "stderr",
     "output_type": "stream",
     "text": [
      "progress: 100%|██████████| 43/43 [00:00<00:00, 149.12it/s]\n",
      "progress: 100%|██████████| 43/43 [00:01<00:00, 36.64it/s]\n",
      "progress: 100%|██████████| 43/43 [00:00<00:00, 156.89it/s]\n",
      "progress: 100%|██████████| 43/43 [00:01<00:00, 37.41it/s]\n"
     ]
    },
    {
     "name": "stdout",
     "output_type": "stream",
     "text": [
      "Shift: 21.64 nm -> M1 (MSSR): 0.959, M2 (MSSR): 0.959\n",
      "Shift: 43.28 nm -> M1 (Diffraction): 0.971, M2 (Diffraction): 0.966\n"
     ]
    },
    {
     "name": "stderr",
     "output_type": "stream",
     "text": [
      "progress: 100%|██████████| 43/43 [00:00<00:00, 171.87it/s]\n",
      "progress: 100%|██████████| 43/43 [00:01<00:00, 38.26it/s]\n",
      "progress: 100%|██████████| 43/43 [00:00<00:00, 162.29it/s]\n",
      "progress: 100%|██████████| 43/43 [00:01<00:00, 38.99it/s]\n"
     ]
    },
    {
     "name": "stdout",
     "output_type": "stream",
     "text": [
      "Shift: 43.28 nm -> M1 (MSSR): 0.921, M2 (MSSR): 0.921\n",
      "Shift: 64.92 nm -> M1 (Diffraction): 0.954, M2 (Diffraction): 0.949\n"
     ]
    },
    {
     "name": "stderr",
     "output_type": "stream",
     "text": [
      "progress: 100%|██████████| 43/43 [00:00<00:00, 158.77it/s]\n",
      "progress: 100%|██████████| 43/43 [00:01<00:00, 37.52it/s]\n",
      "progress: 100%|██████████| 43/43 [00:00<00:00, 160.03it/s]\n",
      "progress: 100%|██████████| 43/43 [00:01<00:00, 37.75it/s]\n"
     ]
    },
    {
     "name": "stdout",
     "output_type": "stream",
     "text": [
      "Shift: 64.92 nm -> M1 (MSSR): 0.881, M2 (MSSR): 0.882\n",
      "Shift: 86.55 nm -> M1 (Diffraction): 0.936, M2 (Diffraction): 0.932\n"
     ]
    },
    {
     "name": "stderr",
     "output_type": "stream",
     "text": [
      "progress: 100%|██████████| 43/43 [00:00<00:00, 153.79it/s]\n",
      "progress: 100%|██████████| 43/43 [00:01<00:00, 36.21it/s]\n",
      "progress: 100%|██████████| 43/43 [00:00<00:00, 149.62it/s]\n",
      "progress: 100%|██████████| 43/43 [00:01<00:00, 37.75it/s]\n"
     ]
    },
    {
     "name": "stdout",
     "output_type": "stream",
     "text": [
      "Shift: 86.55 nm -> M1 (MSSR): 0.843, M2 (MSSR): 0.843\n",
      "Shift: 108.19 nm -> M1 (Diffraction): 0.919, M2 (Diffraction): 0.915\n"
     ]
    },
    {
     "name": "stderr",
     "output_type": "stream",
     "text": [
      "progress: 100%|██████████| 43/43 [00:00<00:00, 155.76it/s]\n",
      "progress: 100%|██████████| 43/43 [00:01<00:00, 38.22it/s]\n",
      "progress: 100%|██████████| 43/43 [00:00<00:00, 155.19it/s]\n",
      "progress: 100%|██████████| 43/43 [00:01<00:00, 36.76it/s]\n"
     ]
    },
    {
     "name": "stdout",
     "output_type": "stream",
     "text": [
      "Shift: 108.19 nm -> M1 (MSSR): 0.803, M2 (MSSR): 0.805\n",
      "Shift: 129.83 nm -> M1 (Diffraction): 0.901, M2 (Diffraction): 0.897\n"
     ]
    },
    {
     "name": "stderr",
     "output_type": "stream",
     "text": [
      "progress: 100%|██████████| 43/43 [00:00<00:00, 169.15it/s]\n",
      "progress: 100%|██████████| 43/43 [00:01<00:00, 38.42it/s]\n",
      "progress: 100%|██████████| 43/43 [00:00<00:00, 154.92it/s]\n",
      "progress: 100%|██████████| 43/43 [00:01<00:00, 38.38it/s]\n"
     ]
    },
    {
     "name": "stdout",
     "output_type": "stream",
     "text": [
      "Shift: 129.83 nm -> M1 (MSSR): 0.767, M2 (MSSR): 0.767\n",
      "Shift: 151.47 nm -> M1 (Diffraction): 0.885, M2 (Diffraction): 0.88\n"
     ]
    },
    {
     "name": "stderr",
     "output_type": "stream",
     "text": [
      "progress: 100%|██████████| 43/43 [00:00<00:00, 159.44it/s]\n",
      "progress: 100%|██████████| 43/43 [00:01<00:00, 37.44it/s]\n",
      "progress: 100%|██████████| 43/43 [00:00<00:00, 161.01it/s]\n",
      "progress: 100%|██████████| 43/43 [00:01<00:00, 36.10it/s]\n"
     ]
    },
    {
     "name": "stdout",
     "output_type": "stream",
     "text": [
      "Shift: 151.47 nm -> M1 (MSSR): 0.729, M2 (MSSR): 0.729\n",
      "Shift: 173.11 nm -> M1 (Diffraction): 0.867, M2 (Diffraction): 0.863\n"
     ]
    },
    {
     "name": "stderr",
     "output_type": "stream",
     "text": [
      "progress: 100%|██████████| 43/43 [00:00<00:00, 152.92it/s]\n",
      "progress: 100%|██████████| 43/43 [00:01<00:00, 36.93it/s]\n",
      "progress: 100%|██████████| 43/43 [00:00<00:00, 155.13it/s]\n",
      "progress: 100%|██████████| 43/43 [00:01<00:00, 36.72it/s]\n"
     ]
    },
    {
     "name": "stdout",
     "output_type": "stream",
     "text": [
      "Shift: 173.11 nm -> M1 (MSSR): 0.693, M2 (MSSR): 0.693\n",
      "Shift: 194.75 nm -> M1 (Diffraction): 0.851, M2 (Diffraction): 0.846\n"
     ]
    },
    {
     "name": "stderr",
     "output_type": "stream",
     "text": [
      "progress: 100%|██████████| 43/43 [00:00<00:00, 164.29it/s]\n",
      "progress: 100%|██████████| 43/43 [00:01<00:00, 37.23it/s]\n",
      "progress: 100%|██████████| 43/43 [00:00<00:00, 165.70it/s]\n",
      "progress: 100%|██████████| 43/43 [00:01<00:00, 37.78it/s]\n"
     ]
    },
    {
     "name": "stdout",
     "output_type": "stream",
     "text": [
      "Shift: 194.75 nm -> M1 (MSSR): 0.654, M2 (MSSR): 0.655\n",
      "Shift: 216.38 nm -> M1 (Diffraction): 0.833, M2 (Diffraction): 0.829\n"
     ]
    },
    {
     "name": "stderr",
     "output_type": "stream",
     "text": [
      "progress: 100%|██████████| 43/43 [00:00<00:00, 173.58it/s]\n",
      "progress: 100%|██████████| 43/43 [00:01<00:00, 38.49it/s]\n",
      "progress: 100%|██████████| 43/43 [00:00<00:00, 162.16it/s]\n",
      "progress: 100%|██████████| 43/43 [00:01<00:00, 37.81it/s]\n"
     ]
    },
    {
     "name": "stdout",
     "output_type": "stream",
     "text": [
      "Shift: 216.38 nm -> M1 (MSSR): 0.617, M2 (MSSR): 0.618\n",
      "Shift: 238.02 nm -> M1 (Diffraction): 0.816, M2 (Diffraction): 0.813\n"
     ]
    },
    {
     "name": "stderr",
     "output_type": "stream",
     "text": [
      "progress: 100%|██████████| 43/43 [00:00<00:00, 156.43it/s]\n",
      "progress: 100%|██████████| 43/43 [00:01<00:00, 36.23it/s]\n",
      "progress: 100%|██████████| 43/43 [00:00<00:00, 152.59it/s]\n",
      "progress: 100%|██████████| 43/43 [00:01<00:00, 38.40it/s]\n"
     ]
    },
    {
     "name": "stdout",
     "output_type": "stream",
     "text": [
      "Shift: 238.02 nm -> M1 (MSSR): 0.581, M2 (MSSR): 0.582\n",
      "Shift: 259.66 nm -> M1 (Diffraction): 0.799, M2 (Diffraction): 0.795\n"
     ]
    },
    {
     "name": "stderr",
     "output_type": "stream",
     "text": [
      "progress: 100%|██████████| 43/43 [00:00<00:00, 159.06it/s]\n",
      "progress: 100%|██████████| 43/43 [00:01<00:00, 38.52it/s]\n",
      "progress: 100%|██████████| 43/43 [00:00<00:00, 157.65it/s]\n",
      "progress: 100%|██████████| 43/43 [00:01<00:00, 37.12it/s]\n"
     ]
    },
    {
     "name": "stdout",
     "output_type": "stream",
     "text": [
      "Shift: 259.66 nm -> M1 (MSSR): 0.546, M2 (MSSR): 0.546\n",
      "Shift: 281.30 nm -> M1 (Diffraction): 0.782, M2 (Diffraction): 0.779\n"
     ]
    },
    {
     "name": "stderr",
     "output_type": "stream",
     "text": [
      "progress: 100%|██████████| 43/43 [00:00<00:00, 164.55it/s]\n",
      "progress: 100%|██████████| 43/43 [00:01<00:00, 37.66it/s]\n",
      "progress: 100%|██████████| 43/43 [00:00<00:00, 160.75it/s]\n",
      "progress: 100%|██████████| 43/43 [00:01<00:00, 37.68it/s]\n"
     ]
    },
    {
     "name": "stdout",
     "output_type": "stream",
     "text": [
      "Shift: 281.30 nm -> M1 (MSSR): 0.511, M2 (MSSR): 0.511\n",
      "Shift: 302.94 nm -> M1 (Diffraction): 0.765, M2 (Diffraction): 0.762\n"
     ]
    },
    {
     "name": "stderr",
     "output_type": "stream",
     "text": [
      "progress: 100%|██████████| 43/43 [00:00<00:00, 153.55it/s]\n",
      "progress: 100%|██████████| 43/43 [00:01<00:00, 37.15it/s]\n",
      "progress: 100%|██████████| 43/43 [00:00<00:00, 156.25it/s]\n",
      "progress: 100%|██████████| 43/43 [00:01<00:00, 36.61it/s]\n"
     ]
    },
    {
     "name": "stdout",
     "output_type": "stream",
     "text": [
      "Shift: 302.94 nm -> M1 (MSSR): 0.478, M2 (MSSR): 0.478\n",
      "Shift: 324.58 nm -> M1 (Diffraction): 0.749, M2 (Diffraction): 0.745\n"
     ]
    },
    {
     "name": "stderr",
     "output_type": "stream",
     "text": [
      "progress: 100%|██████████| 43/43 [00:00<00:00, 157.40it/s]\n",
      "progress: 100%|██████████| 43/43 [00:01<00:00, 37.05it/s]\n",
      "progress: 100%|██████████| 43/43 [00:00<00:00, 154.96it/s]\n",
      "progress: 100%|██████████| 43/43 [00:01<00:00, 36.84it/s]\n"
     ]
    },
    {
     "name": "stdout",
     "output_type": "stream",
     "text": [
      "Shift: 324.58 nm -> M1 (MSSR): 0.441, M2 (MSSR): 0.442\n",
      "Shift: 346.21 nm -> M1 (Diffraction): 0.731, M2 (Diffraction): 0.728\n"
     ]
    },
    {
     "name": "stderr",
     "output_type": "stream",
     "text": [
      "progress: 100%|██████████| 43/43 [00:00<00:00, 156.89it/s]\n",
      "progress: 100%|██████████| 43/43 [00:01<00:00, 37.73it/s]\n",
      "progress: 100%|██████████| 43/43 [00:00<00:00, 168.64it/s]\n",
      "progress: 100%|██████████| 43/43 [00:01<00:00, 38.05it/s]\n"
     ]
    },
    {
     "name": "stdout",
     "output_type": "stream",
     "text": [
      "Shift: 346.21 nm -> M1 (MSSR): 0.407, M2 (MSSR): 0.408\n",
      "Shift: 367.85 nm -> M1 (Diffraction): 0.715, M2 (Diffraction): 0.712\n"
     ]
    },
    {
     "name": "stderr",
     "output_type": "stream",
     "text": [
      "progress: 100%|██████████| 43/43 [00:00<00:00, 174.66it/s]\n",
      "progress: 100%|██████████| 43/43 [00:01<00:00, 39.17it/s]\n",
      "progress: 100%|██████████| 43/43 [00:00<00:00, 164.84it/s]\n",
      "progress: 100%|██████████| 43/43 [00:01<00:00, 38.53it/s]\n"
     ]
    },
    {
     "name": "stdout",
     "output_type": "stream",
     "text": [
      "Shift: 367.85 nm -> M1 (MSSR): 0.376, M2 (MSSR): 0.376\n",
      "Shift: 389.49 nm -> M1 (Diffraction): 0.698, M2 (Diffraction): 0.695\n"
     ]
    },
    {
     "name": "stderr",
     "output_type": "stream",
     "text": [
      "progress: 100%|██████████| 43/43 [00:00<00:00, 157.63it/s]\n",
      "progress: 100%|██████████| 43/43 [00:01<00:00, 36.29it/s]\n",
      "progress: 100%|██████████| 43/43 [00:00<00:00, 154.28it/s]\n",
      "progress: 100%|██████████| 43/43 [00:01<00:00, 38.21it/s]\n"
     ]
    },
    {
     "name": "stdout",
     "output_type": "stream",
     "text": [
      "Shift: 389.49 nm -> M1 (MSSR): 0.344, M2 (MSSR): 0.344\n",
      "Shift: 411.13 nm -> M1 (Diffraction): 0.681, M2 (Diffraction): 0.678\n"
     ]
    },
    {
     "name": "stderr",
     "output_type": "stream",
     "text": [
      "progress: 100%|██████████| 43/43 [00:00<00:00, 156.28it/s]\n",
      "progress: 100%|██████████| 43/43 [00:01<00:00, 37.58it/s]\n",
      "progress: 100%|██████████| 43/43 [00:00<00:00, 155.62it/s]\n",
      "progress: 100%|██████████| 43/43 [00:01<00:00, 37.26it/s]\n"
     ]
    },
    {
     "name": "stdout",
     "output_type": "stream",
     "text": [
      "Shift: 411.13 nm -> M1 (MSSR): 0.313, M2 (MSSR): 0.313\n",
      "Shift: 432.77 nm -> M1 (Diffraction): 0.665, M2 (Diffraction): 0.662\n"
     ]
    },
    {
     "name": "stderr",
     "output_type": "stream",
     "text": [
      "progress: 100%|██████████| 43/43 [00:00<00:00, 160.39it/s]\n",
      "progress: 100%|██████████| 43/43 [00:01<00:00, 37.51it/s]\n",
      "progress: 100%|██████████| 43/43 [00:00<00:00, 156.52it/s]\n",
      "progress: 100%|██████████| 43/43 [00:01<00:00, 38.19it/s]\n"
     ]
    },
    {
     "name": "stdout",
     "output_type": "stream",
     "text": [
      "Shift: 432.77 nm -> M1 (MSSR): 0.283, M2 (MSSR): 0.283\n",
      "Shift: 454.41 nm -> M1 (Diffraction): 0.649, M2 (Diffraction): 0.645\n"
     ]
    },
    {
     "name": "stderr",
     "output_type": "stream",
     "text": [
      "progress: 100%|██████████| 43/43 [00:00<00:00, 154.34it/s]\n",
      "progress: 100%|██████████| 43/43 [00:01<00:00, 37.66it/s]\n",
      "progress: 100%|██████████| 43/43 [00:00<00:00, 156.37it/s]\n",
      "progress: 100%|██████████| 43/43 [00:01<00:00, 35.59it/s]\n"
     ]
    },
    {
     "name": "stdout",
     "output_type": "stream",
     "text": [
      "Shift: 454.41 nm -> M1 (MSSR): 0.251, M2 (MSSR): 0.252\n",
      "Shift: 476.05 nm -> M1 (Diffraction): 0.632, M2 (Diffraction): 0.629\n"
     ]
    },
    {
     "name": "stderr",
     "output_type": "stream",
     "text": [
      "progress: 100%|██████████| 43/43 [00:00<00:00, 155.29it/s]\n",
      "progress: 100%|██████████| 43/43 [00:01<00:00, 37.40it/s]\n",
      "progress: 100%|██████████| 43/43 [00:00<00:00, 157.12it/s]\n",
      "progress: 100%|██████████| 43/43 [00:01<00:00, 37.13it/s]\n"
     ]
    },
    {
     "name": "stdout",
     "output_type": "stream",
     "text": [
      "Shift: 476.05 nm -> M1 (MSSR): 0.224, M2 (MSSR): 0.224\n",
      "Shift: 497.68 nm -> M1 (Diffraction): 0.616, M2 (Diffraction): 0.613\n"
     ]
    },
    {
     "name": "stderr",
     "output_type": "stream",
     "text": [
      "progress: 100%|██████████| 43/43 [00:00<00:00, 154.75it/s]\n",
      "progress: 100%|██████████| 43/43 [00:01<00:00, 38.37it/s]\n",
      "progress: 100%|██████████| 43/43 [00:00<00:00, 161.23it/s]\n",
      "progress: 100%|██████████| 43/43 [00:01<00:00, 38.17it/s]\n"
     ]
    },
    {
     "name": "stdout",
     "output_type": "stream",
     "text": [
      "Shift: 497.68 nm -> M1 (MSSR): 0.197, M2 (MSSR): 0.197\n",
      "Shift: 519.32 nm -> M1 (Diffraction): 0.599, M2 (Diffraction): 0.596\n"
     ]
    },
    {
     "name": "stderr",
     "output_type": "stream",
     "text": [
      "progress: 100%|██████████| 43/43 [00:00<00:00, 163.98it/s]\n",
      "progress: 100%|██████████| 43/43 [00:01<00:00, 38.58it/s]\n",
      "progress: 100%|██████████| 43/43 [00:00<00:00, 162.65it/s]\n",
      "progress: 100%|██████████| 43/43 [00:01<00:00, 37.94it/s]\n"
     ]
    },
    {
     "name": "stdout",
     "output_type": "stream",
     "text": [
      "Shift: 519.32 nm -> M1 (MSSR): 0.17, M2 (MSSR): 0.171\n",
      "Shift: 540.96 nm -> M1 (Diffraction): 0.583, M2 (Diffraction): 0.58\n"
     ]
    },
    {
     "name": "stderr",
     "output_type": "stream",
     "text": [
      "progress: 100%|██████████| 43/43 [00:00<00:00, 156.33it/s]\n",
      "progress: 100%|██████████| 43/43 [00:01<00:00, 36.86it/s]\n",
      "progress: 100%|██████████| 43/43 [00:00<00:00, 146.63it/s]\n",
      "progress: 100%|██████████| 43/43 [00:01<00:00, 38.51it/s]\n"
     ]
    },
    {
     "name": "stdout",
     "output_type": "stream",
     "text": [
      "Shift: 540.96 nm -> M1 (MSSR): 0.146, M2 (MSSR): 0.146\n",
      "Shift: 562.60 nm -> M1 (Diffraction): 0.567, M2 (Diffraction): 0.564\n"
     ]
    },
    {
     "name": "stderr",
     "output_type": "stream",
     "text": [
      "progress: 100%|██████████| 43/43 [00:00<00:00, 157.00it/s]\n",
      "progress: 100%|██████████| 43/43 [00:01<00:00, 37.37it/s]\n",
      "progress: 100%|██████████| 43/43 [00:00<00:00, 151.06it/s]\n",
      "progress: 100%|██████████| 43/43 [00:01<00:00, 37.96it/s]\n"
     ]
    },
    {
     "name": "stdout",
     "output_type": "stream",
     "text": [
      "Shift: 562.60 nm -> M1 (MSSR): 0.123, M2 (MSSR): 0.123\n",
      "Shift: 584.24 nm -> M1 (Diffraction): 0.551, M2 (Diffraction): 0.548\n"
     ]
    },
    {
     "name": "stderr",
     "output_type": "stream",
     "text": [
      "progress: 100%|██████████| 43/43 [00:00<00:00, 157.32it/s]\n",
      "progress: 100%|██████████| 43/43 [00:01<00:00, 37.82it/s]\n",
      "progress: 100%|██████████| 43/43 [00:00<00:00, 157.92it/s]\n",
      "progress: 100%|██████████| 43/43 [00:01<00:00, 37.61it/s]\n"
     ]
    },
    {
     "name": "stdout",
     "output_type": "stream",
     "text": [
      "Shift: 584.24 nm -> M1 (MSSR): 0.101, M2 (MSSR): 0.101\n",
      "Shift: 605.88 nm -> M1 (Diffraction): 0.535, M2 (Diffraction): 0.532\n"
     ]
    },
    {
     "name": "stderr",
     "output_type": "stream",
     "text": [
      "progress: 100%|██████████| 43/43 [00:00<00:00, 158.31it/s]\n",
      "progress: 100%|██████████| 43/43 [00:01<00:00, 37.13it/s]\n",
      "progress: 100%|██████████| 43/43 [00:00<00:00, 155.87it/s]\n",
      "progress: 100%|██████████| 43/43 [00:01<00:00, 36.98it/s]\n"
     ]
    },
    {
     "name": "stdout",
     "output_type": "stream",
     "text": [
      "Shift: 605.88 nm -> M1 (MSSR): 0.079, M2 (MSSR): 0.079\n",
      "Shift: 627.51 nm -> M1 (Diffraction): 0.519, M2 (Diffraction): 0.517\n"
     ]
    },
    {
     "name": "stderr",
     "output_type": "stream",
     "text": [
      "progress: 100%|██████████| 43/43 [00:00<00:00, 138.54it/s]\n",
      "progress: 100%|██████████| 43/43 [00:01<00:00, 37.22it/s]\n",
      "progress: 100%|██████████| 43/43 [00:00<00:00, 152.71it/s]\n",
      "progress: 100%|██████████| 43/43 [00:01<00:00, 36.93it/s]\n"
     ]
    },
    {
     "name": "stdout",
     "output_type": "stream",
     "text": [
      "Shift: 627.51 nm -> M1 (MSSR): 0.06, M2 (MSSR): 0.06\n",
      "Shift: 649.15 nm -> M1 (Diffraction): 0.503, M2 (Diffraction): 0.501\n"
     ]
    },
    {
     "name": "stderr",
     "output_type": "stream",
     "text": [
      "progress: 100%|██████████| 43/43 [00:00<00:00, 170.65it/s]\n",
      "progress: 100%|██████████| 43/43 [00:01<00:00, 38.77it/s]\n",
      "progress: 100%|██████████| 43/43 [00:00<00:00, 157.52it/s]\n",
      "progress: 100%|██████████| 43/43 [00:01<00:00, 38.39it/s]\n"
     ]
    },
    {
     "name": "stdout",
     "output_type": "stream",
     "text": [
      "Shift: 649.15 nm -> M1 (MSSR): 0.043, M2 (MSSR): 0.043\n",
      "Shift: 670.79 nm -> M1 (Diffraction): 0.487, M2 (Diffraction): 0.485\n"
     ]
    },
    {
     "name": "stderr",
     "output_type": "stream",
     "text": [
      "progress: 100%|██████████| 43/43 [00:00<00:00, 172.35it/s]\n",
      "progress: 100%|██████████| 43/43 [00:01<00:00, 39.11it/s]\n",
      "progress: 100%|██████████| 43/43 [00:00<00:00, 158.77it/s]\n",
      "progress: 100%|██████████| 43/43 [00:01<00:00, 38.19it/s]\n"
     ]
    },
    {
     "name": "stdout",
     "output_type": "stream",
     "text": [
      "Shift: 670.79 nm -> M1 (MSSR): 0.027, M2 (MSSR): 0.027\n",
      "Shift: 692.43 nm -> M1 (Diffraction): 0.472, M2 (Diffraction): 0.469\n"
     ]
    },
    {
     "name": "stderr",
     "output_type": "stream",
     "text": [
      "progress: 100%|██████████| 43/43 [00:00<00:00, 156.22it/s]\n",
      "progress: 100%|██████████| 43/43 [00:01<00:00, 37.10it/s]\n",
      "progress: 100%|██████████| 43/43 [00:00<00:00, 134.88it/s]\n",
      "progress: 100%|██████████| 43/43 [00:01<00:00, 38.14it/s]\n"
     ]
    },
    {
     "name": "stdout",
     "output_type": "stream",
     "text": [
      "Shift: 692.43 nm -> M1 (MSSR): 0.014, M2 (MSSR): 0.014\n",
      "Shift: 714.07 nm -> M1 (Diffraction): 0.456, M2 (Diffraction): 0.454\n"
     ]
    },
    {
     "name": "stderr",
     "output_type": "stream",
     "text": [
      "progress: 100%|██████████| 43/43 [00:00<00:00, 154.94it/s]\n",
      "progress: 100%|██████████| 43/43 [00:01<00:00, 38.20it/s]\n",
      "progress: 100%|██████████| 43/43 [00:00<00:00, 158.48it/s]\n",
      "progress: 100%|██████████| 43/43 [00:01<00:00, 37.61it/s]\n"
     ]
    },
    {
     "name": "stdout",
     "output_type": "stream",
     "text": [
      "Shift: 714.07 nm -> M1 (MSSR): 0.003, M2 (MSSR): 0.003\n",
      "Shift: 735.71 nm -> M1 (Diffraction): 0.441, M2 (Diffraction): 0.439\n"
     ]
    },
    {
     "name": "stderr",
     "output_type": "stream",
     "text": [
      "progress: 100%|██████████| 43/43 [00:00<00:00, 159.12it/s]\n",
      "progress: 100%|██████████| 43/43 [00:01<00:00, 37.80it/s]\n",
      "progress: 100%|██████████| 43/43 [00:00<00:00, 158.12it/s]\n",
      "progress: 100%|██████████| 43/43 [00:01<00:00, 37.73it/s]\n"
     ]
    },
    {
     "name": "stdout",
     "output_type": "stream",
     "text": [
      "Shift: 735.71 nm -> M1 (MSSR): 0.0, M2 (MSSR): 0.0\n",
      "Shift: 757.34 nm -> M1 (Diffraction): 0.426, M2 (Diffraction): 0.424\n"
     ]
    },
    {
     "name": "stderr",
     "output_type": "stream",
     "text": [
      "progress: 100%|██████████| 43/43 [00:00<00:00, 157.21it/s]\n",
      "progress: 100%|██████████| 43/43 [00:01<00:00, 37.13it/s]\n",
      "progress: 100%|██████████| 43/43 [00:00<00:00, 156.26it/s]\n",
      "progress: 100%|██████████| 43/43 [00:01<00:00, 36.55it/s]\n"
     ]
    },
    {
     "name": "stdout",
     "output_type": "stream",
     "text": [
      "Shift: 757.34 nm -> M1 (MSSR): 0.0, M2 (MSSR): 0.0\n",
      "Shift: 778.98 nm -> M1 (Diffraction): 0.41, M2 (Diffraction): 0.408\n"
     ]
    },
    {
     "name": "stderr",
     "output_type": "stream",
     "text": [
      "progress: 100%|██████████| 43/43 [00:00<00:00, 140.64it/s]\n",
      "progress: 100%|██████████| 43/43 [00:01<00:00, 36.98it/s]\n",
      "progress: 100%|██████████| 43/43 [00:00<00:00, 156.34it/s]\n",
      "progress: 100%|██████████| 43/43 [00:01<00:00, 36.52it/s]\n"
     ]
    },
    {
     "name": "stdout",
     "output_type": "stream",
     "text": [
      "Shift: 778.98 nm -> M1 (MSSR): 0.0, M2 (MSSR): 0.0\n",
      "Shift: 800.62 nm -> M1 (Diffraction): 0.396, M2 (Diffraction): 0.394\n"
     ]
    },
    {
     "name": "stderr",
     "output_type": "stream",
     "text": [
      "progress: 100%|██████████| 43/43 [00:00<00:00, 164.05it/s]\n",
      "progress: 100%|██████████| 43/43 [00:01<00:00, 38.62it/s]\n",
      "progress: 100%|██████████| 43/43 [00:00<00:00, 160.85it/s]\n",
      "progress: 100%|██████████| 43/43 [00:01<00:00, 38.07it/s]\n"
     ]
    },
    {
     "name": "stdout",
     "output_type": "stream",
     "text": [
      "Shift: 800.62 nm -> M1 (MSSR): 0.0, M2 (MSSR): 0.0\n",
      "Shift: 822.26 nm -> M1 (Diffraction): 0.381, M2 (Diffraction): 0.379\n"
     ]
    },
    {
     "name": "stderr",
     "output_type": "stream",
     "text": [
      "progress: 100%|██████████| 43/43 [00:00<00:00, 169.72it/s]\n",
      "progress: 100%|██████████| 43/43 [00:01<00:00, 38.70it/s]\n",
      "progress: 100%|██████████| 43/43 [00:00<00:00, 159.80it/s]\n",
      "progress: 100%|██████████| 43/43 [00:01<00:00, 37.99it/s]\n"
     ]
    },
    {
     "name": "stdout",
     "output_type": "stream",
     "text": [
      "Shift: 822.26 nm -> M1 (MSSR): 0.0, M2 (MSSR): 0.0\n",
      "Shift: 843.90 nm -> M1 (Diffraction): 0.366, M2 (Diffraction): 0.365\n"
     ]
    },
    {
     "name": "stderr",
     "output_type": "stream",
     "text": [
      "progress: 100%|██████████| 43/43 [00:00<00:00, 154.50it/s]\n",
      "progress: 100%|██████████| 43/43 [00:01<00:00, 36.94it/s]\n",
      "progress: 100%|██████████| 43/43 [00:00<00:00, 155.41it/s]\n",
      "progress: 100%|██████████| 43/43 [00:01<00:00, 37.05it/s]\n"
     ]
    },
    {
     "name": "stdout",
     "output_type": "stream",
     "text": [
      "Shift: 843.90 nm -> M1 (MSSR): 0.0, M2 (MSSR): 0.0\n",
      "Shift: 865.54 nm -> M1 (Diffraction): 0.352, M2 (Diffraction): 0.35\n"
     ]
    },
    {
     "name": "stderr",
     "output_type": "stream",
     "text": [
      "progress: 100%|██████████| 43/43 [00:00<00:00, 155.32it/s]\n",
      "progress: 100%|██████████| 43/43 [00:01<00:00, 37.87it/s]\n",
      "progress: 100%|██████████| 43/43 [00:00<00:00, 153.00it/s]\n",
      "progress: 100%|██████████| 43/43 [00:01<00:00, 37.44it/s]\n"
     ]
    },
    {
     "name": "stdout",
     "output_type": "stream",
     "text": [
      "Shift: 865.54 nm -> M1 (MSSR): 0.0, M2 (MSSR): 0.0\n",
      "Shift: 887.17 nm -> M1 (Diffraction): 0.337, M2 (Diffraction): 0.335\n"
     ]
    },
    {
     "name": "stderr",
     "output_type": "stream",
     "text": [
      "progress: 100%|██████████| 43/43 [00:00<00:00, 157.67it/s]\n",
      "progress: 100%|██████████| 43/43 [00:01<00:00, 38.08it/s]\n",
      "progress: 100%|██████████| 43/43 [00:00<00:00, 157.35it/s]\n",
      "progress: 100%|██████████| 43/43 [00:01<00:00, 38.06it/s]\n"
     ]
    },
    {
     "name": "stdout",
     "output_type": "stream",
     "text": [
      "Shift: 887.17 nm -> M1 (MSSR): 0.0, M2 (MSSR): 0.0\n",
      "Shift: 908.81 nm -> M1 (Diffraction): 0.323, M2 (Diffraction): 0.321\n"
     ]
    },
    {
     "name": "stderr",
     "output_type": "stream",
     "text": [
      "progress: 100%|██████████| 43/43 [00:00<00:00, 158.41it/s]\n",
      "progress: 100%|██████████| 43/43 [00:01<00:00, 36.04it/s]\n",
      "progress: 100%|██████████| 43/43 [00:00<00:00, 120.16it/s]\n",
      "progress: 100%|██████████| 43/43 [00:01<00:00, 37.64it/s]\n"
     ]
    },
    {
     "name": "stdout",
     "output_type": "stream",
     "text": [
      "Shift: 908.81 nm -> M1 (MSSR): 0.0, M2 (MSSR): 0.0\n",
      "Shift: 930.45 nm -> M1 (Diffraction): 0.308, M2 (Diffraction): 0.307\n"
     ]
    },
    {
     "name": "stderr",
     "output_type": "stream",
     "text": [
      "progress: 100%|██████████| 43/43 [00:00<00:00, 152.67it/s]\n",
      "progress: 100%|██████████| 43/43 [00:01<00:00, 37.38it/s]\n",
      "progress: 100%|██████████| 43/43 [00:00<00:00, 164.34it/s]\n",
      "progress: 100%|██████████| 43/43 [00:01<00:00, 37.07it/s]\n"
     ]
    },
    {
     "name": "stdout",
     "output_type": "stream",
     "text": [
      "Shift: 930.45 nm -> M1 (MSSR): 0.0, M2 (MSSR): 0.0\n",
      "Shift: 952.09 nm -> M1 (Diffraction): 0.295, M2 (Diffraction): 0.293\n"
     ]
    },
    {
     "name": "stderr",
     "output_type": "stream",
     "text": [
      "progress: 100%|██████████| 43/43 [00:00<00:00, 164.99it/s]\n",
      "progress: 100%|██████████| 43/43 [00:01<00:00, 38.16it/s]\n",
      "progress: 100%|██████████| 43/43 [00:00<00:00, 164.54it/s]\n",
      "progress: 100%|██████████| 43/43 [00:01<00:00, 37.81it/s]\n"
     ]
    },
    {
     "name": "stdout",
     "output_type": "stream",
     "text": [
      "Shift: 952.09 nm -> M1 (MSSR): 0.0, M2 (MSSR): 0.0\n",
      "Shift: 973.73 nm -> M1 (Diffraction): 0.281, M2 (Diffraction): 0.28\n"
     ]
    },
    {
     "name": "stderr",
     "output_type": "stream",
     "text": [
      "progress: 100%|██████████| 43/43 [00:00<00:00, 169.19it/s]\n",
      "progress: 100%|██████████| 43/43 [00:01<00:00, 39.21it/s]\n",
      "progress: 100%|██████████| 43/43 [00:00<00:00, 157.64it/s]\n",
      "progress: 100%|██████████| 43/43 [00:01<00:00, 38.18it/s]\n"
     ]
    },
    {
     "name": "stdout",
     "output_type": "stream",
     "text": [
      "Shift: 973.73 nm -> M1 (MSSR): 0.0, M2 (MSSR): 0.0\n",
      "Shift: 995.37 nm -> M1 (Diffraction): 0.268, M2 (Diffraction): 0.267\n"
     ]
    },
    {
     "name": "stderr",
     "output_type": "stream",
     "text": [
      "progress: 100%|██████████| 43/43 [00:00<00:00, 161.22it/s]\n",
      "progress: 100%|██████████| 43/43 [00:01<00:00, 35.73it/s]\n",
      "progress: 100%|██████████| 43/43 [00:00<00:00, 155.75it/s]\n",
      "progress: 100%|██████████| 43/43 [00:01<00:00, 38.68it/s]\n"
     ]
    },
    {
     "name": "stdout",
     "output_type": "stream",
     "text": [
      "Shift: 995.37 nm -> M1 (MSSR): 0.0, M2 (MSSR): 0.0\n",
      "Shift: 1017.01 nm -> M1 (Diffraction): 0.254, M2 (Diffraction): 0.254\n"
     ]
    },
    {
     "name": "stderr",
     "output_type": "stream",
     "text": [
      "progress: 100%|██████████| 43/43 [00:00<00:00, 155.18it/s]\n",
      "progress: 100%|██████████| 43/43 [00:01<00:00, 37.37it/s]\n",
      "progress: 100%|██████████| 43/43 [00:00<00:00, 154.10it/s]\n",
      "progress: 100%|██████████| 43/43 [00:01<00:00, 37.86it/s]\n"
     ]
    },
    {
     "name": "stdout",
     "output_type": "stream",
     "text": [
      "Shift: 1017.01 nm -> M1 (MSSR): 0.0, M2 (MSSR): 0.0\n",
      "Shift: 1038.64 nm -> M1 (Diffraction): 0.24, M2 (Diffraction): 0.242\n"
     ]
    },
    {
     "name": "stderr",
     "output_type": "stream",
     "text": [
      "progress: 100%|██████████| 43/43 [00:00<00:00, 160.39it/s]\n",
      "progress: 100%|██████████| 43/43 [00:01<00:00, 37.40it/s]\n",
      "progress: 100%|██████████| 43/43 [00:00<00:00, 155.14it/s]\n",
      "progress: 100%|██████████| 43/43 [00:01<00:00, 37.81it/s]\n"
     ]
    },
    {
     "name": "stdout",
     "output_type": "stream",
     "text": [
      "Shift: 1038.64 nm -> M1 (MSSR): 0.0, M2 (MSSR): 0.0\n",
      "Shift: 1060.28 nm -> M1 (Diffraction): 0.227, M2 (Diffraction): 0.23\n"
     ]
    },
    {
     "name": "stderr",
     "output_type": "stream",
     "text": [
      "progress: 100%|██████████| 43/43 [00:00<00:00, 160.64it/s]\n",
      "progress: 100%|██████████| 43/43 [00:01<00:00, 36.85it/s]\n",
      "progress: 100%|██████████| 43/43 [00:00<00:00, 152.52it/s]\n",
      "progress: 100%|██████████| 43/43 [00:01<00:00, 36.37it/s]\n"
     ]
    },
    {
     "name": "stdout",
     "output_type": "stream",
     "text": [
      "Shift: 1060.28 nm -> M1 (MSSR): 0.0, M2 (MSSR): 0.0\n",
      "Shift: 0.00 nm -> M1 (Diffraction): 1.0, M2 (Diffraction): 1.0\n"
     ]
    },
    {
     "name": "stderr",
     "output_type": "stream",
     "text": [
      "progress: 100%|██████████| 43/43 [00:00<00:00, 153.98it/s]\n",
      "progress: 100%|██████████| 43/43 [00:01<00:00, 37.22it/s]\n",
      "progress: 100%|██████████| 43/43 [00:00<00:00, 161.81it/s]\n",
      "progress: 100%|██████████| 43/43 [00:01<00:00, 36.66it/s]\n"
     ]
    },
    {
     "name": "stdout",
     "output_type": "stream",
     "text": [
      "Shift: 0.00 nm -> M1 (MSSR): 1.0, M2 (MSSR): 1.0\n",
      "Shift: 21.64 nm -> M1 (Diffraction): 0.978, M2 (Diffraction): 0.979\n"
     ]
    },
    {
     "name": "stderr",
     "output_type": "stream",
     "text": [
      "progress: 100%|██████████| 43/43 [00:00<00:00, 157.01it/s]\n",
      "progress: 100%|██████████| 43/43 [00:01<00:00, 36.44it/s]\n",
      "progress: 100%|██████████| 43/43 [00:00<00:00, 155.76it/s]\n",
      "progress: 100%|██████████| 43/43 [00:01<00:00, 36.53it/s]\n"
     ]
    },
    {
     "name": "stdout",
     "output_type": "stream",
     "text": [
      "Shift: 21.64 nm -> M1 (MSSR): 0.938, M2 (MSSR): 0.938\n",
      "Shift: 43.28 nm -> M1 (Diffraction): 0.959, M2 (Diffraction): 0.959\n"
     ]
    },
    {
     "name": "stderr",
     "output_type": "stream",
     "text": [
      "progress: 100%|██████████| 43/43 [00:00<00:00, 164.53it/s]\n",
      "progress: 100%|██████████| 43/43 [00:01<00:00, 38.30it/s]\n",
      "progress: 100%|██████████| 43/43 [00:00<00:00, 164.74it/s]\n",
      "progress: 100%|██████████| 43/43 [00:01<00:00, 38.35it/s]\n"
     ]
    },
    {
     "name": "stdout",
     "output_type": "stream",
     "text": [
      "Shift: 43.28 nm -> M1 (MSSR): 0.879, M2 (MSSR): 0.879\n",
      "Shift: 64.92 nm -> M1 (Diffraction): 0.938, M2 (Diffraction): 0.937\n"
     ]
    },
    {
     "name": "stderr",
     "output_type": "stream",
     "text": [
      "progress: 100%|██████████| 43/43 [00:00<00:00, 151.75it/s]\n",
      "progress: 100%|██████████| 43/43 [00:01<00:00, 36.50it/s]\n",
      "progress: 100%|██████████| 43/43 [00:00<00:00, 161.98it/s]\n",
      "progress: 100%|██████████| 43/43 [00:01<00:00, 38.07it/s]\n"
     ]
    },
    {
     "name": "stdout",
     "output_type": "stream",
     "text": [
      "Shift: 64.92 nm -> M1 (MSSR): 0.826, M2 (MSSR): 0.826\n",
      "Shift: 86.55 nm -> M1 (Diffraction): 0.917, M2 (Diffraction): 0.916\n"
     ]
    },
    {
     "name": "stderr",
     "output_type": "stream",
     "text": [
      "progress: 100%|██████████| 43/43 [00:00<00:00, 158.10it/s]\n",
      "progress: 100%|██████████| 43/43 [00:01<00:00, 37.46it/s]\n",
      "progress: 100%|██████████| 43/43 [00:00<00:00, 162.79it/s]\n",
      "progress: 100%|██████████| 43/43 [00:01<00:00, 38.36it/s]\n"
     ]
    },
    {
     "name": "stdout",
     "output_type": "stream",
     "text": [
      "Shift: 86.55 nm -> M1 (MSSR): 0.781, M2 (MSSR): 0.778\n",
      "Shift: 108.19 nm -> M1 (Diffraction): 0.896, M2 (Diffraction): 0.895\n"
     ]
    },
    {
     "name": "stderr",
     "output_type": "stream",
     "text": [
      "progress: 100%|██████████| 43/43 [00:00<00:00, 157.01it/s]\n",
      "progress: 100%|██████████| 43/43 [00:01<00:00, 37.99it/s]\n",
      "progress: 100%|██████████| 43/43 [00:00<00:00, 157.57it/s]\n",
      "progress: 100%|██████████| 43/43 [00:01<00:00, 37.74it/s]\n"
     ]
    },
    {
     "name": "stdout",
     "output_type": "stream",
     "text": [
      "Shift: 108.19 nm -> M1 (MSSR): 0.739, M2 (MSSR): 0.737\n",
      "Shift: 129.83 nm -> M1 (Diffraction): 0.874, M2 (Diffraction): 0.874\n"
     ]
    },
    {
     "name": "stderr",
     "output_type": "stream",
     "text": [
      "progress: 100%|██████████| 43/43 [00:00<00:00, 167.87it/s]\n",
      "progress: 100%|██████████| 43/43 [00:01<00:00, 37.15it/s]\n",
      "progress: 100%|██████████| 43/43 [00:00<00:00, 151.62it/s]\n",
      "progress: 100%|██████████| 43/43 [00:01<00:00, 37.51it/s]\n"
     ]
    },
    {
     "name": "stdout",
     "output_type": "stream",
     "text": [
      "Shift: 129.83 nm -> M1 (MSSR): 0.706, M2 (MSSR): 0.706\n",
      "Shift: 151.47 nm -> M1 (Diffraction): 0.853, M2 (Diffraction): 0.854\n"
     ]
    },
    {
     "name": "stderr",
     "output_type": "stream",
     "text": [
      "progress: 100%|██████████| 43/43 [00:00<00:00, 158.88it/s]\n",
      "progress: 100%|██████████| 43/43 [00:01<00:00, 37.68it/s]\n",
      "progress: 100%|██████████| 43/43 [00:00<00:00, 152.78it/s]\n",
      "progress: 100%|██████████| 43/43 [00:01<00:00, 37.59it/s]\n"
     ]
    },
    {
     "name": "stdout",
     "output_type": "stream",
     "text": [
      "Shift: 151.47 nm -> M1 (MSSR): 0.677, M2 (MSSR): 0.677\n",
      "Shift: 173.11 nm -> M1 (Diffraction): 0.833, M2 (Diffraction): 0.834\n"
     ]
    },
    {
     "name": "stderr",
     "output_type": "stream",
     "text": [
      "progress: 100%|██████████| 43/43 [00:00<00:00, 157.59it/s]\n",
      "progress: 100%|██████████| 43/43 [00:01<00:00, 37.06it/s]\n",
      "progress: 100%|██████████| 43/43 [00:00<00:00, 156.27it/s]\n",
      "progress: 100%|██████████| 43/43 [00:01<00:00, 36.84it/s]\n"
     ]
    },
    {
     "name": "stdout",
     "output_type": "stream",
     "text": [
      "Shift: 173.11 nm -> M1 (MSSR): 0.636, M2 (MSSR): 0.636\n",
      "Shift: 194.75 nm -> M1 (Diffraction): 0.813, M2 (Diffraction): 0.812\n"
     ]
    },
    {
     "name": "stderr",
     "output_type": "stream",
     "text": [
      "progress: 100%|██████████| 43/43 [00:00<00:00, 159.93it/s]\n",
      "progress: 100%|██████████| 43/43 [00:01<00:00, 38.31it/s]\n",
      "progress: 100%|██████████| 43/43 [00:00<00:00, 160.28it/s]\n",
      "progress: 100%|██████████| 43/43 [00:01<00:00, 37.75it/s]\n"
     ]
    },
    {
     "name": "stdout",
     "output_type": "stream",
     "text": [
      "Shift: 194.75 nm -> M1 (MSSR): 0.594, M2 (MSSR): 0.593\n",
      "Shift: 216.38 nm -> M1 (Diffraction): 0.792, M2 (Diffraction): 0.791\n"
     ]
    },
    {
     "name": "stderr",
     "output_type": "stream",
     "text": [
      "progress: 100%|██████████| 43/43 [00:00<00:00, 167.27it/s]\n",
      "progress: 100%|██████████| 43/43 [00:01<00:00, 38.38it/s]\n",
      "progress: 100%|██████████| 43/43 [00:00<00:00, 160.37it/s]\n",
      "progress: 100%|██████████| 43/43 [00:01<00:00, 38.12it/s]\n"
     ]
    },
    {
     "name": "stdout",
     "output_type": "stream",
     "text": [
      "Shift: 216.38 nm -> M1 (MSSR): 0.56, M2 (MSSR): 0.558\n",
      "Shift: 238.02 nm -> M1 (Diffraction): 0.771, M2 (Diffraction): 0.771\n"
     ]
    },
    {
     "name": "stderr",
     "output_type": "stream",
     "text": [
      "progress: 100%|██████████| 43/43 [00:00<00:00, 153.79it/s]\n",
      "progress: 100%|██████████| 43/43 [00:01<00:00, 36.65it/s]\n",
      "progress: 100%|██████████| 43/43 [00:00<00:00, 155.19it/s]\n",
      "progress: 100%|██████████| 43/43 [00:01<00:00, 38.35it/s]\n"
     ]
    },
    {
     "name": "stdout",
     "output_type": "stream",
     "text": [
      "Shift: 238.02 nm -> M1 (MSSR): 0.531, M2 (MSSR): 0.529\n",
      "Shift: 259.66 nm -> M1 (Diffraction): 0.75, M2 (Diffraction): 0.75\n"
     ]
    },
    {
     "name": "stderr",
     "output_type": "stream",
     "text": [
      "progress: 100%|██████████| 43/43 [00:00<00:00, 157.09it/s]\n",
      "progress: 100%|██████████| 43/43 [00:01<00:00, 37.91it/s]\n",
      "progress: 100%|██████████| 43/43 [00:00<00:00, 158.95it/s]\n",
      "progress: 100%|██████████| 43/43 [00:01<00:00, 37.79it/s]\n"
     ]
    },
    {
     "name": "stdout",
     "output_type": "stream",
     "text": [
      "Shift: 259.66 nm -> M1 (MSSR): 0.503, M2 (MSSR): 0.502\n",
      "Shift: 281.30 nm -> M1 (Diffraction): 0.729, M2 (Diffraction): 0.729\n"
     ]
    },
    {
     "name": "stderr",
     "output_type": "stream",
     "text": [
      "progress: 100%|██████████| 43/43 [00:00<00:00, 157.55it/s]\n",
      "progress: 100%|██████████| 43/43 [00:01<00:00, 36.88it/s]\n",
      "progress: 100%|██████████| 43/43 [00:00<00:00, 157.84it/s]\n",
      "progress: 100%|██████████| 43/43 [00:01<00:00, 37.29it/s]\n"
     ]
    },
    {
     "name": "stdout",
     "output_type": "stream",
     "text": [
      "Shift: 281.30 nm -> M1 (MSSR): 0.474, M2 (MSSR): 0.474\n",
      "Shift: 302.94 nm -> M1 (Diffraction): 0.709, M2 (Diffraction): 0.71\n"
     ]
    },
    {
     "name": "stderr",
     "output_type": "stream",
     "text": [
      "progress: 100%|██████████| 43/43 [00:00<00:00, 158.87it/s]\n",
      "progress: 100%|██████████| 43/43 [00:01<00:00, 38.19it/s]\n",
      "progress: 100%|██████████| 43/43 [00:00<00:00, 149.74it/s]\n",
      "progress: 100%|██████████| 43/43 [00:01<00:00, 37.64it/s]\n"
     ]
    },
    {
     "name": "stdout",
     "output_type": "stream",
     "text": [
      "Shift: 302.94 nm -> M1 (MSSR): 0.445, M2 (MSSR): 0.445\n",
      "Shift: 324.58 nm -> M1 (Diffraction): 0.689, M2 (Diffraction): 0.689\n"
     ]
    },
    {
     "name": "stderr",
     "output_type": "stream",
     "text": [
      "progress: 100%|██████████| 43/43 [00:00<00:00, 153.96it/s]\n",
      "progress: 100%|██████████| 43/43 [00:01<00:00, 36.84it/s]\n",
      "progress: 100%|██████████| 43/43 [00:00<00:00, 158.55it/s]\n",
      "progress: 100%|██████████| 43/43 [00:01<00:00, 37.43it/s]\n"
     ]
    },
    {
     "name": "stdout",
     "output_type": "stream",
     "text": [
      "Shift: 324.58 nm -> M1 (MSSR): 0.413, M2 (MSSR): 0.413\n",
      "Shift: 346.21 nm -> M1 (Diffraction): 0.669, M2 (Diffraction): 0.669\n"
     ]
    },
    {
     "name": "stderr",
     "output_type": "stream",
     "text": [
      "progress: 100%|██████████| 43/43 [00:00<00:00, 165.91it/s]\n",
      "progress: 100%|██████████| 43/43 [00:01<00:00, 38.38it/s]\n",
      "progress: 100%|██████████| 43/43 [00:00<00:00, 166.45it/s]\n",
      "progress: 100%|██████████| 43/43 [00:01<00:00, 37.00it/s]\n"
     ]
    },
    {
     "name": "stdout",
     "output_type": "stream",
     "text": [
      "Shift: 346.21 nm -> M1 (MSSR): 0.376, M2 (MSSR): 0.375\n",
      "Shift: 367.85 nm -> M1 (Diffraction): 0.648, M2 (Diffraction): 0.648\n"
     ]
    },
    {
     "name": "stderr",
     "output_type": "stream",
     "text": [
      "progress: 100%|██████████| 43/43 [00:00<00:00, 169.01it/s]\n",
      "progress: 100%|██████████| 43/43 [00:01<00:00, 38.32it/s]\n",
      "progress: 100%|██████████| 43/43 [00:00<00:00, 157.01it/s]\n",
      "progress: 100%|██████████| 43/43 [00:01<00:00, 38.54it/s]\n"
     ]
    },
    {
     "name": "stdout",
     "output_type": "stream",
     "text": [
      "Shift: 367.85 nm -> M1 (MSSR): 0.342, M2 (MSSR): 0.341\n",
      "Shift: 389.49 nm -> M1 (Diffraction): 0.628, M2 (Diffraction): 0.628\n"
     ]
    },
    {
     "name": "stderr",
     "output_type": "stream",
     "text": [
      "progress: 100%|██████████| 43/43 [00:00<00:00, 147.01it/s]\n",
      "progress: 100%|██████████| 43/43 [00:01<00:00, 37.38it/s]\n",
      "progress: 100%|██████████| 43/43 [00:00<00:00, 154.26it/s]\n",
      "progress: 100%|██████████| 43/43 [00:01<00:00, 38.64it/s]\n"
     ]
    },
    {
     "name": "stdout",
     "output_type": "stream",
     "text": [
      "Shift: 389.49 nm -> M1 (MSSR): 0.306, M2 (MSSR): 0.305\n",
      "Shift: 411.13 nm -> M1 (Diffraction): 0.607, M2 (Diffraction): 0.608\n"
     ]
    },
    {
     "name": "stderr",
     "output_type": "stream",
     "text": [
      "progress: 100%|██████████| 43/43 [00:00<00:00, 154.54it/s]\n",
      "progress: 100%|██████████| 43/43 [00:01<00:00, 38.23it/s]\n",
      "progress: 100%|██████████| 43/43 [00:00<00:00, 155.15it/s]\n",
      "progress: 100%|██████████| 43/43 [00:01<00:00, 37.60it/s]\n"
     ]
    },
    {
     "name": "stdout",
     "output_type": "stream",
     "text": [
      "Shift: 411.13 nm -> M1 (MSSR): 0.276, M2 (MSSR): 0.276\n",
      "Shift: 432.77 nm -> M1 (Diffraction): 0.588, M2 (Diffraction): 0.589\n"
     ]
    },
    {
     "name": "stderr",
     "output_type": "stream",
     "text": [
      "progress: 100%|██████████| 43/43 [00:00<00:00, 157.82it/s]\n",
      "progress: 100%|██████████| 43/43 [00:01<00:00, 36.86it/s]\n",
      "progress: 100%|██████████| 43/43 [00:00<00:00, 152.76it/s]\n",
      "progress: 100%|██████████| 43/43 [00:01<00:00, 38.14it/s]\n"
     ]
    },
    {
     "name": "stdout",
     "output_type": "stream",
     "text": [
      "Shift: 432.77 nm -> M1 (MSSR): 0.25, M2 (MSSR): 0.25\n",
      "Shift: 454.41 nm -> M1 (Diffraction): 0.569, M2 (Diffraction): 0.569\n"
     ]
    },
    {
     "name": "stderr",
     "output_type": "stream",
     "text": [
      "progress: 100%|██████████| 43/43 [00:00<00:00, 156.93it/s]\n",
      "progress: 100%|██████████| 43/43 [00:01<00:00, 37.83it/s]\n",
      "progress: 100%|██████████| 43/43 [00:00<00:00, 158.18it/s]\n",
      "progress: 100%|██████████| 43/43 [00:01<00:00, 38.31it/s]\n"
     ]
    },
    {
     "name": "stdout",
     "output_type": "stream",
     "text": [
      "Shift: 454.41 nm -> M1 (MSSR): 0.214, M2 (MSSR): 0.214\n",
      "Shift: 476.05 nm -> M1 (Diffraction): 0.549, M2 (Diffraction): 0.549\n"
     ]
    },
    {
     "name": "stderr",
     "output_type": "stream",
     "text": [
      "progress: 100%|██████████| 43/43 [00:00<00:00, 160.89it/s]\n",
      "progress: 100%|██████████| 43/43 [00:01<00:00, 36.83it/s]\n",
      "progress: 100%|██████████| 43/43 [00:00<00:00, 148.06it/s]\n",
      "progress: 100%|██████████| 43/43 [00:01<00:00, 36.39it/s]\n"
     ]
    },
    {
     "name": "stdout",
     "output_type": "stream",
     "text": [
      "Shift: 476.05 nm -> M1 (MSSR): 0.178, M2 (MSSR): 0.177\n",
      "Shift: 497.68 nm -> M1 (Diffraction): 0.53, M2 (Diffraction): 0.529\n"
     ]
    },
    {
     "name": "stderr",
     "output_type": "stream",
     "text": [
      "progress: 100%|██████████| 43/43 [00:00<00:00, 164.74it/s]\n",
      "progress: 100%|██████████| 43/43 [00:01<00:00, 38.65it/s]\n",
      "progress: 100%|██████████| 43/43 [00:00<00:00, 151.42it/s]\n",
      "progress: 100%|██████████| 43/43 [00:01<00:00, 38.14it/s]\n"
     ]
    },
    {
     "name": "stdout",
     "output_type": "stream",
     "text": [
      "Shift: 497.68 nm -> M1 (MSSR): 0.148, M2 (MSSR): 0.147\n",
      "Shift: 519.32 nm -> M1 (Diffraction): 0.51, M2 (Diffraction): 0.51\n"
     ]
    },
    {
     "name": "stderr",
     "output_type": "stream",
     "text": [
      "progress: 100%|██████████| 43/43 [00:00<00:00, 160.55it/s]\n",
      "progress: 100%|██████████| 43/43 [00:01<00:00, 38.73it/s]\n",
      "progress: 100%|██████████| 43/43 [00:00<00:00, 157.10it/s]\n",
      "progress: 100%|██████████| 43/43 [00:01<00:00, 37.53it/s]\n"
     ]
    },
    {
     "name": "stdout",
     "output_type": "stream",
     "text": [
      "Shift: 519.32 nm -> M1 (MSSR): 0.119, M2 (MSSR): 0.119\n",
      "Shift: 540.96 nm -> M1 (Diffraction): 0.49, M2 (Diffraction): 0.49\n"
     ]
    },
    {
     "name": "stderr",
     "output_type": "stream",
     "text": [
      "progress: 100%|██████████| 43/43 [00:00<00:00, 154.48it/s]\n",
      "progress: 100%|██████████| 43/43 [00:01<00:00, 37.85it/s]\n",
      "progress: 100%|██████████| 43/43 [00:00<00:00, 157.82it/s]\n",
      "progress: 100%|██████████| 43/43 [00:01<00:00, 38.25it/s]\n"
     ]
    },
    {
     "name": "stdout",
     "output_type": "stream",
     "text": [
      "Shift: 540.96 nm -> M1 (MSSR): 0.094, M2 (MSSR): 0.094\n",
      "Shift: 562.60 nm -> M1 (Diffraction): 0.472, M2 (Diffraction): 0.472\n"
     ]
    },
    {
     "name": "stderr",
     "output_type": "stream",
     "text": [
      "progress: 100%|██████████| 43/43 [00:00<00:00, 142.73it/s]\n",
      "progress: 100%|██████████| 43/43 [00:01<00:00, 37.91it/s]\n",
      "progress: 100%|██████████| 43/43 [00:00<00:00, 160.71it/s]\n",
      "progress: 100%|██████████| 43/43 [00:01<00:00, 37.86it/s]\n"
     ]
    },
    {
     "name": "stdout",
     "output_type": "stream",
     "text": [
      "Shift: 562.60 nm -> M1 (MSSR): 0.084, M2 (MSSR): 0.084\n",
      "Shift: 584.24 nm -> M1 (Diffraction): 0.453, M2 (Diffraction): 0.453\n"
     ]
    },
    {
     "name": "stderr",
     "output_type": "stream",
     "text": [
      "progress: 100%|██████████| 43/43 [00:00<00:00, 151.14it/s]\n",
      "progress: 100%|██████████| 43/43 [00:01<00:00, 37.08it/s]\n",
      "progress: 100%|██████████| 43/43 [00:00<00:00, 153.39it/s]\n",
      "progress: 100%|██████████| 43/43 [00:01<00:00, 37.61it/s]\n"
     ]
    },
    {
     "name": "stdout",
     "output_type": "stream",
     "text": [
      "Shift: 584.24 nm -> M1 (MSSR): 0.071, M2 (MSSR): 0.071\n",
      "Shift: 605.88 nm -> M1 (Diffraction): 0.435, M2 (Diffraction): 0.434\n"
     ]
    },
    {
     "name": "stderr",
     "output_type": "stream",
     "text": [
      "progress: 100%|██████████| 43/43 [00:00<00:00, 153.27it/s]\n",
      "progress: 100%|██████████| 43/43 [00:01<00:00, 37.03it/s]\n",
      "progress: 100%|██████████| 43/43 [00:00<00:00, 159.76it/s]\n",
      "progress: 100%|██████████| 43/43 [00:01<00:00, 37.92it/s]\n"
     ]
    },
    {
     "name": "stdout",
     "output_type": "stream",
     "text": [
      "Shift: 605.88 nm -> M1 (MSSR): 0.051, M2 (MSSR): 0.051\n",
      "Shift: 627.51 nm -> M1 (Diffraction): 0.416, M2 (Diffraction): 0.416\n"
     ]
    },
    {
     "name": "stderr",
     "output_type": "stream",
     "text": [
      "progress: 100%|██████████| 43/43 [00:00<00:00, 154.37it/s]\n",
      "progress: 100%|██████████| 43/43 [00:01<00:00, 36.46it/s]\n",
      "progress: 100%|██████████| 43/43 [00:00<00:00, 139.98it/s]\n",
      "progress: 100%|██████████| 43/43 [00:01<00:00, 37.24it/s]\n"
     ]
    },
    {
     "name": "stdout",
     "output_type": "stream",
     "text": [
      "Shift: 627.51 nm -> M1 (MSSR): 0.033, M2 (MSSR): 0.033\n",
      "Shift: 649.15 nm -> M1 (Diffraction): 0.398, M2 (Diffraction): 0.397\n"
     ]
    },
    {
     "name": "stderr",
     "output_type": "stream",
     "text": [
      "progress: 100%|██████████| 43/43 [00:00<00:00, 165.39it/s]\n",
      "progress: 100%|██████████| 43/43 [00:01<00:00, 38.26it/s]\n",
      "progress: 100%|██████████| 43/43 [00:00<00:00, 158.91it/s]\n",
      "progress: 100%|██████████| 43/43 [00:01<00:00, 37.01it/s]\n"
     ]
    },
    {
     "name": "stdout",
     "output_type": "stream",
     "text": [
      "Shift: 649.15 nm -> M1 (MSSR): 0.017, M2 (MSSR): 0.017\n",
      "Shift: 670.79 nm -> M1 (Diffraction): 0.379, M2 (Diffraction): 0.379\n"
     ]
    },
    {
     "name": "stderr",
     "output_type": "stream",
     "text": [
      "progress: 100%|██████████| 43/43 [00:00<00:00, 173.43it/s]\n",
      "progress: 100%|██████████| 43/43 [00:01<00:00, 38.62it/s]\n",
      "progress: 100%|██████████| 43/43 [00:00<00:00, 157.68it/s]\n",
      "progress: 100%|██████████| 43/43 [00:01<00:00, 37.83it/s]\n"
     ]
    },
    {
     "name": "stdout",
     "output_type": "stream",
     "text": [
      "Shift: 670.79 nm -> M1 (MSSR): 0.005, M2 (MSSR): 0.005\n",
      "Shift: 692.43 nm -> M1 (Diffraction): 0.361, M2 (Diffraction): 0.362\n"
     ]
    },
    {
     "name": "stderr",
     "output_type": "stream",
     "text": [
      "progress: 100%|██████████| 43/43 [00:00<00:00, 155.63it/s]\n",
      "progress: 100%|██████████| 43/43 [00:01<00:00, 38.03it/s]\n",
      "progress: 100%|██████████| 43/43 [00:00<00:00, 154.57it/s]\n",
      "progress: 100%|██████████| 43/43 [00:01<00:00, 38.89it/s]\n"
     ]
    },
    {
     "name": "stdout",
     "output_type": "stream",
     "text": [
      "Shift: 692.43 nm -> M1 (MSSR): 0.0, M2 (MSSR): 0.0\n",
      "Shift: 714.07 nm -> M1 (Diffraction): 0.344, M2 (Diffraction): 0.344\n"
     ]
    },
    {
     "name": "stderr",
     "output_type": "stream",
     "text": [
      "progress: 100%|██████████| 43/43 [00:00<00:00, 151.44it/s]\n",
      "progress: 100%|██████████| 43/43 [00:01<00:00, 37.16it/s]\n",
      "progress: 100%|██████████| 43/43 [00:00<00:00, 159.11it/s]\n",
      "progress: 100%|██████████| 43/43 [00:01<00:00, 37.23it/s]\n"
     ]
    },
    {
     "name": "stdout",
     "output_type": "stream",
     "text": [
      "Shift: 714.07 nm -> M1 (MSSR): 0.0, M2 (MSSR): 0.0\n",
      "Shift: 735.71 nm -> M1 (Diffraction): 0.327, M2 (Diffraction): 0.326\n"
     ]
    },
    {
     "name": "stderr",
     "output_type": "stream",
     "text": [
      "progress: 100%|██████████| 43/43 [00:00<00:00, 155.54it/s]\n",
      "progress: 100%|██████████| 43/43 [00:01<00:00, 33.45it/s]\n",
      "progress: 100%|██████████| 43/43 [00:00<00:00, 160.31it/s]\n",
      "progress: 100%|██████████| 43/43 [00:01<00:00, 37.77it/s]\n"
     ]
    },
    {
     "name": "stdout",
     "output_type": "stream",
     "text": [
      "Shift: 735.71 nm -> M1 (MSSR): 0.0, M2 (MSSR): 0.0\n",
      "Shift: 757.34 nm -> M1 (Diffraction): 0.309, M2 (Diffraction): 0.309\n"
     ]
    },
    {
     "name": "stderr",
     "output_type": "stream",
     "text": [
      "progress: 100%|██████████| 43/43 [00:00<00:00, 155.05it/s]\n",
      "progress: 100%|██████████| 43/43 [00:01<00:00, 37.36it/s]\n",
      "progress: 100%|██████████| 43/43 [00:00<00:00, 158.45it/s]\n",
      "progress: 100%|██████████| 43/43 [00:01<00:00, 38.01it/s]\n"
     ]
    },
    {
     "name": "stdout",
     "output_type": "stream",
     "text": [
      "Shift: 757.34 nm -> M1 (MSSR): 0.0, M2 (MSSR): 0.0\n",
      "Shift: 778.98 nm -> M1 (Diffraction): 0.292, M2 (Diffraction): 0.292\n"
     ]
    },
    {
     "name": "stderr",
     "output_type": "stream",
     "text": [
      "progress: 100%|██████████| 43/43 [00:00<00:00, 152.77it/s]\n",
      "progress: 100%|██████████| 43/43 [00:01<00:00, 36.91it/s]\n",
      "progress: 100%|██████████| 43/43 [00:00<00:00, 157.06it/s]\n",
      "progress: 100%|██████████| 43/43 [00:01<00:00, 37.47it/s]\n"
     ]
    },
    {
     "name": "stdout",
     "output_type": "stream",
     "text": [
      "Shift: 778.98 nm -> M1 (MSSR): 0.0, M2 (MSSR): 0.0\n",
      "Shift: 800.62 nm -> M1 (Diffraction): 0.275, M2 (Diffraction): 0.275\n"
     ]
    },
    {
     "name": "stderr",
     "output_type": "stream",
     "text": [
      "progress: 100%|██████████| 43/43 [00:00<00:00, 164.28it/s]\n",
      "progress: 100%|██████████| 43/43 [00:01<00:00, 37.65it/s]\n",
      "progress: 100%|██████████| 43/43 [00:00<00:00, 158.53it/s]\n",
      "progress: 100%|██████████| 43/43 [00:01<00:00, 36.50it/s]\n"
     ]
    },
    {
     "name": "stdout",
     "output_type": "stream",
     "text": [
      "Shift: 800.62 nm -> M1 (MSSR): 0.0, M2 (MSSR): 0.0\n",
      "Shift: 822.26 nm -> M1 (Diffraction): 0.258, M2 (Diffraction): 0.259\n"
     ]
    },
    {
     "name": "stderr",
     "output_type": "stream",
     "text": [
      "progress: 100%|██████████| 43/43 [00:00<00:00, 165.17it/s]\n",
      "progress: 100%|██████████| 43/43 [00:01<00:00, 38.95it/s]\n",
      "progress: 100%|██████████| 43/43 [00:00<00:00, 156.81it/s]\n",
      "progress: 100%|██████████| 43/43 [00:01<00:00, 37.72it/s]\n"
     ]
    },
    {
     "name": "stdout",
     "output_type": "stream",
     "text": [
      "Shift: 822.26 nm -> M1 (MSSR): 0.0, M2 (MSSR): 0.0\n",
      "Shift: 843.90 nm -> M1 (Diffraction): 0.242, M2 (Diffraction): 0.242\n"
     ]
    },
    {
     "name": "stderr",
     "output_type": "stream",
     "text": [
      "progress: 100%|██████████| 43/43 [00:00<00:00, 152.22it/s]\n",
      "progress: 100%|██████████| 43/43 [00:01<00:00, 37.63it/s]\n",
      "progress: 100%|██████████| 43/43 [00:00<00:00, 149.72it/s]\n",
      "progress: 100%|██████████| 43/43 [00:01<00:00, 38.75it/s]\n"
     ]
    },
    {
     "name": "stdout",
     "output_type": "stream",
     "text": [
      "Shift: 843.90 nm -> M1 (MSSR): 0.0, M2 (MSSR): 0.0\n",
      "Shift: 865.54 nm -> M1 (Diffraction): 0.227, M2 (Diffraction): 0.227\n"
     ]
    },
    {
     "name": "stderr",
     "output_type": "stream",
     "text": [
      "progress: 100%|██████████| 43/43 [00:00<00:00, 148.74it/s]\n",
      "progress: 100%|██████████| 43/43 [00:01<00:00, 38.03it/s]\n",
      "progress: 100%|██████████| 43/43 [00:00<00:00, 157.25it/s]\n",
      "progress: 100%|██████████| 43/43 [00:01<00:00, 36.63it/s]\n"
     ]
    },
    {
     "name": "stdout",
     "output_type": "stream",
     "text": [
      "Shift: 865.54 nm -> M1 (MSSR): 0.0, M2 (MSSR): 0.0\n",
      "Shift: 887.17 nm -> M1 (Diffraction): 0.211, M2 (Diffraction): 0.211\n"
     ]
    },
    {
     "name": "stderr",
     "output_type": "stream",
     "text": [
      "progress: 100%|██████████| 43/43 [00:00<00:00, 145.23it/s]\n",
      "progress: 100%|██████████| 43/43 [00:01<00:00, 36.50it/s]\n",
      "progress: 100%|██████████| 43/43 [00:00<00:00, 160.44it/s]\n",
      "progress: 100%|██████████| 43/43 [00:01<00:00, 37.48it/s]\n"
     ]
    },
    {
     "name": "stdout",
     "output_type": "stream",
     "text": [
      "Shift: 887.17 nm -> M1 (MSSR): 0.0, M2 (MSSR): 0.0\n",
      "Shift: 908.81 nm -> M1 (Diffraction): 0.195, M2 (Diffraction): 0.195\n"
     ]
    },
    {
     "name": "stderr",
     "output_type": "stream",
     "text": [
      "progress: 100%|██████████| 43/43 [00:00<00:00, 159.82it/s]\n",
      "progress: 100%|██████████| 43/43 [00:01<00:00, 37.06it/s]\n",
      "progress: 100%|██████████| 43/43 [00:00<00:00, 160.92it/s]\n",
      "progress: 100%|██████████| 43/43 [00:01<00:00, 38.53it/s]\n"
     ]
    },
    {
     "name": "stdout",
     "output_type": "stream",
     "text": [
      "Shift: 908.81 nm -> M1 (MSSR): 0.0, M2 (MSSR): 0.0\n",
      "Shift: 930.45 nm -> M1 (Diffraction): 0.181, M2 (Diffraction): 0.181\n"
     ]
    },
    {
     "name": "stderr",
     "output_type": "stream",
     "text": [
      "progress: 100%|██████████| 43/43 [00:00<00:00, 152.95it/s]\n",
      "progress: 100%|██████████| 43/43 [00:01<00:00, 37.52it/s]\n",
      "progress: 100%|██████████| 43/43 [00:00<00:00, 155.66it/s]\n",
      "progress: 100%|██████████| 43/43 [00:01<00:00, 37.18it/s]\n"
     ]
    },
    {
     "name": "stdout",
     "output_type": "stream",
     "text": [
      "Shift: 930.45 nm -> M1 (MSSR): 0.0, M2 (MSSR): 0.0\n",
      "Shift: 952.09 nm -> M1 (Diffraction): 0.166, M2 (Diffraction): 0.166\n"
     ]
    },
    {
     "name": "stderr",
     "output_type": "stream",
     "text": [
      "progress: 100%|██████████| 43/43 [00:00<00:00, 165.90it/s]\n",
      "progress: 100%|██████████| 43/43 [00:01<00:00, 38.23it/s]\n",
      "progress: 100%|██████████| 43/43 [00:00<00:00, 154.14it/s]\n",
      "progress: 100%|██████████| 43/43 [00:01<00:00, 36.61it/s]\n"
     ]
    },
    {
     "name": "stdout",
     "output_type": "stream",
     "text": [
      "Shift: 952.09 nm -> M1 (MSSR): 0.0, M2 (MSSR): 0.0\n",
      "Shift: 973.73 nm -> M1 (Diffraction): 0.152, M2 (Diffraction): 0.152\n"
     ]
    },
    {
     "name": "stderr",
     "output_type": "stream",
     "text": [
      "progress: 100%|██████████| 43/43 [00:00<00:00, 169.47it/s]\n",
      "progress: 100%|██████████| 43/43 [00:01<00:00, 38.61it/s]\n",
      "progress: 100%|██████████| 43/43 [00:00<00:00, 151.75it/s]\n",
      "progress: 100%|██████████| 43/43 [00:01<00:00, 35.02it/s]\n"
     ]
    },
    {
     "name": "stdout",
     "output_type": "stream",
     "text": [
      "Shift: 973.73 nm -> M1 (MSSR): 0.0, M2 (MSSR): 0.0\n",
      "Shift: 995.37 nm -> M1 (Diffraction): 0.138, M2 (Diffraction): 0.138\n"
     ]
    },
    {
     "name": "stderr",
     "output_type": "stream",
     "text": [
      "progress: 100%|██████████| 43/43 [00:00<00:00, 160.99it/s]\n",
      "progress: 100%|██████████| 43/43 [00:01<00:00, 37.19it/s]\n",
      "progress: 100%|██████████| 43/43 [00:00<00:00, 157.40it/s]\n",
      "progress: 100%|██████████| 43/43 [00:01<00:00, 37.87it/s]\n"
     ]
    },
    {
     "name": "stdout",
     "output_type": "stream",
     "text": [
      "Shift: 995.37 nm -> M1 (MSSR): 0.0, M2 (MSSR): 0.0\n",
      "Shift: 1017.01 nm -> M1 (Diffraction): 0.124, M2 (Diffraction): 0.124\n"
     ]
    },
    {
     "name": "stderr",
     "output_type": "stream",
     "text": [
      "progress: 100%|██████████| 43/43 [00:00<00:00, 155.29it/s]\n",
      "progress: 100%|██████████| 43/43 [00:01<00:00, 38.12it/s]\n",
      "progress: 100%|██████████| 43/43 [00:00<00:00, 153.59it/s]\n",
      "progress: 100%|██████████| 43/43 [00:01<00:00, 37.16it/s]\n"
     ]
    },
    {
     "name": "stdout",
     "output_type": "stream",
     "text": [
      "Shift: 1017.01 nm -> M1 (MSSR): 0.0, M2 (MSSR): 0.0\n",
      "Shift: 1038.64 nm -> M1 (Diffraction): 0.111, M2 (Diffraction): 0.111\n"
     ]
    },
    {
     "name": "stderr",
     "output_type": "stream",
     "text": [
      "progress: 100%|██████████| 43/43 [00:00<00:00, 154.09it/s]\n",
      "progress: 100%|██████████| 43/43 [00:01<00:00, 37.25it/s]\n",
      "progress: 100%|██████████| 43/43 [00:00<00:00, 154.21it/s]\n",
      "progress: 100%|██████████| 43/43 [00:01<00:00, 37.76it/s]\n"
     ]
    },
    {
     "name": "stdout",
     "output_type": "stream",
     "text": [
      "Shift: 1038.64 nm -> M1 (MSSR): 0.0, M2 (MSSR): 0.0\n",
      "Shift: 1060.28 nm -> M1 (Diffraction): 0.099, M2 (Diffraction): 0.099\n"
     ]
    },
    {
     "name": "stderr",
     "output_type": "stream",
     "text": [
      "progress: 100%|██████████| 43/43 [00:00<00:00, 146.81it/s]\n",
      "progress: 100%|██████████| 43/43 [00:01<00:00, 36.57it/s]\n",
      "progress: 100%|██████████| 43/43 [00:00<00:00, 159.47it/s]\n",
      "progress: 100%|██████████| 43/43 [00:01<00:00, 37.83it/s]\n"
     ]
    },
    {
     "name": "stdout",
     "output_type": "stream",
     "text": [
      "Shift: 1060.28 nm -> M1 (MSSR): 0.0, M2 (MSSR): 0.0\n",
      "Shift: 0.00 nm -> M1 (Diffraction): 1.0, M2 (Diffraction): 1.0\n"
     ]
    },
    {
     "name": "stderr",
     "output_type": "stream",
     "text": [
      "progress: 100%|██████████| 43/43 [00:00<00:00, 158.51it/s]\n",
      "progress: 100%|██████████| 43/43 [00:01<00:00, 37.16it/s]\n",
      "progress: 100%|██████████| 43/43 [00:00<00:00, 158.45it/s]\n",
      "progress: 100%|██████████| 43/43 [00:01<00:00, 37.21it/s]\n"
     ]
    },
    {
     "name": "stdout",
     "output_type": "stream",
     "text": [
      "Shift: 0.00 nm -> M1 (MSSR): 1.0, M2 (MSSR): 1.0\n",
      "Shift: 21.64 nm -> M1 (Diffraction): 0.97, M2 (Diffraction): 0.971\n"
     ]
    },
    {
     "name": "stderr",
     "output_type": "stream",
     "text": [
      "progress: 100%|██████████| 43/43 [00:00<00:00, 155.71it/s]\n",
      "progress: 100%|██████████| 43/43 [00:01<00:00, 36.68it/s]\n",
      "progress: 100%|██████████| 43/43 [00:00<00:00, 149.06it/s]\n",
      "progress: 100%|██████████| 43/43 [00:01<00:00, 35.41it/s]\n"
     ]
    },
    {
     "name": "stdout",
     "output_type": "stream",
     "text": [
      "Shift: 21.64 nm -> M1 (MSSR): 0.912, M2 (MSSR): 0.919\n",
      "Shift: 43.28 nm -> M1 (Diffraction): 0.941, M2 (Diffraction): 0.942\n"
     ]
    },
    {
     "name": "stderr",
     "output_type": "stream",
     "text": [
      "progress: 100%|██████████| 43/43 [00:00<00:00, 166.80it/s]\n",
      "progress: 100%|██████████| 43/43 [00:01<00:00, 38.75it/s]\n",
      "progress: 100%|██████████| 43/43 [00:00<00:00, 157.86it/s]\n",
      "progress: 100%|██████████| 43/43 [00:01<00:00, 38.58it/s]\n"
     ]
    },
    {
     "name": "stdout",
     "output_type": "stream",
     "text": [
      "Shift: 43.28 nm -> M1 (MSSR): 0.832, M2 (MSSR): 0.834\n",
      "Shift: 64.92 nm -> M1 (Diffraction): 0.912, M2 (Diffraction): 0.912\n"
     ]
    },
    {
     "name": "stderr",
     "output_type": "stream",
     "text": [
      "progress: 100%|██████████| 43/43 [00:00<00:00, 154.29it/s]\n",
      "progress: 100%|██████████| 43/43 [00:01<00:00, 37.62it/s]\n",
      "progress: 100%|██████████| 43/43 [00:00<00:00, 155.41it/s]\n",
      "progress: 100%|██████████| 43/43 [00:01<00:00, 37.28it/s]\n"
     ]
    },
    {
     "name": "stdout",
     "output_type": "stream",
     "text": [
      "Shift: 64.92 nm -> M1 (MSSR): 0.75, M2 (MSSR): 0.75\n",
      "Shift: 86.55 nm -> M1 (Diffraction): 0.881, M2 (Diffraction): 0.882\n"
     ]
    },
    {
     "name": "stderr",
     "output_type": "stream",
     "text": [
      "progress: 100%|██████████| 43/43 [00:00<00:00, 155.46it/s]\n",
      "progress: 100%|██████████| 43/43 [00:01<00:00, 38.26it/s]\n",
      "progress: 100%|██████████| 43/43 [00:00<00:00, 159.96it/s]\n",
      "progress: 100%|██████████| 43/43 [00:01<00:00, 37.96it/s]\n"
     ]
    },
    {
     "name": "stdout",
     "output_type": "stream",
     "text": [
      "Shift: 86.55 nm -> M1 (MSSR): 0.658, M2 (MSSR): 0.666\n",
      "Shift: 108.19 nm -> M1 (Diffraction): 0.851, M2 (Diffraction): 0.852\n"
     ]
    },
    {
     "name": "stderr",
     "output_type": "stream",
     "text": [
      "progress: 100%|██████████| 43/43 [00:00<00:00, 147.78it/s]\n",
      "progress: 100%|██████████| 43/43 [00:01<00:00, 37.47it/s]\n",
      "progress: 100%|██████████| 43/43 [00:00<00:00, 156.40it/s]\n",
      "progress: 100%|██████████| 43/43 [00:01<00:00, 37.75it/s]\n"
     ]
    },
    {
     "name": "stdout",
     "output_type": "stream",
     "text": [
      "Shift: 108.19 nm -> M1 (MSSR): 0.578, M2 (MSSR): 0.579\n",
      "Shift: 129.83 nm -> M1 (Diffraction): 0.822, M2 (Diffraction): 0.822\n"
     ]
    },
    {
     "name": "stderr",
     "output_type": "stream",
     "text": [
      "progress: 100%|██████████| 43/43 [00:00<00:00, 164.56it/s]\n",
      "progress: 100%|██████████| 43/43 [00:01<00:00, 38.55it/s]\n",
      "progress: 100%|██████████| 43/43 [00:00<00:00, 156.02it/s]\n",
      "progress: 100%|██████████| 43/43 [00:01<00:00, 38.28it/s]\n"
     ]
    },
    {
     "name": "stdout",
     "output_type": "stream",
     "text": [
      "Shift: 129.83 nm -> M1 (MSSR): 0.501, M2 (MSSR): 0.502\n",
      "Shift: 151.47 nm -> M1 (Diffraction): 0.792, M2 (Diffraction): 0.793\n"
     ]
    },
    {
     "name": "stderr",
     "output_type": "stream",
     "text": [
      "progress: 100%|██████████| 43/43 [00:00<00:00, 160.07it/s]\n",
      "progress: 100%|██████████| 43/43 [00:01<00:00, 37.01it/s]\n",
      "progress: 100%|██████████| 43/43 [00:00<00:00, 158.98it/s]\n",
      "progress: 100%|██████████| 43/43 [00:01<00:00, 37.70it/s]\n"
     ]
    },
    {
     "name": "stdout",
     "output_type": "stream",
     "text": [
      "Shift: 151.47 nm -> M1 (MSSR): 0.418, M2 (MSSR): 0.422\n",
      "Shift: 173.11 nm -> M1 (Diffraction): 0.765, M2 (Diffraction): 0.765\n"
     ]
    },
    {
     "name": "stderr",
     "output_type": "stream",
     "text": [
      "progress: 100%|██████████| 43/43 [00:00<00:00, 154.98it/s]\n",
      "progress: 100%|██████████| 43/43 [00:01<00:00, 36.72it/s]\n",
      "progress: 100%|██████████| 43/43 [00:00<00:00, 149.92it/s]\n",
      "progress: 100%|██████████| 43/43 [00:01<00:00, 36.09it/s]\n"
     ]
    },
    {
     "name": "stdout",
     "output_type": "stream",
     "text": [
      "Shift: 173.11 nm -> M1 (MSSR): 0.348, M2 (MSSR): 0.35\n",
      "Shift: 194.75 nm -> M1 (Diffraction): 0.736, M2 (Diffraction): 0.736\n"
     ]
    },
    {
     "name": "stderr",
     "output_type": "stream",
     "text": [
      "progress: 100%|██████████| 43/43 [00:00<00:00, 162.97it/s]\n",
      "progress: 100%|██████████| 43/43 [00:01<00:00, 37.72it/s]\n",
      "progress: 100%|██████████| 43/43 [00:00<00:00, 165.99it/s]\n",
      "progress: 100%|██████████| 43/43 [00:01<00:00, 37.60it/s]\n"
     ]
    },
    {
     "name": "stdout",
     "output_type": "stream",
     "text": [
      "Shift: 194.75 nm -> M1 (MSSR): 0.278, M2 (MSSR): 0.279\n",
      "Shift: 216.38 nm -> M1 (Diffraction): 0.706, M2 (Diffraction): 0.707\n"
     ]
    },
    {
     "name": "stderr",
     "output_type": "stream",
     "text": [
      "progress: 100%|██████████| 43/43 [00:00<00:00, 168.99it/s]\n",
      "progress: 100%|██████████| 43/43 [00:01<00:00, 39.02it/s]\n",
      "progress: 100%|██████████| 43/43 [00:00<00:00, 159.35it/s]\n",
      "progress: 100%|██████████| 43/43 [00:01<00:00, 37.73it/s]\n"
     ]
    },
    {
     "name": "stdout",
     "output_type": "stream",
     "text": [
      "Shift: 216.38 nm -> M1 (MSSR): 0.204, M2 (MSSR): 0.206\n",
      "Shift: 238.02 nm -> M1 (Diffraction): 0.677, M2 (Diffraction): 0.678\n"
     ]
    },
    {
     "name": "stderr",
     "output_type": "stream",
     "text": [
      "progress: 100%|██████████| 43/43 [00:00<00:00, 139.32it/s]\n",
      "progress: 100%|██████████| 43/43 [00:01<00:00, 37.46it/s]\n",
      "progress: 100%|██████████| 43/43 [00:00<00:00, 151.95it/s]\n",
      "progress: 100%|██████████| 43/43 [00:01<00:00, 37.69it/s]\n"
     ]
    },
    {
     "name": "stdout",
     "output_type": "stream",
     "text": [
      "Shift: 238.02 nm -> M1 (MSSR): 0.144, M2 (MSSR): 0.144\n",
      "Shift: 259.66 nm -> M1 (Diffraction): 0.649, M2 (Diffraction): 0.649\n"
     ]
    },
    {
     "name": "stderr",
     "output_type": "stream",
     "text": [
      "progress: 100%|██████████| 43/43 [00:00<00:00, 144.98it/s]\n",
      "progress: 100%|██████████| 43/43 [00:01<00:00, 37.94it/s]\n",
      "progress: 100%|██████████| 43/43 [00:00<00:00, 153.67it/s]\n",
      "progress: 100%|██████████| 43/43 [00:01<00:00, 37.19it/s]\n"
     ]
    },
    {
     "name": "stdout",
     "output_type": "stream",
     "text": [
      "Shift: 259.66 nm -> M1 (MSSR): 0.091, M2 (MSSR): 0.091\n",
      "Shift: 281.30 nm -> M1 (Diffraction): 0.62, M2 (Diffraction): 0.621\n"
     ]
    },
    {
     "name": "stderr",
     "output_type": "stream",
     "text": [
      "progress: 100%|██████████| 43/43 [00:00<00:00, 155.92it/s]\n",
      "progress: 100%|██████████| 43/43 [00:01<00:00, 37.52it/s]\n",
      "progress: 100%|██████████| 43/43 [00:00<00:00, 159.94it/s]\n",
      "progress: 100%|██████████| 43/43 [00:01<00:00, 38.32it/s]\n"
     ]
    },
    {
     "name": "stdout",
     "output_type": "stream",
     "text": [
      "Shift: 281.30 nm -> M1 (MSSR): 0.044, M2 (MSSR): 0.044\n",
      "Shift: 302.94 nm -> M1 (Diffraction): 0.593, M2 (Diffraction): 0.593\n"
     ]
    },
    {
     "name": "stderr",
     "output_type": "stream",
     "text": [
      "progress: 100%|██████████| 43/43 [00:00<00:00, 161.34it/s]\n",
      "progress: 100%|██████████| 43/43 [00:01<00:00, 37.58it/s]\n",
      "progress: 100%|██████████| 43/43 [00:00<00:00, 157.50it/s]\n",
      "progress: 100%|██████████| 43/43 [00:01<00:00, 36.60it/s]\n"
     ]
    },
    {
     "name": "stdout",
     "output_type": "stream",
     "text": [
      "Shift: 302.94 nm -> M1 (MSSR): 0.011, M2 (MSSR): 0.011\n",
      "Shift: 324.58 nm -> M1 (Diffraction): 0.565, M2 (Diffraction): 0.565\n"
     ]
    },
    {
     "name": "stderr",
     "output_type": "stream",
     "text": [
      "progress: 100%|██████████| 43/43 [00:00<00:00, 150.94it/s]\n",
      "progress: 100%|██████████| 43/43 [00:01<00:00, 36.49it/s]\n",
      "progress: 100%|██████████| 43/43 [00:00<00:00, 150.79it/s]\n",
      "progress: 100%|██████████| 43/43 [00:01<00:00, 37.10it/s]\n"
     ]
    },
    {
     "name": "stdout",
     "output_type": "stream",
     "text": [
      "Shift: 324.58 nm -> M1 (MSSR): 0.0, M2 (MSSR): 0.0\n",
      "Shift: 346.21 nm -> M1 (Diffraction): 0.537, M2 (Diffraction): 0.537\n"
     ]
    },
    {
     "name": "stderr",
     "output_type": "stream",
     "text": [
      "progress: 100%|██████████| 43/43 [00:00<00:00, 170.52it/s]\n",
      "progress: 100%|██████████| 43/43 [00:01<00:00, 37.76it/s]\n",
      "progress: 100%|██████████| 43/43 [00:00<00:00, 164.59it/s]\n",
      "progress: 100%|██████████| 43/43 [00:01<00:00, 38.17it/s]\n"
     ]
    },
    {
     "name": "stdout",
     "output_type": "stream",
     "text": [
      "Shift: 346.21 nm -> M1 (MSSR): 0.0, M2 (MSSR): 0.0\n",
      "Shift: 367.85 nm -> M1 (Diffraction): 0.509, M2 (Diffraction): 0.51\n"
     ]
    },
    {
     "name": "stderr",
     "output_type": "stream",
     "text": [
      "progress: 100%|██████████| 43/43 [00:00<00:00, 167.50it/s]\n",
      "progress: 100%|██████████| 43/43 [00:01<00:00, 38.47it/s]\n",
      "progress: 100%|██████████| 43/43 [00:00<00:00, 153.75it/s]\n",
      "progress: 100%|██████████| 43/43 [00:01<00:00, 37.87it/s]\n"
     ]
    },
    {
     "name": "stdout",
     "output_type": "stream",
     "text": [
      "Shift: 367.85 nm -> M1 (MSSR): 0.0, M2 (MSSR): 0.0\n",
      "Shift: 389.49 nm -> M1 (Diffraction): 0.482, M2 (Diffraction): 0.482\n"
     ]
    },
    {
     "name": "stderr",
     "output_type": "stream",
     "text": [
      "progress: 100%|██████████| 43/43 [00:00<00:00, 154.17it/s]\n",
      "progress: 100%|██████████| 43/43 [00:01<00:00, 35.73it/s]\n",
      "progress: 100%|██████████| 43/43 [00:00<00:00, 156.57it/s]\n",
      "progress: 100%|██████████| 43/43 [00:01<00:00, 37.68it/s]\n"
     ]
    },
    {
     "name": "stdout",
     "output_type": "stream",
     "text": [
      "Shift: 389.49 nm -> M1 (MSSR): 0.0, M2 (MSSR): 0.0\n",
      "Shift: 411.13 nm -> M1 (Diffraction): 0.455, M2 (Diffraction): 0.456\n"
     ]
    },
    {
     "name": "stderr",
     "output_type": "stream",
     "text": [
      "progress: 100%|██████████| 43/43 [00:00<00:00, 151.73it/s]\n",
      "progress: 100%|██████████| 43/43 [00:01<00:00, 37.53it/s]\n",
      "progress: 100%|██████████| 43/43 [00:00<00:00, 155.39it/s]\n",
      "progress: 100%|██████████| 43/43 [00:01<00:00, 37.20it/s]\n"
     ]
    },
    {
     "name": "stdout",
     "output_type": "stream",
     "text": [
      "Shift: 411.13 nm -> M1 (MSSR): 0.0, M2 (MSSR): 0.0\n",
      "Shift: 432.77 nm -> M1 (Diffraction): 0.429, M2 (Diffraction): 0.43\n"
     ]
    },
    {
     "name": "stderr",
     "output_type": "stream",
     "text": [
      "progress: 100%|██████████| 43/43 [00:00<00:00, 153.44it/s]\n",
      "progress: 100%|██████████| 43/43 [00:01<00:00, 38.05it/s]\n",
      "progress: 100%|██████████| 43/43 [00:00<00:00, 164.40it/s]\n",
      "progress: 100%|██████████| 43/43 [00:01<00:00, 38.52it/s]\n"
     ]
    },
    {
     "name": "stdout",
     "output_type": "stream",
     "text": [
      "Shift: 432.77 nm -> M1 (MSSR): 0.0, M2 (MSSR): 0.0\n",
      "Shift: 454.41 nm -> M1 (Diffraction): 0.404, M2 (Diffraction): 0.404\n"
     ]
    },
    {
     "name": "stderr",
     "output_type": "stream",
     "text": [
      "progress: 100%|██████████| 43/43 [00:00<00:00, 157.42it/s]\n",
      "progress: 100%|██████████| 43/43 [00:01<00:00, 37.57it/s]\n",
      "progress: 100%|██████████| 43/43 [00:00<00:00, 160.01it/s]\n",
      "progress: 100%|██████████| 43/43 [00:01<00:00, 36.72it/s]\n"
     ]
    },
    {
     "name": "stdout",
     "output_type": "stream",
     "text": [
      "Shift: 454.41 nm -> M1 (MSSR): 0.0, M2 (MSSR): 0.0\n",
      "Shift: 476.05 nm -> M1 (Diffraction): 0.377, M2 (Diffraction): 0.378\n"
     ]
    },
    {
     "name": "stderr",
     "output_type": "stream",
     "text": [
      "progress: 100%|██████████| 43/43 [00:00<00:00, 149.04it/s]\n",
      "progress: 100%|██████████| 43/43 [00:01<00:00, 36.25it/s]\n",
      "progress: 100%|██████████| 43/43 [00:00<00:00, 154.80it/s]\n",
      "progress: 100%|██████████| 43/43 [00:01<00:00, 36.90it/s]\n"
     ]
    },
    {
     "name": "stdout",
     "output_type": "stream",
     "text": [
      "Shift: 476.05 nm -> M1 (MSSR): 0.0, M2 (MSSR): 0.0\n",
      "Shift: 497.68 nm -> M1 (Diffraction): 0.352, M2 (Diffraction): 0.353\n"
     ]
    },
    {
     "name": "stderr",
     "output_type": "stream",
     "text": [
      "progress: 100%|██████████| 43/43 [00:00<00:00, 164.49it/s]\n",
      "progress: 100%|██████████| 43/43 [00:01<00:00, 37.60it/s]\n",
      "progress: 100%|██████████| 43/43 [00:00<00:00, 160.71it/s]\n",
      "progress: 100%|██████████| 43/43 [00:01<00:00, 38.60it/s]\n"
     ]
    },
    {
     "name": "stdout",
     "output_type": "stream",
     "text": [
      "Shift: 497.68 nm -> M1 (MSSR): 0.0, M2 (MSSR): 0.0\n",
      "Shift: 519.32 nm -> M1 (Diffraction): 0.327, M2 (Diffraction): 0.327\n"
     ]
    },
    {
     "name": "stderr",
     "output_type": "stream",
     "text": [
      "progress: 100%|██████████| 43/43 [00:00<00:00, 165.69it/s]\n",
      "progress: 100%|██████████| 43/43 [00:01<00:00, 39.17it/s]\n",
      "progress: 100%|██████████| 43/43 [00:00<00:00, 157.91it/s]\n",
      "progress: 100%|██████████| 43/43 [00:01<00:00, 37.64it/s]\n"
     ]
    },
    {
     "name": "stdout",
     "output_type": "stream",
     "text": [
      "Shift: 519.32 nm -> M1 (MSSR): 0.0, M2 (MSSR): 0.0\n",
      "Shift: 540.96 nm -> M1 (Diffraction): 0.303, M2 (Diffraction): 0.303\n"
     ]
    },
    {
     "name": "stderr",
     "output_type": "stream",
     "text": [
      "progress: 100%|██████████| 43/43 [00:00<00:00, 157.38it/s]\n",
      "progress: 100%|██████████| 43/43 [00:01<00:00, 36.66it/s]\n",
      "progress: 100%|██████████| 43/43 [00:00<00:00, 156.60it/s]\n",
      "progress: 100%|██████████| 43/43 [00:01<00:00, 34.16it/s]\n"
     ]
    },
    {
     "name": "stdout",
     "output_type": "stream",
     "text": [
      "Shift: 540.96 nm -> M1 (MSSR): 0.0, M2 (MSSR): 0.0\n",
      "Shift: 562.60 nm -> M1 (Diffraction): 0.279, M2 (Diffraction): 0.28\n"
     ]
    },
    {
     "name": "stderr",
     "output_type": "stream",
     "text": [
      "progress: 100%|██████████| 43/43 [00:00<00:00, 149.10it/s]\n",
      "progress: 100%|██████████| 43/43 [00:01<00:00, 38.19it/s]\n",
      "progress: 100%|██████████| 43/43 [00:00<00:00, 155.81it/s]\n",
      "progress: 100%|██████████| 43/43 [00:01<00:00, 37.15it/s]\n"
     ]
    },
    {
     "name": "stdout",
     "output_type": "stream",
     "text": [
      "Shift: 562.60 nm -> M1 (MSSR): 0.0, M2 (MSSR): 0.0\n",
      "Shift: 584.24 nm -> M1 (Diffraction): 0.257, M2 (Diffraction): 0.257\n"
     ]
    },
    {
     "name": "stderr",
     "output_type": "stream",
     "text": [
      "progress: 100%|██████████| 43/43 [00:00<00:00, 155.26it/s]\n",
      "progress: 100%|██████████| 43/43 [00:01<00:00, 37.95it/s]\n",
      "progress: 100%|██████████| 43/43 [00:00<00:00, 156.56it/s]\n",
      "progress: 100%|██████████| 43/43 [00:01<00:00, 37.90it/s]\n"
     ]
    },
    {
     "name": "stdout",
     "output_type": "stream",
     "text": [
      "Shift: 584.24 nm -> M1 (MSSR): 0.0, M2 (MSSR): 0.0\n",
      "Shift: 605.88 nm -> M1 (Diffraction): 0.233, M2 (Diffraction): 0.234\n"
     ]
    },
    {
     "name": "stderr",
     "output_type": "stream",
     "text": [
      "progress: 100%|██████████| 43/43 [00:00<00:00, 155.14it/s]\n",
      "progress: 100%|██████████| 43/43 [00:01<00:00, 37.18it/s]\n",
      "progress: 100%|██████████| 43/43 [00:00<00:00, 157.13it/s]\n",
      "progress: 100%|██████████| 43/43 [00:01<00:00, 37.88it/s]\n"
     ]
    },
    {
     "name": "stdout",
     "output_type": "stream",
     "text": [
      "Shift: 605.88 nm -> M1 (MSSR): 0.0, M2 (MSSR): 0.0\n",
      "Shift: 627.51 nm -> M1 (Diffraction): 0.211, M2 (Diffraction): 0.211\n"
     ]
    },
    {
     "name": "stderr",
     "output_type": "stream",
     "text": [
      "progress: 100%|██████████| 43/43 [00:00<00:00, 151.55it/s]\n",
      "progress: 100%|██████████| 43/43 [00:01<00:00, 35.11it/s]\n",
      "progress: 100%|██████████| 43/43 [00:00<00:00, 150.75it/s]\n",
      "progress: 100%|██████████| 43/43 [00:01<00:00, 37.05it/s]\n"
     ]
    },
    {
     "name": "stdout",
     "output_type": "stream",
     "text": [
      "Shift: 627.51 nm -> M1 (MSSR): 0.0, M2 (MSSR): 0.0\n",
      "Shift: 649.15 nm -> M1 (Diffraction): 0.189, M2 (Diffraction): 0.189\n"
     ]
    },
    {
     "name": "stderr",
     "output_type": "stream",
     "text": [
      "progress: 100%|██████████| 43/43 [00:00<00:00, 167.38it/s]\n",
      "progress: 100%|██████████| 43/43 [00:01<00:00, 38.22it/s]\n",
      "progress: 100%|██████████| 43/43 [00:00<00:00, 161.11it/s]\n",
      "progress: 100%|██████████| 43/43 [00:01<00:00, 38.36it/s]\n"
     ]
    },
    {
     "name": "stdout",
     "output_type": "stream",
     "text": [
      "Shift: 649.15 nm -> M1 (MSSR): 0.0, M2 (MSSR): 0.0\n",
      "Shift: 670.79 nm -> M1 (Diffraction): 0.169, M2 (Diffraction): 0.169\n"
     ]
    },
    {
     "name": "stderr",
     "output_type": "stream",
     "text": [
      "progress: 100%|██████████| 43/43 [00:00<00:00, 168.22it/s]\n",
      "progress: 100%|██████████| 43/43 [00:01<00:00, 38.67it/s]\n",
      "progress: 100%|██████████| 43/43 [00:00<00:00, 155.61it/s]\n",
      "progress: 100%|██████████| 43/43 [00:01<00:00, 38.33it/s]\n"
     ]
    },
    {
     "name": "stdout",
     "output_type": "stream",
     "text": [
      "Shift: 670.79 nm -> M1 (MSSR): 0.0, M2 (MSSR): 0.0\n",
      "Shift: 692.43 nm -> M1 (Diffraction): 0.149, M2 (Diffraction): 0.149\n"
     ]
    },
    {
     "name": "stderr",
     "output_type": "stream",
     "text": [
      "progress: 100%|██████████| 43/43 [00:00<00:00, 158.82it/s]\n",
      "progress: 100%|██████████| 43/43 [00:01<00:00, 37.09it/s]\n",
      "progress: 100%|██████████| 43/43 [00:00<00:00, 156.94it/s]\n",
      "progress: 100%|██████████| 43/43 [00:01<00:00, 38.46it/s]\n"
     ]
    },
    {
     "name": "stdout",
     "output_type": "stream",
     "text": [
      "Shift: 692.43 nm -> M1 (MSSR): 0.0, M2 (MSSR): 0.0\n",
      "Shift: 714.07 nm -> M1 (Diffraction): 0.129, M2 (Diffraction): 0.129\n"
     ]
    },
    {
     "name": "stderr",
     "output_type": "stream",
     "text": [
      "progress: 100%|██████████| 43/43 [00:00<00:00, 139.50it/s]\n",
      "progress: 100%|██████████| 43/43 [00:01<00:00, 37.76it/s]\n",
      "progress: 100%|██████████| 43/43 [00:00<00:00, 156.06it/s]\n",
      "progress: 100%|██████████| 43/43 [00:01<00:00, 37.06it/s]\n"
     ]
    },
    {
     "name": "stdout",
     "output_type": "stream",
     "text": [
      "Shift: 714.07 nm -> M1 (MSSR): 0.0, M2 (MSSR): 0.0\n",
      "Shift: 735.71 nm -> M1 (Diffraction): 0.11, M2 (Diffraction): 0.11\n"
     ]
    },
    {
     "name": "stderr",
     "output_type": "stream",
     "text": [
      "progress: 100%|██████████| 43/43 [00:00<00:00, 159.58it/s]\n",
      "progress: 100%|██████████| 43/43 [00:01<00:00, 37.83it/s]\n",
      "progress: 100%|██████████| 43/43 [00:00<00:00, 157.69it/s]\n",
      "progress: 100%|██████████| 43/43 [00:01<00:00, 38.04it/s]\n"
     ]
    },
    {
     "name": "stdout",
     "output_type": "stream",
     "text": [
      "Shift: 735.71 nm -> M1 (MSSR): 0.0, M2 (MSSR): 0.0\n",
      "Shift: 757.34 nm -> M1 (Diffraction): 0.092, M2 (Diffraction): 0.093\n"
     ]
    },
    {
     "name": "stderr",
     "output_type": "stream",
     "text": [
      "progress: 100%|██████████| 43/43 [00:00<00:00, 153.16it/s]\n",
      "progress: 100%|██████████| 43/43 [00:01<00:00, 37.59it/s]\n",
      "progress: 100%|██████████| 43/43 [00:00<00:00, 159.01it/s]\n",
      "progress: 100%|██████████| 43/43 [00:01<00:00, 36.80it/s]\n"
     ]
    },
    {
     "name": "stdout",
     "output_type": "stream",
     "text": [
      "Shift: 757.34 nm -> M1 (MSSR): 0.0, M2 (MSSR): 0.0\n",
      "Shift: 778.98 nm -> M1 (Diffraction): 0.076, M2 (Diffraction): 0.076\n"
     ]
    },
    {
     "name": "stderr",
     "output_type": "stream",
     "text": [
      "progress: 100%|██████████| 43/43 [00:00<00:00, 154.35it/s]\n",
      "progress: 100%|██████████| 43/43 [00:01<00:00, 36.69it/s]\n",
      "progress: 100%|██████████| 43/43 [00:00<00:00, 146.08it/s]\n",
      "progress: 100%|██████████| 43/43 [00:01<00:00, 36.95it/s]\n"
     ]
    },
    {
     "name": "stdout",
     "output_type": "stream",
     "text": [
      "Shift: 778.98 nm -> M1 (MSSR): 0.0, M2 (MSSR): 0.0\n",
      "Shift: 800.62 nm -> M1 (Diffraction): 0.061, M2 (Diffraction): 0.061\n"
     ]
    },
    {
     "name": "stderr",
     "output_type": "stream",
     "text": [
      "progress: 100%|██████████| 43/43 [00:00<00:00, 159.88it/s]\n",
      "progress: 100%|██████████| 43/43 [00:01<00:00, 38.20it/s]\n",
      "progress: 100%|██████████| 43/43 [00:00<00:00, 158.18it/s]\n",
      "progress: 100%|██████████| 43/43 [00:01<00:00, 37.90it/s]\n"
     ]
    },
    {
     "name": "stdout",
     "output_type": "stream",
     "text": [
      "Shift: 800.62 nm -> M1 (MSSR): 0.0, M2 (MSSR): 0.0\n",
      "Shift: 822.26 nm -> M1 (Diffraction): 0.046, M2 (Diffraction): 0.046\n"
     ]
    },
    {
     "name": "stderr",
     "output_type": "stream",
     "text": [
      "progress: 100%|██████████| 43/43 [00:00<00:00, 165.86it/s]\n",
      "progress: 100%|██████████| 43/43 [00:01<00:00, 39.11it/s]\n",
      "progress: 100%|██████████| 43/43 [00:00<00:00, 155.61it/s]\n",
      "progress: 100%|██████████| 43/43 [00:01<00:00, 38.40it/s]\n"
     ]
    },
    {
     "name": "stdout",
     "output_type": "stream",
     "text": [
      "Shift: 822.26 nm -> M1 (MSSR): 0.0, M2 (MSSR): 0.0\n",
      "Shift: 843.90 nm -> M1 (Diffraction): 0.033, M2 (Diffraction): 0.033\n"
     ]
    },
    {
     "name": "stderr",
     "output_type": "stream",
     "text": [
      "progress: 100%|██████████| 43/43 [00:00<00:00, 156.32it/s]\n",
      "progress: 100%|██████████| 43/43 [00:01<00:00, 36.65it/s]\n",
      "progress: 100%|██████████| 43/43 [00:00<00:00, 153.64it/s]\n",
      "progress: 100%|██████████| 43/43 [00:01<00:00, 37.61it/s]\n"
     ]
    },
    {
     "name": "stdout",
     "output_type": "stream",
     "text": [
      "Shift: 843.90 nm -> M1 (MSSR): 0.0, M2 (MSSR): 0.0\n",
      "Shift: 865.54 nm -> M1 (Diffraction): 0.021, M2 (Diffraction): 0.021\n"
     ]
    },
    {
     "name": "stderr",
     "output_type": "stream",
     "text": [
      "progress: 100%|██████████| 43/43 [00:00<00:00, 144.68it/s]\n",
      "progress: 100%|██████████| 43/43 [00:01<00:00, 37.66it/s]\n",
      "progress: 100%|██████████| 43/43 [00:00<00:00, 144.15it/s]\n",
      "progress: 100%|██████████| 43/43 [00:01<00:00, 38.06it/s]\n"
     ]
    },
    {
     "name": "stdout",
     "output_type": "stream",
     "text": [
      "Shift: 865.54 nm -> M1 (MSSR): 0.0, M2 (MSSR): 0.0\n",
      "Shift: 887.17 nm -> M1 (Diffraction): 0.011, M2 (Diffraction): 0.011\n"
     ]
    },
    {
     "name": "stderr",
     "output_type": "stream",
     "text": [
      "progress: 100%|██████████| 43/43 [00:00<00:00, 158.84it/s]\n",
      "progress: 100%|██████████| 43/43 [00:01<00:00, 37.74it/s]\n",
      "progress: 100%|██████████| 43/43 [00:00<00:00, 157.95it/s]\n",
      "progress: 100%|██████████| 43/43 [00:01<00:00, 37.79it/s]\n"
     ]
    },
    {
     "name": "stdout",
     "output_type": "stream",
     "text": [
      "Shift: 887.17 nm -> M1 (MSSR): 0.0, M2 (MSSR): 0.0\n",
      "Shift: 908.81 nm -> M1 (Diffraction): 0.004, M2 (Diffraction): 0.004\n"
     ]
    },
    {
     "name": "stderr",
     "output_type": "stream",
     "text": [
      "progress: 100%|██████████| 43/43 [00:00<00:00, 161.34it/s]\n",
      "progress: 100%|██████████| 43/43 [00:01<00:00, 37.76it/s]\n",
      "progress: 100%|██████████| 43/43 [00:00<00:00, 161.58it/s]\n",
      "progress: 100%|██████████| 43/43 [00:01<00:00, 37.57it/s]\n"
     ]
    },
    {
     "name": "stdout",
     "output_type": "stream",
     "text": [
      "Shift: 908.81 nm -> M1 (MSSR): 0.0, M2 (MSSR): 0.0\n",
      "Shift: 930.45 nm -> M1 (Diffraction): 0.0, M2 (Diffraction): 0.0\n"
     ]
    },
    {
     "name": "stderr",
     "output_type": "stream",
     "text": [
      "progress: 100%|██████████| 43/43 [00:00<00:00, 147.97it/s]\n",
      "progress: 100%|██████████| 43/43 [00:01<00:00, 36.65it/s]\n",
      "progress: 100%|██████████| 43/43 [00:00<00:00, 144.20it/s]\n",
      "progress: 100%|██████████| 43/43 [00:01<00:00, 36.55it/s]\n"
     ]
    },
    {
     "name": "stdout",
     "output_type": "stream",
     "text": [
      "Shift: 930.45 nm -> M1 (MSSR): 0.0, M2 (MSSR): 0.0\n",
      "Shift: 952.09 nm -> M1 (Diffraction): 0.0, M2 (Diffraction): 0.0\n"
     ]
    },
    {
     "name": "stderr",
     "output_type": "stream",
     "text": [
      "progress: 100%|██████████| 43/43 [00:00<00:00, 159.28it/s]\n",
      "progress: 100%|██████████| 43/43 [00:01<00:00, 38.70it/s]\n",
      "progress: 100%|██████████| 43/43 [00:00<00:00, 160.74it/s]\n",
      "progress: 100%|██████████| 43/43 [00:01<00:00, 37.87it/s]\n"
     ]
    },
    {
     "name": "stdout",
     "output_type": "stream",
     "text": [
      "Shift: 952.09 nm -> M1 (MSSR): 0.0, M2 (MSSR): 0.0\n",
      "Shift: 973.73 nm -> M1 (Diffraction): 0.0, M2 (Diffraction): 0.0\n"
     ]
    },
    {
     "name": "stderr",
     "output_type": "stream",
     "text": [
      "progress: 100%|██████████| 43/43 [00:00<00:00, 171.28it/s]\n",
      "progress: 100%|██████████| 43/43 [00:01<00:00, 38.99it/s]\n",
      "progress: 100%|██████████| 43/43 [00:00<00:00, 159.28it/s]\n",
      "progress: 100%|██████████| 43/43 [00:01<00:00, 38.60it/s]\n"
     ]
    },
    {
     "name": "stdout",
     "output_type": "stream",
     "text": [
      "Shift: 973.73 nm -> M1 (MSSR): 0.0, M2 (MSSR): 0.0\n",
      "Shift: 995.37 nm -> M1 (Diffraction): 0.0, M2 (Diffraction): 0.0\n"
     ]
    },
    {
     "name": "stderr",
     "output_type": "stream",
     "text": [
      "progress: 100%|██████████| 43/43 [00:00<00:00, 155.63it/s]\n",
      "progress: 100%|██████████| 43/43 [00:01<00:00, 37.05it/s]\n",
      "progress: 100%|██████████| 43/43 [00:00<00:00, 147.84it/s]\n",
      "progress: 100%|██████████| 43/43 [00:01<00:00, 38.26it/s]\n"
     ]
    },
    {
     "name": "stdout",
     "output_type": "stream",
     "text": [
      "Shift: 995.37 nm -> M1 (MSSR): 0.0, M2 (MSSR): 0.0\n",
      "Shift: 1017.01 nm -> M1 (Diffraction): 0.0, M2 (Diffraction): 0.0\n"
     ]
    },
    {
     "name": "stderr",
     "output_type": "stream",
     "text": [
      "progress: 100%|██████████| 43/43 [00:00<00:00, 157.41it/s]\n",
      "progress: 100%|██████████| 43/43 [00:01<00:00, 37.43it/s]\n",
      "progress: 100%|██████████| 43/43 [00:00<00:00, 153.36it/s]\n",
      "progress: 100%|██████████| 43/43 [00:01<00:00, 38.17it/s]\n"
     ]
    },
    {
     "name": "stdout",
     "output_type": "stream",
     "text": [
      "Shift: 1017.01 nm -> M1 (MSSR): 0.0, M2 (MSSR): 0.0\n",
      "Shift: 1038.64 nm -> M1 (Diffraction): 0.0, M2 (Diffraction): 0.0\n"
     ]
    },
    {
     "name": "stderr",
     "output_type": "stream",
     "text": [
      "progress: 100%|██████████| 43/43 [00:00<00:00, 159.83it/s]\n",
      "progress: 100%|██████████| 43/43 [00:01<00:00, 37.16it/s]\n",
      "progress: 100%|██████████| 43/43 [00:00<00:00, 152.41it/s]\n",
      "progress: 100%|██████████| 43/43 [00:01<00:00, 37.69it/s]\n"
     ]
    },
    {
     "name": "stdout",
     "output_type": "stream",
     "text": [
      "Shift: 1038.64 nm -> M1 (MSSR): 0.0, M2 (MSSR): 0.0\n",
      "Shift: 1060.28 nm -> M1 (Diffraction): 0.0, M2 (Diffraction): 0.0\n"
     ]
    },
    {
     "name": "stderr",
     "output_type": "stream",
     "text": [
      "progress: 100%|██████████| 43/43 [00:00<00:00, 156.54it/s]\n",
      "progress: 100%|██████████| 43/43 [00:01<00:00, 37.79it/s]\n",
      "progress: 100%|██████████| 43/43 [00:00<00:00, 156.80it/s]\n",
      "progress: 100%|██████████| 43/43 [00:01<00:00, 37.39it/s]\n"
     ]
    },
    {
     "name": "stdout",
     "output_type": "stream",
     "text": [
      "Shift: 1060.28 nm -> M1 (MSSR): 0.0, M2 (MSSR): 0.0\n",
      "Shift: 0.00 nm -> M1 (Diffraction): 1.0, M2 (Diffraction): 1.0\n"
     ]
    },
    {
     "name": "stderr",
     "output_type": "stream",
     "text": [
      "progress: 100%|██████████| 43/43 [00:00<00:00, 151.48it/s]\n",
      "progress: 100%|██████████| 43/43 [00:01<00:00, 37.41it/s]\n",
      "progress: 100%|██████████| 43/43 [00:00<00:00, 158.42it/s]\n",
      "progress: 100%|██████████| 43/43 [00:01<00:00, 35.88it/s]\n"
     ]
    },
    {
     "name": "stdout",
     "output_type": "stream",
     "text": [
      "Shift: 0.00 nm -> M1 (MSSR): 1.0, M2 (MSSR): 1.0\n",
      "Shift: 21.64 nm -> M1 (Diffraction): 0.96, M2 (Diffraction): 0.963\n"
     ]
    },
    {
     "name": "stderr",
     "output_type": "stream",
     "text": [
      "progress: 100%|██████████| 43/43 [00:00<00:00, 156.94it/s]\n",
      "progress: 100%|██████████| 43/43 [00:01<00:00, 37.22it/s]\n",
      "progress: 100%|██████████| 43/43 [00:00<00:00, 153.93it/s]\n",
      "progress: 100%|██████████| 43/43 [00:01<00:00, 37.29it/s]\n"
     ]
    },
    {
     "name": "stdout",
     "output_type": "stream",
     "text": [
      "Shift: 21.64 nm -> M1 (MSSR): 0.893, M2 (MSSR): 0.899\n",
      "Shift: 43.28 nm -> M1 (Diffraction): 0.922, M2 (Diffraction): 0.922\n"
     ]
    },
    {
     "name": "stderr",
     "output_type": "stream",
     "text": [
      "progress: 100%|██████████| 43/43 [00:00<00:00, 167.69it/s]\n",
      "progress: 100%|██████████| 43/43 [00:01<00:00, 37.81it/s]\n",
      "progress: 100%|██████████| 43/43 [00:00<00:00, 166.72it/s]\n",
      "progress: 100%|██████████| 43/43 [00:01<00:00, 38.86it/s]\n"
     ]
    },
    {
     "name": "stdout",
     "output_type": "stream",
     "text": [
      "Shift: 43.28 nm -> M1 (MSSR): 0.797, M2 (MSSR): 0.793\n",
      "Shift: 64.92 nm -> M1 (Diffraction): 0.885, M2 (Diffraction): 0.885\n"
     ]
    },
    {
     "name": "stderr",
     "output_type": "stream",
     "text": [
      "progress: 100%|██████████| 43/43 [00:00<00:00, 159.54it/s]\n",
      "progress: 100%|██████████| 43/43 [00:01<00:00, 38.01it/s]\n",
      "progress: 100%|██████████| 43/43 [00:00<00:00, 156.32it/s]\n",
      "progress: 100%|██████████| 43/43 [00:01<00:00, 38.27it/s]\n"
     ]
    },
    {
     "name": "stdout",
     "output_type": "stream",
     "text": [
      "Shift: 64.92 nm -> M1 (MSSR): 0.693, M2 (MSSR): 0.696\n",
      "Shift: 86.55 nm -> M1 (Diffraction): 0.848, M2 (Diffraction): 0.847\n"
     ]
    },
    {
     "name": "stderr",
     "output_type": "stream",
     "text": [
      "progress: 100%|██████████| 43/43 [00:00<00:00, 154.60it/s]\n",
      "progress: 100%|██████████| 43/43 [00:01<00:00, 36.58it/s]\n",
      "progress: 100%|██████████| 43/43 [00:00<00:00, 159.58it/s]\n",
      "progress: 100%|██████████| 43/43 [00:01<00:00, 37.90it/s]\n"
     ]
    },
    {
     "name": "stdout",
     "output_type": "stream",
     "text": [
      "Shift: 86.55 nm -> M1 (MSSR): 0.583, M2 (MSSR): 0.591\n",
      "Shift: 108.19 nm -> M1 (Diffraction): 0.809, M2 (Diffraction): 0.81\n"
     ]
    },
    {
     "name": "stderr",
     "output_type": "stream",
     "text": [
      "progress: 100%|██████████| 43/43 [00:00<00:00, 154.46it/s]\n",
      "progress: 100%|██████████| 43/43 [00:01<00:00, 38.20it/s]\n",
      "progress: 100%|██████████| 43/43 [00:00<00:00, 157.53it/s]\n",
      "progress: 100%|██████████| 43/43 [00:01<00:00, 37.27it/s]\n"
     ]
    },
    {
     "name": "stdout",
     "output_type": "stream",
     "text": [
      "Shift: 108.19 nm -> M1 (MSSR): 0.48, M2 (MSSR): 0.482\n",
      "Shift: 129.83 nm -> M1 (Diffraction): 0.772, M2 (Diffraction): 0.773\n"
     ]
    },
    {
     "name": "stderr",
     "output_type": "stream",
     "text": [
      "progress: 100%|██████████| 43/43 [00:00<00:00, 167.10it/s]\n",
      "progress: 100%|██████████| 43/43 [00:01<00:00, 38.03it/s]\n",
      "progress: 100%|██████████| 43/43 [00:00<00:00, 158.25it/s]\n",
      "progress: 100%|██████████| 43/43 [00:01<00:00, 37.26it/s]\n"
     ]
    },
    {
     "name": "stdout",
     "output_type": "stream",
     "text": [
      "Shift: 129.83 nm -> M1 (MSSR): 0.392, M2 (MSSR): 0.392\n",
      "Shift: 151.47 nm -> M1 (Diffraction): 0.733, M2 (Diffraction): 0.736\n"
     ]
    },
    {
     "name": "stderr",
     "output_type": "stream",
     "text": [
      "progress: 100%|██████████| 43/43 [00:00<00:00, 153.90it/s]\n",
      "progress: 100%|██████████| 43/43 [00:01<00:00, 37.49it/s]\n",
      "progress: 100%|██████████| 43/43 [00:00<00:00, 160.34it/s]\n",
      "progress: 100%|██████████| 43/43 [00:01<00:00, 35.59it/s]\n"
     ]
    },
    {
     "name": "stdout",
     "output_type": "stream",
     "text": [
      "Shift: 151.47 nm -> M1 (MSSR): 0.299, M2 (MSSR): 0.302\n",
      "Shift: 173.11 nm -> M1 (Diffraction): 0.696, M2 (Diffraction): 0.697\n"
     ]
    },
    {
     "name": "stderr",
     "output_type": "stream",
     "text": [
      "progress: 100%|██████████| 43/43 [00:00<00:00, 159.57it/s]\n",
      "progress: 100%|██████████| 43/43 [00:01<00:00, 37.35it/s]\n",
      "progress: 100%|██████████| 43/43 [00:00<00:00, 161.02it/s]\n",
      "progress: 100%|██████████| 43/43 [00:01<00:00, 37.22it/s]\n"
     ]
    },
    {
     "name": "stdout",
     "output_type": "stream",
     "text": [
      "Shift: 173.11 nm -> M1 (MSSR): 0.219, M2 (MSSR): 0.219\n",
      "Shift: 194.75 nm -> M1 (Diffraction): 0.661, M2 (Diffraction): 0.66\n"
     ]
    },
    {
     "name": "stderr",
     "output_type": "stream",
     "text": [
      "progress: 100%|██████████| 43/43 [00:00<00:00, 162.85it/s]\n",
      "progress: 100%|██████████| 43/43 [00:01<00:00, 38.60it/s]\n",
      "progress: 100%|██████████| 43/43 [00:00<00:00, 162.48it/s]\n",
      "progress: 100%|██████████| 43/43 [00:01<00:00, 37.69it/s]\n"
     ]
    },
    {
     "name": "stdout",
     "output_type": "stream",
     "text": [
      "Shift: 194.75 nm -> M1 (MSSR): 0.138, M2 (MSSR): 0.139\n",
      "Shift: 216.38 nm -> M1 (Diffraction): 0.624, M2 (Diffraction): 0.623\n"
     ]
    },
    {
     "name": "stderr",
     "output_type": "stream",
     "text": [
      "progress: 100%|██████████| 43/43 [00:00<00:00, 170.17it/s]\n",
      "progress: 100%|██████████| 43/43 [00:01<00:00, 38.34it/s]\n",
      "progress: 100%|██████████| 43/43 [00:00<00:00, 160.60it/s]\n",
      "progress: 100%|██████████| 43/43 [00:01<00:00, 38.15it/s]\n"
     ]
    },
    {
     "name": "stdout",
     "output_type": "stream",
     "text": [
      "Shift: 216.38 nm -> M1 (MSSR): 0.073, M2 (MSSR): 0.074\n",
      "Shift: 238.02 nm -> M1 (Diffraction): 0.588, M2 (Diffraction): 0.588\n"
     ]
    },
    {
     "name": "stderr",
     "output_type": "stream",
     "text": [
      "progress: 100%|██████████| 43/43 [00:00<00:00, 157.98it/s]\n",
      "progress: 100%|██████████| 43/43 [00:01<00:00, 36.10it/s]\n",
      "progress: 100%|██████████| 43/43 [00:00<00:00, 156.58it/s]\n",
      "progress: 100%|██████████| 43/43 [00:01<00:00, 38.56it/s]\n"
     ]
    },
    {
     "name": "stdout",
     "output_type": "stream",
     "text": [
      "Shift: 238.02 nm -> M1 (MSSR): 0.013, M2 (MSSR): 0.013\n",
      "Shift: 259.66 nm -> M1 (Diffraction): 0.552, M2 (Diffraction): 0.552\n"
     ]
    },
    {
     "name": "stderr",
     "output_type": "stream",
     "text": [
      "progress: 100%|██████████| 43/43 [00:00<00:00, 154.16it/s]\n",
      "progress: 100%|██████████| 43/43 [00:01<00:00, 37.82it/s]\n",
      "progress: 100%|██████████| 43/43 [00:00<00:00, 155.16it/s]\n",
      "progress: 100%|██████████| 43/43 [00:01<00:00, 37.93it/s]\n"
     ]
    },
    {
     "name": "stdout",
     "output_type": "stream",
     "text": [
      "Shift: 259.66 nm -> M1 (MSSR): 0.0, M2 (MSSR): 0.0\n",
      "Shift: 281.30 nm -> M1 (Diffraction): 0.516, M2 (Diffraction): 0.517\n"
     ]
    },
    {
     "name": "stderr",
     "output_type": "stream",
     "text": [
      "progress: 100%|██████████| 43/43 [00:00<00:00, 157.44it/s]\n",
      "progress: 100%|██████████| 43/43 [00:01<00:00, 37.60it/s]\n",
      "progress: 100%|██████████| 43/43 [00:00<00:00, 158.18it/s]\n",
      "progress: 100%|██████████| 43/43 [00:01<00:00, 37.71it/s]\n"
     ]
    },
    {
     "name": "stdout",
     "output_type": "stream",
     "text": [
      "Shift: 281.30 nm -> M1 (MSSR): 0.0, M2 (MSSR): 0.0\n",
      "Shift: 302.94 nm -> M1 (Diffraction): 0.48, M2 (Diffraction): 0.481\n"
     ]
    },
    {
     "name": "stderr",
     "output_type": "stream",
     "text": [
      "progress: 100%|██████████| 43/43 [00:00<00:00, 159.35it/s]\n",
      "progress: 100%|██████████| 43/43 [00:01<00:00, 37.35it/s]\n",
      "progress: 100%|██████████| 43/43 [00:00<00:00, 157.82it/s]\n",
      "progress: 100%|██████████| 43/43 [00:01<00:00, 36.58it/s]\n"
     ]
    },
    {
     "name": "stdout",
     "output_type": "stream",
     "text": [
      "Shift: 302.94 nm -> M1 (MSSR): 0.0, M2 (MSSR): 0.0\n",
      "Shift: 324.58 nm -> M1 (Diffraction): 0.447, M2 (Diffraction): 0.446\n"
     ]
    },
    {
     "name": "stderr",
     "output_type": "stream",
     "text": [
      "progress: 100%|██████████| 43/43 [00:00<00:00, 153.86it/s]\n",
      "progress: 100%|██████████| 43/43 [00:01<00:00, 37.01it/s]\n",
      "progress: 100%|██████████| 43/43 [00:00<00:00, 159.17it/s]\n",
      "progress: 100%|██████████| 43/43 [00:01<00:00, 36.59it/s]\n"
     ]
    },
    {
     "name": "stdout",
     "output_type": "stream",
     "text": [
      "Shift: 324.58 nm -> M1 (MSSR): 0.0, M2 (MSSR): 0.0\n",
      "Shift: 346.21 nm -> M1 (Diffraction): 0.412, M2 (Diffraction): 0.412\n"
     ]
    },
    {
     "name": "stderr",
     "output_type": "stream",
     "text": [
      "progress: 100%|██████████| 43/43 [00:00<00:00, 163.99it/s]\n",
      "progress: 100%|██████████| 43/43 [00:01<00:00, 38.22it/s]\n",
      "progress: 100%|██████████| 43/43 [00:00<00:00, 167.45it/s]\n",
      "progress: 100%|██████████| 43/43 [00:01<00:00, 38.03it/s]\n"
     ]
    },
    {
     "name": "stdout",
     "output_type": "stream",
     "text": [
      "Shift: 346.21 nm -> M1 (MSSR): 0.0, M2 (MSSR): 0.0\n",
      "Shift: 367.85 nm -> M1 (Diffraction): 0.38, M2 (Diffraction): 0.38\n"
     ]
    },
    {
     "name": "stderr",
     "output_type": "stream",
     "text": [
      "progress: 100%|██████████| 43/43 [00:00<00:00, 165.27it/s]\n",
      "progress: 100%|██████████| 43/43 [00:01<00:00, 38.23it/s]\n",
      "progress: 100%|██████████| 43/43 [00:00<00:00, 156.42it/s]\n",
      "progress: 100%|██████████| 43/43 [00:01<00:00, 33.50it/s]\n"
     ]
    },
    {
     "name": "stdout",
     "output_type": "stream",
     "text": [
      "Shift: 367.85 nm -> M1 (MSSR): 0.0, M2 (MSSR): 0.0\n",
      "Shift: 389.49 nm -> M1 (Diffraction): 0.347, M2 (Diffraction): 0.347\n"
     ]
    },
    {
     "name": "stderr",
     "output_type": "stream",
     "text": [
      "progress: 100%|██████████| 43/43 [00:00<00:00, 158.62it/s]\n",
      "progress: 100%|██████████| 43/43 [00:01<00:00, 36.83it/s]\n",
      "progress: 100%|██████████| 43/43 [00:00<00:00, 156.47it/s]\n",
      "progress: 100%|██████████| 43/43 [00:01<00:00, 38.72it/s]\n"
     ]
    },
    {
     "name": "stdout",
     "output_type": "stream",
     "text": [
      "Shift: 389.49 nm -> M1 (MSSR): 0.0, M2 (MSSR): 0.0\n",
      "Shift: 411.13 nm -> M1 (Diffraction): 0.315, M2 (Diffraction): 0.315\n"
     ]
    },
    {
     "name": "stderr",
     "output_type": "stream",
     "text": [
      "progress: 100%|██████████| 43/43 [00:00<00:00, 151.86it/s]\n",
      "progress: 100%|██████████| 43/43 [00:01<00:00, 38.10it/s]\n",
      "progress: 100%|██████████| 43/43 [00:00<00:00, 156.73it/s]\n",
      "progress: 100%|██████████| 43/43 [00:01<00:00, 37.15it/s]\n"
     ]
    },
    {
     "name": "stdout",
     "output_type": "stream",
     "text": [
      "Shift: 411.13 nm -> M1 (MSSR): 0.0, M2 (MSSR): 0.0\n",
      "Shift: 432.77 nm -> M1 (Diffraction): 0.282, M2 (Diffraction): 0.283\n"
     ]
    },
    {
     "name": "stderr",
     "output_type": "stream",
     "text": [
      "progress: 100%|██████████| 43/43 [00:00<00:00, 154.13it/s]\n",
      "progress: 100%|██████████| 43/43 [00:01<00:00, 38.08it/s]\n",
      "progress: 100%|██████████| 43/43 [00:00<00:00, 156.25it/s]\n",
      "progress: 100%|██████████| 43/43 [00:01<00:00, 37.15it/s]\n"
     ]
    },
    {
     "name": "stdout",
     "output_type": "stream",
     "text": [
      "Shift: 432.77 nm -> M1 (MSSR): 0.0, M2 (MSSR): 0.0\n",
      "Shift: 454.41 nm -> M1 (Diffraction): 0.253, M2 (Diffraction): 0.253\n"
     ]
    },
    {
     "name": "stderr",
     "output_type": "stream",
     "text": [
      "progress: 100%|██████████| 43/43 [00:00<00:00, 157.37it/s]\n",
      "progress: 100%|██████████| 43/43 [00:01<00:00, 36.79it/s]\n",
      "progress: 100%|██████████| 43/43 [00:00<00:00, 159.13it/s]\n",
      "progress: 100%|██████████| 43/43 [00:01<00:00, 36.82it/s]\n"
     ]
    },
    {
     "name": "stdout",
     "output_type": "stream",
     "text": [
      "Shift: 454.41 nm -> M1 (MSSR): 0.0, M2 (MSSR): 0.0\n",
      "Shift: 476.05 nm -> M1 (Diffraction): 0.224, M2 (Diffraction): 0.224\n"
     ]
    },
    {
     "name": "stderr",
     "output_type": "stream",
     "text": [
      "progress: 100%|██████████| 43/43 [00:00<00:00, 158.53it/s]\n",
      "progress: 100%|██████████| 43/43 [00:01<00:00, 37.39it/s]\n",
      "progress: 100%|██████████| 43/43 [00:00<00:00, 159.71it/s]\n",
      "progress: 100%|██████████| 43/43 [00:01<00:00, 36.90it/s]\n"
     ]
    },
    {
     "name": "stdout",
     "output_type": "stream",
     "text": [
      "Shift: 476.05 nm -> M1 (MSSR): 0.0, M2 (MSSR): 0.0\n",
      "Shift: 497.68 nm -> M1 (Diffraction): 0.197, M2 (Diffraction): 0.197\n"
     ]
    },
    {
     "name": "stderr",
     "output_type": "stream",
     "text": [
      "progress: 100%|██████████| 43/43 [00:00<00:00, 163.41it/s]\n",
      "progress: 100%|██████████| 43/43 [00:01<00:00, 38.14it/s]\n",
      "progress: 100%|██████████| 43/43 [00:00<00:00, 161.58it/s]\n",
      "progress: 100%|██████████| 43/43 [00:01<00:00, 37.93it/s]\n"
     ]
    },
    {
     "name": "stdout",
     "output_type": "stream",
     "text": [
      "Shift: 497.68 nm -> M1 (MSSR): 0.0, M2 (MSSR): 0.0\n",
      "Shift: 519.32 nm -> M1 (Diffraction): 0.17, M2 (Diffraction): 0.17\n"
     ]
    },
    {
     "name": "stderr",
     "output_type": "stream",
     "text": [
      "progress: 100%|██████████| 43/43 [00:00<00:00, 164.57it/s]\n",
      "progress: 100%|██████████| 43/43 [00:01<00:00, 38.45it/s]\n",
      "progress: 100%|██████████| 43/43 [00:00<00:00, 158.63it/s]\n",
      "progress: 100%|██████████| 43/43 [00:01<00:00, 37.17it/s]\n"
     ]
    },
    {
     "name": "stdout",
     "output_type": "stream",
     "text": [
      "Shift: 519.32 nm -> M1 (MSSR): 0.0, M2 (MSSR): 0.0\n",
      "Shift: 540.96 nm -> M1 (Diffraction): 0.144, M2 (Diffraction): 0.144\n"
     ]
    },
    {
     "name": "stderr",
     "output_type": "stream",
     "text": [
      "progress: 100%|██████████| 43/43 [00:00<00:00, 152.25it/s]\n",
      "progress: 100%|██████████| 43/43 [00:01<00:00, 37.13it/s]\n",
      "progress: 100%|██████████| 43/43 [00:00<00:00, 159.48it/s]\n",
      "progress: 100%|██████████| 43/43 [00:01<00:00, 38.95it/s]\n"
     ]
    },
    {
     "name": "stdout",
     "output_type": "stream",
     "text": [
      "Shift: 540.96 nm -> M1 (MSSR): 0.0, M2 (MSSR): 0.0\n",
      "Shift: 562.60 nm -> M1 (Diffraction): 0.118, M2 (Diffraction): 0.119\n"
     ]
    },
    {
     "name": "stderr",
     "output_type": "stream",
     "text": [
      "progress: 100%|██████████| 43/43 [00:00<00:00, 155.82it/s]\n",
      "progress: 100%|██████████| 43/43 [00:01<00:00, 38.22it/s]\n",
      "progress: 100%|██████████| 43/43 [00:00<00:00, 156.80it/s]\n",
      "progress: 100%|██████████| 43/43 [00:01<00:00, 37.37it/s]\n"
     ]
    },
    {
     "name": "stdout",
     "output_type": "stream",
     "text": [
      "Shift: 562.60 nm -> M1 (MSSR): 0.0, M2 (MSSR): 0.0\n",
      "Shift: 584.24 nm -> M1 (Diffraction): 0.095, M2 (Diffraction): 0.095\n"
     ]
    },
    {
     "name": "stderr",
     "output_type": "stream",
     "text": [
      "progress: 100%|██████████| 43/43 [00:00<00:00, 157.08it/s]\n",
      "progress: 100%|██████████| 43/43 [00:01<00:00, 37.20it/s]\n",
      "progress: 100%|██████████| 43/43 [00:00<00:00, 161.10it/s]\n",
      "progress: 100%|██████████| 43/43 [00:01<00:00, 37.19it/s]\n"
     ]
    },
    {
     "name": "stdout",
     "output_type": "stream",
     "text": [
      "Shift: 584.24 nm -> M1 (MSSR): 0.0, M2 (MSSR): 0.0\n",
      "Shift: 605.88 nm -> M1 (Diffraction): 0.074, M2 (Diffraction): 0.074\n"
     ]
    },
    {
     "name": "stderr",
     "output_type": "stream",
     "text": [
      "progress: 100%|██████████| 43/43 [00:00<00:00, 155.90it/s]\n",
      "progress: 100%|██████████| 43/43 [00:01<00:00, 36.87it/s]\n",
      "progress: 100%|██████████| 43/43 [00:00<00:00, 155.82it/s]\n",
      "progress: 100%|██████████| 43/43 [00:01<00:00, 36.89it/s]\n"
     ]
    },
    {
     "name": "stdout",
     "output_type": "stream",
     "text": [
      "Shift: 605.88 nm -> M1 (MSSR): 0.0, M2 (MSSR): 0.0\n",
      "Shift: 627.51 nm -> M1 (Diffraction): 0.055, M2 (Diffraction): 0.055\n"
     ]
    },
    {
     "name": "stderr",
     "output_type": "stream",
     "text": [
      "progress: 100%|██████████| 43/43 [00:00<00:00, 157.04it/s]\n",
      "progress: 100%|██████████| 43/43 [00:01<00:00, 37.28it/s]\n",
      "progress: 100%|██████████| 43/43 [00:00<00:00, 155.67it/s]\n",
      "progress: 100%|██████████| 43/43 [00:01<00:00, 37.46it/s]\n"
     ]
    },
    {
     "name": "stdout",
     "output_type": "stream",
     "text": [
      "Shift: 627.51 nm -> M1 (MSSR): 0.0, M2 (MSSR): 0.0\n",
      "Shift: 649.15 nm -> M1 (Diffraction): 0.037, M2 (Diffraction): 0.037\n"
     ]
    },
    {
     "name": "stderr",
     "output_type": "stream",
     "text": [
      "progress: 100%|██████████| 43/43 [00:00<00:00, 170.74it/s]\n",
      "progress: 100%|██████████| 43/43 [00:01<00:00, 37.88it/s]\n",
      "progress: 100%|██████████| 43/43 [00:00<00:00, 162.78it/s]\n",
      "progress: 100%|██████████| 43/43 [00:01<00:00, 36.60it/s]\n"
     ]
    },
    {
     "name": "stdout",
     "output_type": "stream",
     "text": [
      "Shift: 649.15 nm -> M1 (MSSR): 0.0, M2 (MSSR): 0.0\n",
      "Shift: 670.79 nm -> M1 (Diffraction): 0.022, M2 (Diffraction): 0.022\n"
     ]
    },
    {
     "name": "stderr",
     "output_type": "stream",
     "text": [
      "progress: 100%|██████████| 43/43 [00:00<00:00, 172.68it/s]\n",
      "progress: 100%|██████████| 43/43 [00:01<00:00, 38.54it/s]\n",
      "progress: 100%|██████████| 43/43 [00:00<00:00, 154.29it/s]\n",
      "progress: 100%|██████████| 43/43 [00:01<00:00, 37.35it/s]\n"
     ]
    },
    {
     "name": "stdout",
     "output_type": "stream",
     "text": [
      "Shift: 670.79 nm -> M1 (MSSR): 0.0, M2 (MSSR): 0.0\n",
      "Shift: 692.43 nm -> M1 (Diffraction): 0.008, M2 (Diffraction): 0.008\n"
     ]
    },
    {
     "name": "stderr",
     "output_type": "stream",
     "text": [
      "progress: 100%|██████████| 43/43 [00:00<00:00, 149.56it/s]\n",
      "progress: 100%|██████████| 43/43 [00:01<00:00, 37.79it/s]\n",
      "progress: 100%|██████████| 43/43 [00:00<00:00, 157.86it/s]\n",
      "progress: 100%|██████████| 43/43 [00:01<00:00, 38.97it/s]\n"
     ]
    },
    {
     "name": "stdout",
     "output_type": "stream",
     "text": [
      "Shift: 692.43 nm -> M1 (MSSR): 0.0, M2 (MSSR): 0.0\n",
      "Shift: 714.07 nm -> M1 (Diffraction): 0.0, M2 (Diffraction): 0.0\n"
     ]
    },
    {
     "name": "stderr",
     "output_type": "stream",
     "text": [
      "progress: 100%|██████████| 43/43 [00:00<00:00, 158.23it/s]\n",
      "progress: 100%|██████████| 43/43 [00:01<00:00, 37.97it/s]\n",
      "progress: 100%|██████████| 43/43 [00:00<00:00, 158.78it/s]\n",
      "progress: 100%|██████████| 43/43 [00:01<00:00, 38.00it/s]\n"
     ]
    },
    {
     "name": "stdout",
     "output_type": "stream",
     "text": [
      "Shift: 714.07 nm -> M1 (MSSR): 0.0, M2 (MSSR): 0.0\n",
      "Shift: 735.71 nm -> M1 (Diffraction): 0.0, M2 (Diffraction): 0.0\n"
     ]
    },
    {
     "name": "stderr",
     "output_type": "stream",
     "text": [
      "progress: 100%|██████████| 43/43 [00:00<00:00, 157.70it/s]\n",
      "progress: 100%|██████████| 43/43 [00:01<00:00, 36.74it/s]\n",
      "progress: 100%|██████████| 43/43 [00:00<00:00, 161.30it/s]\n",
      "progress: 100%|██████████| 43/43 [00:01<00:00, 37.53it/s]\n"
     ]
    },
    {
     "name": "stdout",
     "output_type": "stream",
     "text": [
      "Shift: 735.71 nm -> M1 (MSSR): 0.0, M2 (MSSR): 0.0\n",
      "Shift: 757.34 nm -> M1 (Diffraction): 0.0, M2 (Diffraction): 0.0\n"
     ]
    },
    {
     "name": "stderr",
     "output_type": "stream",
     "text": [
      "progress: 100%|██████████| 43/43 [00:00<00:00, 155.59it/s]\n",
      "progress: 100%|██████████| 43/43 [00:01<00:00, 35.98it/s]\n",
      "progress: 100%|██████████| 43/43 [00:00<00:00, 154.16it/s]\n",
      "progress: 100%|██████████| 43/43 [00:01<00:00, 37.55it/s]\n"
     ]
    },
    {
     "name": "stdout",
     "output_type": "stream",
     "text": [
      "Shift: 757.34 nm -> M1 (MSSR): 0.0, M2 (MSSR): 0.0\n",
      "Shift: 778.98 nm -> M1 (Diffraction): 0.0, M2 (Diffraction): 0.0\n"
     ]
    },
    {
     "name": "stderr",
     "output_type": "stream",
     "text": [
      "progress: 100%|██████████| 43/43 [00:00<00:00, 159.83it/s]\n",
      "progress: 100%|██████████| 43/43 [00:01<00:00, 37.02it/s]\n",
      "progress: 100%|██████████| 43/43 [00:00<00:00, 154.29it/s]\n",
      "progress: 100%|██████████| 43/43 [00:01<00:00, 37.40it/s]\n"
     ]
    },
    {
     "name": "stdout",
     "output_type": "stream",
     "text": [
      "Shift: 778.98 nm -> M1 (MSSR): 0.0, M2 (MSSR): 0.0\n",
      "Shift: 800.62 nm -> M1 (Diffraction): 0.0, M2 (Diffraction): 0.0\n"
     ]
    },
    {
     "name": "stderr",
     "output_type": "stream",
     "text": [
      "progress: 100%|██████████| 43/43 [00:00<00:00, 167.56it/s]\n",
      "progress: 100%|██████████| 43/43 [00:01<00:00, 37.69it/s]\n",
      "progress: 100%|██████████| 43/43 [00:00<00:00, 160.96it/s]\n",
      "progress: 100%|██████████| 43/43 [00:01<00:00, 37.38it/s]\n"
     ]
    },
    {
     "name": "stdout",
     "output_type": "stream",
     "text": [
      "Shift: 800.62 nm -> M1 (MSSR): 0.0, M2 (MSSR): 0.0\n",
      "Shift: 822.26 nm -> M1 (Diffraction): 0.0, M2 (Diffraction): 0.0\n"
     ]
    },
    {
     "name": "stderr",
     "output_type": "stream",
     "text": [
      "progress: 100%|██████████| 43/43 [00:00<00:00, 161.60it/s]\n",
      "progress: 100%|██████████| 43/43 [00:01<00:00, 38.89it/s]\n",
      "progress: 100%|██████████| 43/43 [00:00<00:00, 160.44it/s]\n",
      "progress: 100%|██████████| 43/43 [00:01<00:00, 37.73it/s]\n"
     ]
    },
    {
     "name": "stdout",
     "output_type": "stream",
     "text": [
      "Shift: 822.26 nm -> M1 (MSSR): 0.0, M2 (MSSR): 0.0\n",
      "Shift: 843.90 nm -> M1 (Diffraction): 0.0, M2 (Diffraction): 0.0\n"
     ]
    },
    {
     "name": "stderr",
     "output_type": "stream",
     "text": [
      "progress: 100%|██████████| 43/43 [00:00<00:00, 150.27it/s]\n",
      "progress: 100%|██████████| 43/43 [00:01<00:00, 37.63it/s]\n",
      "progress: 100%|██████████| 43/43 [00:00<00:00, 160.32it/s]\n",
      "progress: 100%|██████████| 43/43 [00:01<00:00, 38.47it/s]\n"
     ]
    },
    {
     "name": "stdout",
     "output_type": "stream",
     "text": [
      "Shift: 843.90 nm -> M1 (MSSR): 0.0, M2 (MSSR): 0.0\n",
      "Shift: 865.54 nm -> M1 (Diffraction): 0.0, M2 (Diffraction): 0.0\n"
     ]
    },
    {
     "name": "stderr",
     "output_type": "stream",
     "text": [
      "progress: 100%|██████████| 43/43 [00:00<00:00, 154.81it/s]\n",
      "progress: 100%|██████████| 43/43 [00:01<00:00, 38.10it/s]\n",
      "progress: 100%|██████████| 43/43 [00:00<00:00, 156.71it/s]\n",
      "progress: 100%|██████████| 43/43 [00:01<00:00, 38.47it/s]\n"
     ]
    },
    {
     "name": "stdout",
     "output_type": "stream",
     "text": [
      "Shift: 865.54 nm -> M1 (MSSR): 0.0, M2 (MSSR): 0.0\n",
      "Shift: 887.17 nm -> M1 (Diffraction): 0.0, M2 (Diffraction): 0.0\n"
     ]
    },
    {
     "name": "stderr",
     "output_type": "stream",
     "text": [
      "progress: 100%|██████████| 43/43 [00:00<00:00, 151.17it/s]\n",
      "progress: 100%|██████████| 43/43 [00:01<00:00, 37.07it/s]\n",
      "progress: 100%|██████████| 43/43 [00:00<00:00, 153.54it/s]\n",
      "progress: 100%|██████████| 43/43 [00:01<00:00, 37.72it/s]\n"
     ]
    },
    {
     "name": "stdout",
     "output_type": "stream",
     "text": [
      "Shift: 887.17 nm -> M1 (MSSR): 0.0, M2 (MSSR): 0.0\n",
      "Shift: 908.81 nm -> M1 (Diffraction): 0.0, M2 (Diffraction): 0.0\n"
     ]
    },
    {
     "name": "stderr",
     "output_type": "stream",
     "text": [
      "progress: 100%|██████████| 43/43 [00:00<00:00, 155.01it/s]\n",
      "progress: 100%|██████████| 43/43 [00:01<00:00, 35.62it/s]\n",
      "progress: 100%|██████████| 43/43 [00:00<00:00, 157.50it/s]\n",
      "progress: 100%|██████████| 43/43 [00:01<00:00, 37.30it/s]\n"
     ]
    },
    {
     "name": "stdout",
     "output_type": "stream",
     "text": [
      "Shift: 908.81 nm -> M1 (MSSR): 0.0, M2 (MSSR): 0.0\n",
      "Shift: 930.45 nm -> M1 (Diffraction): 0.0, M2 (Diffraction): 0.0\n"
     ]
    },
    {
     "name": "stderr",
     "output_type": "stream",
     "text": [
      "progress: 100%|██████████| 43/43 [00:00<00:00, 152.22it/s]\n",
      "progress: 100%|██████████| 43/43 [00:01<00:00, 37.20it/s]\n",
      "progress: 100%|██████████| 43/43 [00:00<00:00, 158.39it/s]\n",
      "progress: 100%|██████████| 43/43 [00:01<00:00, 37.19it/s]\n"
     ]
    },
    {
     "name": "stdout",
     "output_type": "stream",
     "text": [
      "Shift: 930.45 nm -> M1 (MSSR): 0.0, M2 (MSSR): 0.0\n",
      "Shift: 952.09 nm -> M1 (Diffraction): 0.0, M2 (Diffraction): 0.0\n"
     ]
    },
    {
     "name": "stderr",
     "output_type": "stream",
     "text": [
      "progress: 100%|██████████| 43/43 [00:00<00:00, 161.81it/s]\n",
      "progress: 100%|██████████| 43/43 [00:01<00:00, 38.60it/s]\n",
      "progress: 100%|██████████| 43/43 [00:00<00:00, 159.38it/s]\n",
      "progress: 100%|██████████| 43/43 [00:01<00:00, 37.50it/s]\n"
     ]
    },
    {
     "name": "stdout",
     "output_type": "stream",
     "text": [
      "Shift: 952.09 nm -> M1 (MSSR): 0.0, M2 (MSSR): 0.0\n",
      "Shift: 973.73 nm -> M1 (Diffraction): 0.0, M2 (Diffraction): 0.0\n"
     ]
    },
    {
     "name": "stderr",
     "output_type": "stream",
     "text": [
      "progress: 100%|██████████| 43/43 [00:00<00:00, 169.81it/s]\n",
      "progress: 100%|██████████| 43/43 [00:01<00:00, 39.24it/s]\n",
      "progress: 100%|██████████| 43/43 [00:00<00:00, 157.79it/s]\n",
      "progress: 100%|██████████| 43/43 [00:01<00:00, 36.38it/s]\n"
     ]
    },
    {
     "name": "stdout",
     "output_type": "stream",
     "text": [
      "Shift: 973.73 nm -> M1 (MSSR): 0.0, M2 (MSSR): 0.0\n",
      "Shift: 995.37 nm -> M1 (Diffraction): 0.0, M2 (Diffraction): 0.0\n"
     ]
    },
    {
     "name": "stderr",
     "output_type": "stream",
     "text": [
      "progress: 100%|██████████| 43/43 [00:00<00:00, 159.80it/s]\n",
      "progress: 100%|██████████| 43/43 [00:01<00:00, 37.22it/s]\n",
      "progress: 100%|██████████| 43/43 [00:00<00:00, 153.65it/s]\n",
      "progress: 100%|██████████| 43/43 [00:01<00:00, 38.09it/s]\n"
     ]
    },
    {
     "name": "stdout",
     "output_type": "stream",
     "text": [
      "Shift: 995.37 nm -> M1 (MSSR): 0.0, M2 (MSSR): 0.0\n",
      "Shift: 1017.01 nm -> M1 (Diffraction): 0.0, M2 (Diffraction): 0.0\n"
     ]
    },
    {
     "name": "stderr",
     "output_type": "stream",
     "text": [
      "progress: 100%|██████████| 43/43 [00:00<00:00, 157.66it/s]\n",
      "progress: 100%|██████████| 43/43 [00:01<00:00, 37.73it/s]\n",
      "progress: 100%|██████████| 43/43 [00:00<00:00, 155.23it/s]\n",
      "progress: 100%|██████████| 43/43 [00:01<00:00, 37.74it/s]\n"
     ]
    },
    {
     "name": "stdout",
     "output_type": "stream",
     "text": [
      "Shift: 1017.01 nm -> M1 (MSSR): 0.0, M2 (MSSR): 0.0\n",
      "Shift: 1038.64 nm -> M1 (Diffraction): 0.0, M2 (Diffraction): 0.0\n"
     ]
    },
    {
     "name": "stderr",
     "output_type": "stream",
     "text": [
      "progress: 100%|██████████| 43/43 [00:00<00:00, 154.84it/s]\n",
      "progress: 100%|██████████| 43/43 [00:01<00:00, 36.54it/s]\n",
      "progress: 100%|██████████| 43/43 [00:00<00:00, 153.87it/s]\n",
      "progress: 100%|██████████| 43/43 [00:01<00:00, 38.50it/s]\n"
     ]
    },
    {
     "name": "stdout",
     "output_type": "stream",
     "text": [
      "Shift: 1038.64 nm -> M1 (MSSR): 0.0, M2 (MSSR): 0.0\n",
      "Shift: 1060.28 nm -> M1 (Diffraction): 0.0, M2 (Diffraction): 0.0\n"
     ]
    },
    {
     "name": "stderr",
     "output_type": "stream",
     "text": [
      "progress: 100%|██████████| 43/43 [00:00<00:00, 157.82it/s]\n",
      "progress: 100%|██████████| 43/43 [00:01<00:00, 36.53it/s]\n",
      "progress: 100%|██████████| 43/43 [00:00<00:00, 162.25it/s]\n",
      "progress: 100%|██████████| 43/43 [00:01<00:00, 37.15it/s]\n"
     ]
    },
    {
     "name": "stdout",
     "output_type": "stream",
     "text": [
      "Shift: 1060.28 nm -> M1 (MSSR): 0.0, M2 (MSSR): 0.0\n",
      "Shift: 0.00 nm -> M1 (Diffraction): 1.0, M2 (Diffraction): 1.0\n"
     ]
    },
    {
     "name": "stderr",
     "output_type": "stream",
     "text": [
      "progress: 100%|██████████| 43/43 [00:00<00:00, 153.34it/s]\n",
      "progress: 100%|██████████| 43/43 [00:01<00:00, 37.25it/s]\n",
      "progress: 100%|██████████| 43/43 [00:00<00:00, 159.05it/s]\n",
      "progress: 100%|██████████| 43/43 [00:01<00:00, 37.02it/s]\n"
     ]
    },
    {
     "name": "stdout",
     "output_type": "stream",
     "text": [
      "Shift: 0.00 nm -> M1 (MSSR): 1.0, M2 (MSSR): 1.0\n",
      "Shift: 21.64 nm -> M1 (Diffraction): 0.944, M2 (Diffraction): 0.948\n"
     ]
    },
    {
     "name": "stderr",
     "output_type": "stream",
     "text": [
      "progress: 100%|██████████| 43/43 [00:00<00:00, 152.88it/s]\n",
      "progress: 100%|██████████| 43/43 [00:01<00:00, 36.80it/s]\n",
      "progress: 100%|██████████| 43/43 [00:00<00:00, 156.38it/s]\n",
      "progress: 100%|██████████| 43/43 [00:01<00:00, 35.64it/s]\n"
     ]
    },
    {
     "name": "stdout",
     "output_type": "stream",
     "text": [
      "Shift: 21.64 nm -> M1 (MSSR): 0.866, M2 (MSSR): 0.851\n",
      "Shift: 43.28 nm -> M1 (Diffraction): 0.889, M2 (Diffraction): 0.89\n"
     ]
    },
    {
     "name": "stderr",
     "output_type": "stream",
     "text": [
      "progress: 100%|██████████| 43/43 [00:00<00:00, 160.70it/s]\n",
      "progress: 100%|██████████| 43/43 [00:01<00:00, 38.17it/s]\n",
      "progress: 100%|██████████| 43/43 [00:00<00:00, 165.82it/s]\n",
      "progress: 100%|██████████| 43/43 [00:01<00:00, 36.95it/s]\n"
     ]
    },
    {
     "name": "stdout",
     "output_type": "stream",
     "text": [
      "Shift: 43.28 nm -> M1 (MSSR): 0.718, M2 (MSSR): 0.706\n",
      "Shift: 64.92 nm -> M1 (Diffraction): 0.837, M2 (Diffraction): 0.836\n"
     ]
    },
    {
     "name": "stderr",
     "output_type": "stream",
     "text": [
      "progress: 100%|██████████| 43/43 [00:00<00:00, 151.27it/s]\n",
      "progress: 100%|██████████| 43/43 [00:01<00:00, 37.96it/s]\n",
      "progress: 100%|██████████| 43/43 [00:00<00:00, 162.02it/s]\n",
      "progress: 100%|██████████| 43/43 [00:01<00:00, 37.49it/s]\n"
     ]
    },
    {
     "name": "stdout",
     "output_type": "stream",
     "text": [
      "Shift: 64.92 nm -> M1 (MSSR): 0.567, M2 (MSSR): 0.571\n",
      "Shift: 86.55 nm -> M1 (Diffraction): 0.783, M2 (Diffraction): 0.783\n"
     ]
    },
    {
     "name": "stderr",
     "output_type": "stream",
     "text": [
      "progress: 100%|██████████| 43/43 [00:00<00:00, 155.68it/s]\n",
      "progress: 100%|██████████| 43/43 [00:01<00:00, 37.75it/s]\n",
      "progress: 100%|██████████| 43/43 [00:00<00:00, 161.00it/s]\n",
      "progress: 100%|██████████| 43/43 [00:01<00:00, 38.18it/s]\n"
     ]
    },
    {
     "name": "stdout",
     "output_type": "stream",
     "text": [
      "Shift: 86.55 nm -> M1 (MSSR): 0.44, M2 (MSSR): 0.437\n",
      "Shift: 108.19 nm -> M1 (Diffraction): 0.728, M2 (Diffraction): 0.728\n"
     ]
    },
    {
     "name": "stderr",
     "output_type": "stream",
     "text": [
      "progress: 100%|██████████| 43/43 [00:00<00:00, 148.47it/s]\n",
      "progress: 100%|██████████| 43/43 [00:01<00:00, 37.67it/s]\n",
      "progress: 100%|██████████| 43/43 [00:00<00:00, 155.83it/s]\n",
      "progress: 100%|██████████| 43/43 [00:01<00:00, 37.52it/s]\n"
     ]
    },
    {
     "name": "stdout",
     "output_type": "stream",
     "text": [
      "Shift: 108.19 nm -> M1 (MSSR): 0.313, M2 (MSSR): 0.313\n",
      "Shift: 129.83 nm -> M1 (Diffraction): 0.679, M2 (Diffraction): 0.679\n"
     ]
    },
    {
     "name": "stderr",
     "output_type": "stream",
     "text": [
      "progress: 100%|██████████| 43/43 [00:00<00:00, 168.90it/s]\n",
      "progress: 100%|██████████| 43/43 [00:01<00:00, 37.66it/s]\n",
      "progress: 100%|██████████| 43/43 [00:00<00:00, 143.07it/s]\n",
      "progress: 100%|██████████| 43/43 [00:01<00:00, 37.95it/s]\n"
     ]
    },
    {
     "name": "stdout",
     "output_type": "stream",
     "text": [
      "Shift: 129.83 nm -> M1 (MSSR): 0.194, M2 (MSSR): 0.194\n",
      "Shift: 151.47 nm -> M1 (Diffraction): 0.627, M2 (Diffraction): 0.628\n"
     ]
    },
    {
     "name": "stderr",
     "output_type": "stream",
     "text": [
      "progress: 100%|██████████| 43/43 [00:00<00:00, 158.72it/s]\n",
      "progress: 100%|██████████| 43/43 [00:01<00:00, 37.25it/s]\n",
      "progress: 100%|██████████| 43/43 [00:00<00:00, 155.70it/s]\n",
      "progress: 100%|██████████| 43/43 [00:01<00:00, 37.07it/s]\n"
     ]
    },
    {
     "name": "stdout",
     "output_type": "stream",
     "text": [
      "Shift: 151.47 nm -> M1 (MSSR): 0.102, M2 (MSSR): 0.1\n",
      "Shift: 173.11 nm -> M1 (Diffraction): 0.573, M2 (Diffraction): 0.573\n"
     ]
    },
    {
     "name": "stderr",
     "output_type": "stream",
     "text": [
      "progress: 100%|██████████| 43/43 [00:00<00:00, 155.48it/s]\n",
      "progress: 100%|██████████| 43/43 [00:01<00:00, 36.95it/s]\n",
      "progress: 100%|██████████| 43/43 [00:00<00:00, 148.98it/s]\n",
      "progress: 100%|██████████| 43/43 [00:01<00:00, 36.31it/s]\n"
     ]
    },
    {
     "name": "stdout",
     "output_type": "stream",
     "text": [
      "Shift: 173.11 nm -> M1 (MSSR): 0.025, M2 (MSSR): 0.024\n",
      "Shift: 194.75 nm -> M1 (Diffraction): 0.525, M2 (Diffraction): 0.524\n"
     ]
    },
    {
     "name": "stderr",
     "output_type": "stream",
     "text": [
      "progress: 100%|██████████| 43/43 [00:00<00:00, 165.84it/s]\n",
      "progress: 100%|██████████| 43/43 [00:01<00:00, 34.04it/s]\n",
      "progress: 100%|██████████| 43/43 [00:00<00:00, 164.40it/s]\n",
      "progress: 100%|██████████| 43/43 [00:01<00:00, 37.56it/s]\n"
     ]
    },
    {
     "name": "stdout",
     "output_type": "stream",
     "text": [
      "Shift: 194.75 nm -> M1 (MSSR): 0.0, M2 (MSSR): 0.0\n",
      "Shift: 216.38 nm -> M1 (Diffraction): 0.474, M2 (Diffraction): 0.475\n"
     ]
    },
    {
     "name": "stderr",
     "output_type": "stream",
     "text": [
      "progress: 100%|██████████| 43/43 [00:00<00:00, 172.21it/s]\n",
      "progress: 100%|██████████| 43/43 [00:01<00:00, 39.01it/s]\n",
      "progress: 100%|██████████| 43/43 [00:00<00:00, 160.51it/s]\n",
      "progress: 100%|██████████| 43/43 [00:01<00:00, 37.93it/s]\n"
     ]
    },
    {
     "name": "stdout",
     "output_type": "stream",
     "text": [
      "Shift: 216.38 nm -> M1 (MSSR): 0.0, M2 (MSSR): 0.0\n",
      "Shift: 238.02 nm -> M1 (Diffraction): 0.425, M2 (Diffraction): 0.425\n"
     ]
    },
    {
     "name": "stderr",
     "output_type": "stream",
     "text": [
      "progress: 100%|██████████| 43/43 [00:00<00:00, 152.57it/s]\n",
      "progress: 100%|██████████| 43/43 [00:01<00:00, 37.04it/s]\n",
      "progress: 100%|██████████| 43/43 [00:00<00:00, 157.28it/s]\n",
      "progress: 100%|██████████| 43/43 [00:01<00:00, 38.01it/s]\n"
     ]
    },
    {
     "name": "stdout",
     "output_type": "stream",
     "text": [
      "Shift: 238.02 nm -> M1 (MSSR): 0.0, M2 (MSSR): 0.0\n",
      "Shift: 259.66 nm -> M1 (Diffraction): 0.38, M2 (Diffraction): 0.38\n"
     ]
    },
    {
     "name": "stderr",
     "output_type": "stream",
     "text": [
      "progress: 100%|██████████| 43/43 [00:00<00:00, 151.98it/s]\n",
      "progress: 100%|██████████| 43/43 [00:01<00:00, 37.06it/s]\n",
      "progress: 100%|██████████| 43/43 [00:00<00:00, 153.92it/s]\n",
      "progress: 100%|██████████| 43/43 [00:01<00:00, 36.67it/s]\n"
     ]
    },
    {
     "name": "stdout",
     "output_type": "stream",
     "text": [
      "Shift: 259.66 nm -> M1 (MSSR): 0.0, M2 (MSSR): 0.0\n",
      "Shift: 281.30 nm -> M1 (Diffraction): 0.334, M2 (Diffraction): 0.335\n"
     ]
    },
    {
     "name": "stderr",
     "output_type": "stream",
     "text": [
      "progress: 100%|██████████| 43/43 [00:00<00:00, 152.13it/s]\n",
      "progress: 100%|██████████| 43/43 [00:01<00:00, 36.73it/s]\n",
      "progress: 100%|██████████| 43/43 [00:00<00:00, 161.49it/s]\n",
      "progress: 100%|██████████| 43/43 [00:01<00:00, 37.75it/s]\n"
     ]
    },
    {
     "name": "stdout",
     "output_type": "stream",
     "text": [
      "Shift: 281.30 nm -> M1 (MSSR): 0.0, M2 (MSSR): 0.0\n",
      "Shift: 302.94 nm -> M1 (Diffraction): 0.288, M2 (Diffraction): 0.289\n"
     ]
    },
    {
     "name": "stderr",
     "output_type": "stream",
     "text": [
      "progress: 100%|██████████| 43/43 [00:00<00:00, 155.65it/s]\n",
      "progress: 100%|██████████| 43/43 [00:01<00:00, 37.30it/s]\n",
      "progress: 100%|██████████| 43/43 [00:00<00:00, 157.60it/s]\n",
      "progress: 100%|██████████| 43/43 [00:01<00:00, 37.44it/s]\n"
     ]
    },
    {
     "name": "stdout",
     "output_type": "stream",
     "text": [
      "Shift: 302.94 nm -> M1 (MSSR): 0.0, M2 (MSSR): 0.0\n",
      "Shift: 324.58 nm -> M1 (Diffraction): 0.247, M2 (Diffraction): 0.247\n"
     ]
    },
    {
     "name": "stderr",
     "output_type": "stream",
     "text": [
      "progress: 100%|██████████| 43/43 [00:00<00:00, 153.97it/s]\n",
      "progress: 100%|██████████| 43/43 [00:01<00:00, 36.38it/s]\n",
      "progress: 100%|██████████| 43/43 [00:00<00:00, 155.74it/s]\n",
      "progress: 100%|██████████| 43/43 [00:01<00:00, 36.90it/s]\n"
     ]
    },
    {
     "name": "stdout",
     "output_type": "stream",
     "text": [
      "Shift: 324.58 nm -> M1 (MSSR): 0.0, M2 (MSSR): 0.0\n",
      "Shift: 346.21 nm -> M1 (Diffraction): 0.207, M2 (Diffraction): 0.207\n"
     ]
    },
    {
     "name": "stderr",
     "output_type": "stream",
     "text": [
      "progress: 100%|██████████| 43/43 [00:00<00:00, 166.86it/s]\n",
      "progress: 100%|██████████| 43/43 [00:01<00:00, 37.67it/s]\n",
      "progress: 100%|██████████| 43/43 [00:00<00:00, 151.81it/s]\n",
      "progress: 100%|██████████| 43/43 [00:01<00:00, 38.45it/s]\n"
     ]
    },
    {
     "name": "stdout",
     "output_type": "stream",
     "text": [
      "Shift: 346.21 nm -> M1 (MSSR): 0.0, M2 (MSSR): 0.0\n",
      "Shift: 367.85 nm -> M1 (Diffraction): 0.167, M2 (Diffraction): 0.167\n"
     ]
    },
    {
     "name": "stderr",
     "output_type": "stream",
     "text": [
      "progress: 100%|██████████| 43/43 [00:00<00:00, 170.20it/s]\n",
      "progress: 100%|██████████| 43/43 [00:01<00:00, 39.04it/s]\n",
      "progress: 100%|██████████| 43/43 [00:00<00:00, 161.68it/s]\n",
      "progress: 100%|██████████| 43/43 [00:01<00:00, 38.27it/s]\n"
     ]
    },
    {
     "name": "stdout",
     "output_type": "stream",
     "text": [
      "Shift: 367.85 nm -> M1 (MSSR): 0.0, M2 (MSSR): 0.0\n",
      "Shift: 389.49 nm -> M1 (Diffraction): 0.133, M2 (Diffraction): 0.133\n"
     ]
    },
    {
     "name": "stderr",
     "output_type": "stream",
     "text": [
      "progress: 100%|██████████| 43/43 [00:00<00:00, 162.03it/s]\n",
      "progress: 100%|██████████| 43/43 [00:01<00:00, 37.53it/s]\n",
      "progress: 100%|██████████| 43/43 [00:00<00:00, 157.05it/s]\n",
      "progress: 100%|██████████| 43/43 [00:01<00:00, 37.90it/s]\n"
     ]
    },
    {
     "name": "stdout",
     "output_type": "stream",
     "text": [
      "Shift: 389.49 nm -> M1 (MSSR): 0.0, M2 (MSSR): 0.0\n",
      "Shift: 411.13 nm -> M1 (Diffraction): 0.099, M2 (Diffraction): 0.099\n"
     ]
    },
    {
     "name": "stderr",
     "output_type": "stream",
     "text": [
      "progress: 100%|██████████| 43/43 [00:00<00:00, 155.63it/s]\n",
      "progress: 100%|██████████| 43/43 [00:01<00:00, 37.17it/s]\n",
      "progress: 100%|██████████| 43/43 [00:00<00:00, 155.97it/s]\n",
      "progress: 100%|██████████| 43/43 [00:01<00:00, 38.22it/s]\n"
     ]
    },
    {
     "name": "stdout",
     "output_type": "stream",
     "text": [
      "Shift: 411.13 nm -> M1 (MSSR): 0.0, M2 (MSSR): 0.0\n",
      "Shift: 432.77 nm -> M1 (Diffraction): 0.069, M2 (Diffraction): 0.069\n"
     ]
    },
    {
     "name": "stderr",
     "output_type": "stream",
     "text": [
      "progress: 100%|██████████| 43/43 [00:00<00:00, 148.04it/s]\n",
      "progress: 100%|██████████| 43/43 [00:01<00:00, 37.63it/s]\n",
      "progress: 100%|██████████| 43/43 [00:00<00:00, 160.31it/s]\n",
      "progress: 100%|██████████| 43/43 [00:01<00:00, 37.60it/s]\n"
     ]
    },
    {
     "name": "stdout",
     "output_type": "stream",
     "text": [
      "Shift: 432.77 nm -> M1 (MSSR): 0.0, M2 (MSSR): 0.0\n",
      "Shift: 454.41 nm -> M1 (Diffraction): 0.042, M2 (Diffraction): 0.042\n"
     ]
    },
    {
     "name": "stderr",
     "output_type": "stream",
     "text": [
      "progress: 100%|██████████| 43/43 [00:00<00:00, 155.18it/s]\n",
      "progress: 100%|██████████| 43/43 [00:01<00:00, 37.63it/s]\n",
      "progress: 100%|██████████| 43/43 [00:00<00:00, 161.15it/s]\n",
      "progress: 100%|██████████| 43/43 [00:01<00:00, 37.69it/s]\n"
     ]
    },
    {
     "name": "stdout",
     "output_type": "stream",
     "text": [
      "Shift: 454.41 nm -> M1 (MSSR): 0.0, M2 (MSSR): 0.0\n",
      "Shift: 476.05 nm -> M1 (Diffraction): 0.02, M2 (Diffraction): 0.02\n"
     ]
    },
    {
     "name": "stderr",
     "output_type": "stream",
     "text": [
      "progress: 100%|██████████| 43/43 [00:00<00:00, 157.87it/s]\n",
      "progress: 100%|██████████| 43/43 [00:01<00:00, 36.15it/s]\n",
      "progress: 100%|██████████| 43/43 [00:00<00:00, 148.36it/s]\n",
      "progress: 100%|██████████| 43/43 [00:01<00:00, 36.65it/s]\n"
     ]
    },
    {
     "name": "stdout",
     "output_type": "stream",
     "text": [
      "Shift: 476.05 nm -> M1 (MSSR): 0.0, M2 (MSSR): 0.0\n",
      "Shift: 497.68 nm -> M1 (Diffraction): 0.003, M2 (Diffraction): 0.003\n"
     ]
    },
    {
     "name": "stderr",
     "output_type": "stream",
     "text": [
      "progress: 100%|██████████| 43/43 [00:00<00:00, 161.78it/s]\n",
      "progress: 100%|██████████| 43/43 [00:01<00:00, 36.84it/s]\n",
      "progress: 100%|██████████| 43/43 [00:00<00:00, 155.36it/s]\n",
      "progress: 100%|██████████| 43/43 [00:01<00:00, 37.81it/s]\n"
     ]
    },
    {
     "name": "stdout",
     "output_type": "stream",
     "text": [
      "Shift: 497.68 nm -> M1 (MSSR): 0.0, M2 (MSSR): 0.0\n",
      "Shift: 519.32 nm -> M1 (Diffraction): 0.0, M2 (Diffraction): 0.0\n"
     ]
    },
    {
     "name": "stderr",
     "output_type": "stream",
     "text": [
      "progress: 100%|██████████| 43/43 [00:00<00:00, 170.42it/s]\n",
      "progress: 100%|██████████| 43/43 [00:01<00:00, 38.97it/s]\n",
      "progress: 100%|██████████| 43/43 [00:00<00:00, 154.20it/s]\n",
      "progress: 100%|██████████| 43/43 [00:01<00:00, 37.77it/s]\n"
     ]
    },
    {
     "name": "stdout",
     "output_type": "stream",
     "text": [
      "Shift: 519.32 nm -> M1 (MSSR): 0.0, M2 (MSSR): 0.0\n",
      "Shift: 540.96 nm -> M1 (Diffraction): 0.0, M2 (Diffraction): 0.0\n"
     ]
    },
    {
     "name": "stderr",
     "output_type": "stream",
     "text": [
      "progress: 100%|██████████| 43/43 [00:00<00:00, 156.69it/s]\n",
      "progress: 100%|██████████| 43/43 [00:01<00:00, 37.47it/s]\n",
      "progress: 100%|██████████| 43/43 [00:00<00:00, 149.84it/s]\n",
      "progress: 100%|██████████| 43/43 [00:01<00:00, 38.73it/s]\n"
     ]
    },
    {
     "name": "stdout",
     "output_type": "stream",
     "text": [
      "Shift: 540.96 nm -> M1 (MSSR): 0.0, M2 (MSSR): 0.0\n",
      "Shift: 562.60 nm -> M1 (Diffraction): 0.0, M2 (Diffraction): 0.0\n"
     ]
    },
    {
     "name": "stderr",
     "output_type": "stream",
     "text": [
      "progress: 100%|██████████| 43/43 [00:00<00:00, 150.78it/s]\n",
      "progress: 100%|██████████| 43/43 [00:01<00:00, 37.99it/s]\n",
      "progress: 100%|██████████| 43/43 [00:00<00:00, 157.13it/s]\n",
      "progress: 100%|██████████| 43/43 [00:01<00:00, 37.60it/s]\n"
     ]
    },
    {
     "name": "stdout",
     "output_type": "stream",
     "text": [
      "Shift: 562.60 nm -> M1 (MSSR): 0.0, M2 (MSSR): 0.0\n",
      "Shift: 584.24 nm -> M1 (Diffraction): 0.0, M2 (Diffraction): 0.0\n"
     ]
    },
    {
     "name": "stderr",
     "output_type": "stream",
     "text": [
      "progress: 100%|██████████| 43/43 [00:00<00:00, 140.53it/s]\n",
      "progress: 100%|██████████| 43/43 [00:01<00:00, 37.57it/s]\n",
      "progress: 100%|██████████| 43/43 [00:00<00:00, 156.97it/s]\n",
      "progress: 100%|██████████| 43/43 [00:01<00:00, 37.68it/s]\n"
     ]
    },
    {
     "name": "stdout",
     "output_type": "stream",
     "text": [
      "Shift: 584.24 nm -> M1 (MSSR): 0.0, M2 (MSSR): 0.0\n",
      "Shift: 605.88 nm -> M1 (Diffraction): 0.0, M2 (Diffraction): 0.0\n"
     ]
    },
    {
     "name": "stderr",
     "output_type": "stream",
     "text": [
      "progress: 100%|██████████| 43/43 [00:00<00:00, 149.00it/s]\n",
      "progress: 100%|██████████| 43/43 [00:01<00:00, 37.28it/s]\n",
      "progress: 100%|██████████| 43/43 [00:00<00:00, 156.81it/s]\n",
      "progress: 100%|██████████| 43/43 [00:01<00:00, 37.57it/s]\n"
     ]
    },
    {
     "name": "stdout",
     "output_type": "stream",
     "text": [
      "Shift: 605.88 nm -> M1 (MSSR): 0.0, M2 (MSSR): 0.0\n",
      "Shift: 627.51 nm -> M1 (Diffraction): 0.0, M2 (Diffraction): 0.0\n"
     ]
    },
    {
     "name": "stderr",
     "output_type": "stream",
     "text": [
      "progress: 100%|██████████| 43/43 [00:00<00:00, 161.24it/s]\n",
      "progress: 100%|██████████| 43/43 [00:01<00:00, 36.16it/s]\n",
      "progress: 100%|██████████| 43/43 [00:00<00:00, 155.53it/s]\n",
      "progress: 100%|██████████| 43/43 [00:01<00:00, 37.36it/s]\n"
     ]
    },
    {
     "name": "stdout",
     "output_type": "stream",
     "text": [
      "Shift: 627.51 nm -> M1 (MSSR): 0.0, M2 (MSSR): 0.0\n",
      "Shift: 649.15 nm -> M1 (Diffraction): 0.0, M2 (Diffraction): 0.0\n"
     ]
    },
    {
     "name": "stderr",
     "output_type": "stream",
     "text": [
      "progress: 100%|██████████| 43/43 [00:00<00:00, 168.42it/s]\n",
      "progress: 100%|██████████| 43/43 [00:01<00:00, 37.72it/s]\n",
      "progress: 100%|██████████| 43/43 [00:00<00:00, 145.70it/s]\n",
      "progress: 100%|██████████| 43/43 [00:01<00:00, 37.81it/s]\n"
     ]
    },
    {
     "name": "stdout",
     "output_type": "stream",
     "text": [
      "Shift: 649.15 nm -> M1 (MSSR): 0.0, M2 (MSSR): 0.0\n",
      "Shift: 670.79 nm -> M1 (Diffraction): 0.0, M2 (Diffraction): 0.0\n"
     ]
    },
    {
     "name": "stderr",
     "output_type": "stream",
     "text": [
      "progress: 100%|██████████| 43/43 [00:00<00:00, 170.96it/s]\n",
      "progress: 100%|██████████| 43/43 [00:01<00:00, 39.07it/s]\n",
      "progress: 100%|██████████| 43/43 [00:00<00:00, 154.57it/s]\n",
      "progress: 100%|██████████| 43/43 [00:01<00:00, 38.05it/s]\n"
     ]
    },
    {
     "name": "stdout",
     "output_type": "stream",
     "text": [
      "Shift: 670.79 nm -> M1 (MSSR): 0.0, M2 (MSSR): 0.0\n",
      "Shift: 692.43 nm -> M1 (Diffraction): 0.0, M2 (Diffraction): 0.0\n"
     ]
    },
    {
     "name": "stderr",
     "output_type": "stream",
     "text": [
      "progress: 100%|██████████| 43/43 [00:00<00:00, 156.75it/s]\n",
      "progress: 100%|██████████| 43/43 [00:01<00:00, 37.38it/s]\n",
      "progress: 100%|██████████| 43/43 [00:00<00:00, 160.37it/s]\n",
      "progress: 100%|██████████| 43/43 [00:01<00:00, 37.97it/s]\n"
     ]
    },
    {
     "name": "stdout",
     "output_type": "stream",
     "text": [
      "Shift: 692.43 nm -> M1 (MSSR): 0.0, M2 (MSSR): 0.0\n",
      "Shift: 714.07 nm -> M1 (Diffraction): 0.0, M2 (Diffraction): 0.0\n"
     ]
    },
    {
     "name": "stderr",
     "output_type": "stream",
     "text": [
      "progress: 100%|██████████| 43/43 [00:00<00:00, 156.95it/s]\n",
      "progress: 100%|██████████| 43/43 [00:01<00:00, 37.28it/s]\n",
      "progress: 100%|██████████| 43/43 [00:00<00:00, 156.33it/s]\n",
      "progress: 100%|██████████| 43/43 [00:01<00:00, 37.42it/s]\n"
     ]
    },
    {
     "name": "stdout",
     "output_type": "stream",
     "text": [
      "Shift: 714.07 nm -> M1 (MSSR): 0.0, M2 (MSSR): 0.0\n",
      "Shift: 735.71 nm -> M1 (Diffraction): 0.0, M2 (Diffraction): 0.0\n"
     ]
    },
    {
     "name": "stderr",
     "output_type": "stream",
     "text": [
      "progress: 100%|██████████| 43/43 [00:00<00:00, 162.39it/s]\n",
      "progress: 100%|██████████| 43/43 [00:01<00:00, 36.46it/s]\n",
      "progress: 100%|██████████| 43/43 [00:00<00:00, 153.43it/s]\n",
      "progress: 100%|██████████| 43/43 [00:01<00:00, 37.75it/s]\n"
     ]
    },
    {
     "name": "stdout",
     "output_type": "stream",
     "text": [
      "Shift: 735.71 nm -> M1 (MSSR): 0.0, M2 (MSSR): 0.0\n",
      "Shift: 757.34 nm -> M1 (Diffraction): 0.0, M2 (Diffraction): 0.0\n"
     ]
    },
    {
     "name": "stderr",
     "output_type": "stream",
     "text": [
      "progress: 100%|██████████| 43/43 [00:00<00:00, 153.87it/s]\n",
      "progress: 100%|██████████| 43/43 [00:01<00:00, 37.82it/s]\n",
      "progress: 100%|██████████| 43/43 [00:00<00:00, 154.71it/s]\n",
      "progress: 100%|██████████| 43/43 [00:01<00:00, 37.57it/s]\n"
     ]
    },
    {
     "name": "stdout",
     "output_type": "stream",
     "text": [
      "Shift: 757.34 nm -> M1 (MSSR): 0.0, M2 (MSSR): 0.0\n",
      "Shift: 778.98 nm -> M1 (Diffraction): 0.0, M2 (Diffraction): 0.0\n"
     ]
    },
    {
     "name": "stderr",
     "output_type": "stream",
     "text": [
      "progress: 100%|██████████| 43/43 [00:00<00:00, 155.42it/s]\n",
      "progress: 100%|██████████| 43/43 [00:01<00:00, 36.11it/s]\n",
      "progress: 100%|██████████| 43/43 [00:00<00:00, 158.03it/s]\n",
      "progress: 100%|██████████| 43/43 [00:01<00:00, 37.09it/s]\n"
     ]
    },
    {
     "name": "stdout",
     "output_type": "stream",
     "text": [
      "Shift: 778.98 nm -> M1 (MSSR): 0.0, M2 (MSSR): 0.0\n",
      "Shift: 800.62 nm -> M1 (Diffraction): 0.0, M2 (Diffraction): 0.0\n"
     ]
    },
    {
     "name": "stderr",
     "output_type": "stream",
     "text": [
      "progress: 100%|██████████| 43/43 [00:00<00:00, 162.82it/s]\n",
      "progress: 100%|██████████| 43/43 [00:01<00:00, 37.77it/s]\n",
      "progress: 100%|██████████| 43/43 [00:00<00:00, 162.00it/s]\n",
      "progress: 100%|██████████| 43/43 [00:01<00:00, 37.07it/s]\n"
     ]
    },
    {
     "name": "stdout",
     "output_type": "stream",
     "text": [
      "Shift: 800.62 nm -> M1 (MSSR): 0.0, M2 (MSSR): 0.0\n",
      "Shift: 822.26 nm -> M1 (Diffraction): 0.0, M2 (Diffraction): 0.0\n"
     ]
    },
    {
     "name": "stderr",
     "output_type": "stream",
     "text": [
      "progress: 100%|██████████| 43/43 [00:00<00:00, 166.73it/s]\n",
      "progress: 100%|██████████| 43/43 [00:01<00:00, 39.17it/s]\n",
      "progress: 100%|██████████| 43/43 [00:00<00:00, 159.95it/s]\n",
      "progress: 100%|██████████| 43/43 [00:01<00:00, 37.95it/s]\n"
     ]
    },
    {
     "name": "stdout",
     "output_type": "stream",
     "text": [
      "Shift: 822.26 nm -> M1 (MSSR): 0.0, M2 (MSSR): 0.0\n",
      "Shift: 843.90 nm -> M1 (Diffraction): 0.0, M2 (Diffraction): 0.0\n"
     ]
    },
    {
     "name": "stderr",
     "output_type": "stream",
     "text": [
      "progress: 100%|██████████| 43/43 [00:00<00:00, 156.68it/s]\n",
      "progress: 100%|██████████| 43/43 [00:01<00:00, 37.16it/s]\n",
      "progress: 100%|██████████| 43/43 [00:00<00:00, 154.89it/s]\n",
      "progress: 100%|██████████| 43/43 [00:01<00:00, 37.12it/s]\n"
     ]
    },
    {
     "name": "stdout",
     "output_type": "stream",
     "text": [
      "Shift: 843.90 nm -> M1 (MSSR): 0.0, M2 (MSSR): 0.0\n",
      "Shift: 865.54 nm -> M1 (Diffraction): 0.0, M2 (Diffraction): 0.0\n"
     ]
    },
    {
     "name": "stderr",
     "output_type": "stream",
     "text": [
      "progress: 100%|██████████| 43/43 [00:00<00:00, 157.20it/s]\n",
      "progress: 100%|██████████| 43/43 [00:01<00:00, 38.05it/s]\n",
      "progress: 100%|██████████| 43/43 [00:00<00:00, 160.46it/s]\n",
      "progress: 100%|██████████| 43/43 [00:01<00:00, 37.65it/s]\n"
     ]
    },
    {
     "name": "stdout",
     "output_type": "stream",
     "text": [
      "Shift: 865.54 nm -> M1 (MSSR): 0.0, M2 (MSSR): 0.0\n",
      "Shift: 887.17 nm -> M1 (Diffraction): 0.0, M2 (Diffraction): 0.0\n"
     ]
    },
    {
     "name": "stderr",
     "output_type": "stream",
     "text": [
      "progress: 100%|██████████| 43/43 [00:00<00:00, 153.76it/s]\n",
      "progress: 100%|██████████| 43/43 [00:01<00:00, 36.24it/s]\n",
      "progress: 100%|██████████| 43/43 [00:00<00:00, 158.39it/s]\n",
      "progress: 100%|██████████| 43/43 [00:01<00:00, 37.92it/s]\n"
     ]
    },
    {
     "name": "stdout",
     "output_type": "stream",
     "text": [
      "Shift: 887.17 nm -> M1 (MSSR): 0.0, M2 (MSSR): 0.0\n",
      "Shift: 908.81 nm -> M1 (Diffraction): 0.0, M2 (Diffraction): 0.0\n"
     ]
    },
    {
     "name": "stderr",
     "output_type": "stream",
     "text": [
      "progress: 100%|██████████| 43/43 [00:00<00:00, 156.12it/s]\n",
      "progress: 100%|██████████| 43/43 [00:01<00:00, 37.38it/s]\n",
      "progress: 100%|██████████| 43/43 [00:00<00:00, 158.96it/s]\n",
      "progress: 100%|██████████| 43/43 [00:01<00:00, 37.41it/s]\n"
     ]
    },
    {
     "name": "stdout",
     "output_type": "stream",
     "text": [
      "Shift: 908.81 nm -> M1 (MSSR): 0.0, M2 (MSSR): 0.0\n",
      "Shift: 930.45 nm -> M1 (Diffraction): 0.0, M2 (Diffraction): 0.0\n"
     ]
    },
    {
     "name": "stderr",
     "output_type": "stream",
     "text": [
      "progress: 100%|██████████| 43/43 [00:00<00:00, 149.33it/s]\n",
      "progress: 100%|██████████| 43/43 [00:01<00:00, 36.37it/s]\n",
      "progress: 100%|██████████| 43/43 [00:00<00:00, 154.33it/s]\n",
      "progress: 100%|██████████| 43/43 [00:01<00:00, 36.80it/s]\n"
     ]
    },
    {
     "name": "stdout",
     "output_type": "stream",
     "text": [
      "Shift: 930.45 nm -> M1 (MSSR): 0.0, M2 (MSSR): 0.0\n",
      "Shift: 952.09 nm -> M1 (Diffraction): 0.0, M2 (Diffraction): 0.0\n"
     ]
    },
    {
     "name": "stderr",
     "output_type": "stream",
     "text": [
      "progress: 100%|██████████| 43/43 [00:00<00:00, 166.67it/s]\n",
      "progress: 100%|██████████| 43/43 [00:01<00:00, 37.03it/s]\n",
      "progress: 100%|██████████| 43/43 [00:00<00:00, 161.85it/s]\n",
      "progress: 100%|██████████| 43/43 [00:01<00:00, 38.12it/s]\n"
     ]
    },
    {
     "name": "stdout",
     "output_type": "stream",
     "text": [
      "Shift: 952.09 nm -> M1 (MSSR): 0.0, M2 (MSSR): 0.0\n",
      "Shift: 973.73 nm -> M1 (Diffraction): 0.0, M2 (Diffraction): 0.0\n"
     ]
    },
    {
     "name": "stderr",
     "output_type": "stream",
     "text": [
      "progress: 100%|██████████| 43/43 [00:00<00:00, 169.55it/s]\n",
      "progress: 100%|██████████| 43/43 [00:01<00:00, 38.22it/s]\n",
      "progress: 100%|██████████| 43/43 [00:00<00:00, 154.07it/s]\n",
      "progress: 100%|██████████| 43/43 [00:01<00:00, 38.06it/s]\n"
     ]
    },
    {
     "name": "stdout",
     "output_type": "stream",
     "text": [
      "Shift: 973.73 nm -> M1 (MSSR): 0.0, M2 (MSSR): 0.0\n",
      "Shift: 995.37 nm -> M1 (Diffraction): 0.0, M2 (Diffraction): 0.0\n"
     ]
    },
    {
     "name": "stderr",
     "output_type": "stream",
     "text": [
      "progress: 100%|██████████| 43/43 [00:00<00:00, 155.91it/s]\n",
      "progress: 100%|██████████| 43/43 [00:01<00:00, 37.60it/s]\n",
      "progress: 100%|██████████| 43/43 [00:00<00:00, 154.27it/s]\n",
      "progress: 100%|██████████| 43/43 [00:01<00:00, 37.45it/s]\n"
     ]
    },
    {
     "name": "stdout",
     "output_type": "stream",
     "text": [
      "Shift: 995.37 nm -> M1 (MSSR): 0.0, M2 (MSSR): 0.0\n",
      "Shift: 1017.01 nm -> M1 (Diffraction): 0.0, M2 (Diffraction): 0.0\n"
     ]
    },
    {
     "name": "stderr",
     "output_type": "stream",
     "text": [
      "progress: 100%|██████████| 43/43 [00:00<00:00, 153.88it/s]\n",
      "progress: 100%|██████████| 43/43 [00:01<00:00, 38.47it/s]\n",
      "progress: 100%|██████████| 43/43 [00:00<00:00, 159.12it/s]\n",
      "progress: 100%|██████████| 43/43 [00:01<00:00, 37.54it/s]\n"
     ]
    },
    {
     "name": "stdout",
     "output_type": "stream",
     "text": [
      "Shift: 1017.01 nm -> M1 (MSSR): 0.0, M2 (MSSR): 0.0\n",
      "Shift: 1038.64 nm -> M1 (Diffraction): 0.0, M2 (Diffraction): 0.0\n"
     ]
    },
    {
     "name": "stderr",
     "output_type": "stream",
     "text": [
      "progress: 100%|██████████| 43/43 [00:00<00:00, 158.74it/s]\n",
      "progress: 100%|██████████| 43/43 [00:01<00:00, 37.70it/s]\n",
      "progress: 100%|██████████| 43/43 [00:00<00:00, 154.37it/s]\n",
      "progress: 100%|██████████| 43/43 [00:01<00:00, 37.81it/s]\n"
     ]
    },
    {
     "name": "stdout",
     "output_type": "stream",
     "text": [
      "Shift: 1038.64 nm -> M1 (MSSR): 0.0, M2 (MSSR): 0.0\n",
      "Shift: 1060.28 nm -> M1 (Diffraction): 0.0, M2 (Diffraction): 0.0\n"
     ]
    },
    {
     "name": "stderr",
     "output_type": "stream",
     "text": [
      "progress: 100%|██████████| 43/43 [00:00<00:00, 155.99it/s]\n",
      "progress: 100%|██████████| 43/43 [00:01<00:00, 37.34it/s]\n",
      "progress: 100%|██████████| 43/43 [00:00<00:00, 163.87it/s]\n",
      "progress: 100%|██████████| 43/43 [00:01<00:00, 37.80it/s]"
     ]
    },
    {
     "name": "stdout",
     "output_type": "stream",
     "text": [
      "Shift: 1060.28 nm -> M1 (MSSR): 0.0, M2 (MSSR): 0.0\n",
      "Results stored for the following thresholds:\n",
      "Threshold 0: 50 results stored\n",
      "Threshold 0.001: 50 results stored\n",
      "Threshold 0.01: 50 results stored\n",
      "Threshold 0.1: 50 results stored\n",
      "Threshold 0.25: 50 results stored\n",
      "Threshold 0.5: 50 results stored\n"
     ]
    },
    {
     "name": "stderr",
     "output_type": "stream",
     "text": [
      "\n"
     ]
    }
   ],
   "source": [
    "# Initialize a dictionary to store the results\n",
    "results_dict = {}\n",
    "\n",
    "# Iterate over each threshold value\n",
    "for M_threshold in M_threshold_values:\n",
    "    # Call the function for the current threshold\n",
    "    manders_diffraction_results, manders_results = process_gaussian_shifts(\n",
    "        size=size, \n",
    "        sigma1=sigma1, \n",
    "        sigma2=sigma2, \n",
    "        steps=steps, \n",
    "        mssr_instance=mssr_instance, \n",
    "        mssr_fwhm=mssr_fwhm, \n",
    "        amp=amp, \n",
    "        order=order, \n",
    "        mesh=mesh, \n",
    "        ftI=ftI, \n",
    "        intNorm=intNorm, \n",
    "        M_threshold=M_threshold, \n",
    "        pixel_size_um=pixel_size_um, \n",
    "        normalize_and_visualize=normalize_and_visualize, \n",
    "        PLOT=False  # Disable plotting during iterations\n",
    "    )\n",
    "    \n",
    "    # Save the results in the dictionary\n",
    "    results_dict[M_threshold] = {\n",
    "        \"manders_diffraction_results\": manders_diffraction_results,\n",
    "        \"manders_results\": manders_results,\n",
    "    }\n",
    "\n",
    "# Print a summary of the stored results\n",
    "print(\"Results stored for the following thresholds:\")\n",
    "for threshold in results_dict:\n",
    "    print(f\"Threshold {threshold}: {len(results_dict[threshold]['manders_results'])} results stored\")\n"
   ]
  },
  {
   "cell_type": "code",
   "execution_count": 17,
   "id": "528f7e84-6146-466f-8c68-ab90597b0347",
   "metadata": {},
   "outputs": [
    {
     "name": "stdout",
     "output_type": "stream",
     "text": [
      "Side-by-side plots saved to PDF: /home/jovyan/LNMA/bravoa/model/04_MSSR-Manders-Thresholds.pdf\n"
     ]
    }
   ],
   "source": [
    "# Generate plots for Manders' coefficients in a grid\n",
    "#plot_manders_results_grid(results_dict, pixel_size_um, output_pdf=pdf_path)\n",
    "# Generate side-by-side plots comparing M1 for diffraction-limited and MSSR data\n",
    "plot_m1_comparison_side_by_side(results_dict, pixel_size_um, output_pdf=pdf_path)"
   ]
  }
 ],
 "metadata": {
  "kernelspec": {
   "display_name": "Python 3 (ipykernel)",
   "language": "python",
   "name": "python3"
  },
  "language_info": {
   "codemirror_mode": {
    "name": "ipython",
    "version": 3
   },
   "file_extension": ".py",
   "mimetype": "text/x-python",
   "name": "python",
   "nbconvert_exporter": "python",
   "pygments_lexer": "ipython3",
   "version": "3.11.8"
  }
 },
 "nbformat": 4,
 "nbformat_minor": 5
}
