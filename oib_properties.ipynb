{
 "cells": [
  {
   "cell_type": "markdown",
   "id": "92c6d340-b9cc-402f-8bde-a899b42b29c7",
   "metadata": {},
   "source": [
    "# Open an OIB file and explore metadata properties"
   ]
  },
  {
   "cell_type": "markdown",
   "id": "2cfaf797-0cbd-4ce5-a1e2-d39479c9e4b5",
   "metadata": {},
   "source": [
    "## Install libraries"
   ]
  },
  {
   "cell_type": "code",
   "execution_count": 2,
   "id": "c0e99d0c-a601-4dc6-8fcf-96113bc57c9f",
   "metadata": {},
   "outputs": [
    {
     "name": "stdout",
     "output_type": "stream",
     "text": [
      "Collecting oiffile\n",
      "  Using cached oiffile-2024.5.24-py3-none-any.whl.metadata (4.9 kB)\n",
      "Requirement already satisfied: numpy in /opt/conda/lib/python3.11/site-packages (from oiffile) (1.26.4)\n",
      "Requirement already satisfied: tifffile in /opt/conda/lib/python3.11/site-packages (from oiffile) (2024.2.12)\n",
      "Using cached oiffile-2024.5.24-py3-none-any.whl (14 kB)\n",
      "Installing collected packages: oiffile\n",
      "Successfully installed oiffile-2024.5.24\n"
     ]
    }
   ],
   "source": [
    "!pip install oiffile"
   ]
  },
  {
   "cell_type": "markdown",
   "id": "3f69fda8-68fc-405a-8aab-5971f5e97c21",
   "metadata": {},
   "source": [
    "## Load libraries"
   ]
  }
 ],
 "metadata": {
  "kernelspec": {
   "display_name": "Python 3 (ipykernel)",
   "language": "python",
   "name": "python3"
  },
  "language_info": {
   "codemirror_mode": {
    "name": "ipython",
    "version": 3
   },
   "file_extension": ".py",
   "mimetype": "text/x-python",
   "name": "python",
   "nbconvert_exporter": "python",
   "pygments_lexer": "ipython3",
   "version": "3.11.8"
  }
 },
 "nbformat": 4,
 "nbformat_minor": 5
}
