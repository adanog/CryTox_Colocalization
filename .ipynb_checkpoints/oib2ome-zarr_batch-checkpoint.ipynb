{
 "cells": [
  {
   "cell_type": "markdown",
   "id": "ff858efb-92e4-46c0-9d97-6cadae1bbd8a",
   "metadata": {},
   "source": [
    "# Batch OIB to OME-Zarr Conversion and metadata integration\n",
    "\n",
    "Performs batch conversion, name cleaning and add both image and ROI metadata to the OME-Zarr file"
   ]
  },
  {
   "cell_type": "markdown",
   "id": "7e09c7fa-88bb-4a20-98dc-a9797a854e85",
   "metadata": {},
   "source": [
    "## Define directory containing the files to be converted"
   ]
  },
  {
   "cell_type": "code",
   "execution_count": 1,
   "id": "3ed616c2-2504-4204-ba59-35bbd250e99e",
   "metadata": {},
   "outputs": [],
   "source": [
    "data_path = '/home/jovyan/LNMA/bravoa/data'\n",
    "data_folder = 'Seleccion ROIs para Fig endoscitosis'"
   ]
  },
  {
   "cell_type": "markdown",
   "id": "7b689e47-2797-49ed-a49f-c768d4c438df",
   "metadata": {},
   "source": [
    "## Install Libraries"
   ]
  },
  {
   "cell_type": "code",
   "execution_count": 2,
   "id": "27e3fa49-9c36-47ec-9918-62746f114743",
   "metadata": {},
   "outputs": [
    {
     "name": "stdout",
     "output_type": "stream",
     "text": [
      "Installing necessary libraries...\n",
      "Libraries installed successfully.\n"
     ]
    }
   ],
   "source": [
    "print(\"Installing necessary libraries...\")\n",
    "!pip install natsort oiffile ome-zarr read_roi> /dev/null 2>&1\n",
    "print(\"Libraries installed successfully.\")"
   ]
  },
  {
   "cell_type": "markdown",
   "id": "1fded675-9f84-4029-878e-90217a4b8c35",
   "metadata": {},
   "source": [
    "## Import Libraries"
   ]
  },
  {
   "cell_type": "code",
   "execution_count": 3,
   "id": "e104e01e-d917-41e8-bc8e-9849ba291bb7",
   "metadata": {},
   "outputs": [],
   "source": [
    "import os\n",
    "import oiffile\n",
    "from oiffile import imread\n",
    "import pandas as pd\n",
    "import re\n",
    "from natsort import natsorted\n",
    "\n",
    "import numpy as np\n",
    "import zarr\n",
    "from ome_zarr.io import parse_url\n",
    "import matplotlib.pyplot as plt\n",
    "from read_roi import read_roi_zip"
   ]
  },
  {
   "cell_type": "markdown",
   "id": "3e9c7236-bbc8-441c-9811-6471cf0d4384",
   "metadata": {},
   "source": [
    "## Functions"
   ]
  },
  {
   "cell_type": "code",
   "execution_count": 4,
   "id": "1366e79e-7c70-4012-8214-21d273e2b4e5",
   "metadata": {},
   "outputs": [],
   "source": [
    "def clean_filenames(directory_path):\n",
    "    \"\"\"\n",
    "    Cleans filenames in the specified directory by replacing certain characters\n",
    "    and renaming the files in the filesystem.\n",
    "\n",
    "    Parameters:\n",
    "        directory_path (str): Path to the directory containing the files.\n",
    "\n",
    "    Returns:\n",
    "        list: A list of cleaned file names sorted naturally.\n",
    "    \"\"\"\n",
    "    # Initialize a list to store cleaned file names\n",
    "    cleaned_file_names = []\n",
    "\n",
    "    # Process each file in the specified directory\n",
    "    for file_name in os.listdir(directory_path):\n",
    "        # Construct the original full path\n",
    "        original_path = os.path.join(directory_path, file_name)\n",
    "\n",
    "        # Clean the filename by replacing spaces and other unwanted characters\n",
    "        cleaned_name = file_name.replace(' ', '_').replace('-', '_').replace('/', '_')\n",
    "        cleaned_name = cleaned_name.replace('+', '_').replace('_copy', '')\n",
    "\n",
    "        # Construct the new full path\n",
    "        cleaned_path = os.path.join(directory_path, cleaned_name)\n",
    "\n",
    "        # Rename the file if the cleaned name is different from the original name\n",
    "        if original_path != cleaned_path:\n",
    "            os.rename(original_path, cleaned_path)\n",
    "            #print(f\"Renamed {original_path} to {cleaned_path}\")\n",
    "\n",
    "        # Append the cleaned file name to the list\n",
    "        cleaned_file_names.append(cleaned_name)\n",
    "\n",
    "    # Return the list of cleaned file names, sorted naturally\n",
    "    return natsorted(cleaned_file_names)\n",
    "    \n",
    "def pair_oib_zip_files(files_names_cleaned):\n",
    "    \"\"\"\n",
    "    Pairs .oib and .zip files by their shared numerical prefix after filename cleaning.\n",
    "\n",
    "    Parameters:\n",
    "        files_names_cleaned (list): List of cleaned filenames.\n",
    "\n",
    "    Returns:\n",
    "        list: List of tuples where each tuple contains a paired .oib and .zip file.\n",
    "    \"\"\"\n",
    "    # Dictionaries to store .oib and .zip files by their prefix number\n",
    "    oib_files = {}\n",
    "    zip_files = {}\n",
    "\n",
    "    # Regular expressions to match prefixes in filenames\n",
    "    oib_pattern = re.compile(r'^(\\d+)_.*\\.oib$')\n",
    "    zip_pattern = re.compile(r'^RoiSet_(\\d+)_.*\\.zip$')\n",
    "\n",
    "    # Populate the dictionaries with files based on their number prefix\n",
    "    for filename in files_names_cleaned:\n",
    "        oib_match = oib_pattern.match(filename)\n",
    "        zip_match = zip_pattern.match(filename)\n",
    "        \n",
    "        if oib_match:\n",
    "            prefix = oib_match.group(1)\n",
    "            oib_files[prefix] = filename\n",
    "        elif zip_match:\n",
    "            prefix = zip_match.group(1)\n",
    "            zip_files[prefix] = filename\n",
    "\n",
    "    # Pair .oib and .zip files by their prefix\n",
    "    paired_files = [(oib_files[key], zip_files[key]) for key in oib_files.keys() if key in zip_files]\n",
    "    \n",
    "    # Sort the paired files naturally\n",
    "    return natsorted(paired_files)\n",
    "\n",
    "def create_paths_from_pairs(paired_files, directory_path):\n",
    "    \"\"\"\n",
    "    Generates file paths for each pair of .oib and .zip files.\n",
    "\n",
    "    Parameters:\n",
    "        paired_files (list): List of tuples with paired .oib and .zip filenames.\n",
    "        directory_path (str): Path to the directory containing the files.\n",
    "\n",
    "    Returns:\n",
    "        list: List of dictionaries containing paths for each pair.\n",
    "    \"\"\"\n",
    "    paired_paths = []\n",
    "\n",
    "    for oib_name, rois_name in paired_files:\n",
    "        # Construct the file paths\n",
    "        file_path = os.path.join(directory_path, oib_name)  # .oib file path\n",
    "        rois_path = os.path.join(directory_path, rois_name) # .zip file path\n",
    "        oib_file_path = file_path\n",
    "        ome_zarr_path = f'{file_path[:-4]}.zarr'  # Path with .zarr extension instead of .oib\n",
    "\n",
    "        # Append the paths to the list as a dictionary\n",
    "        paired_paths.append({\n",
    "            'oib_file_path': oib_file_path,\n",
    "            'rois_path': rois_path,\n",
    "            'ome_zarr_path': ome_zarr_path\n",
    "        })\n",
    "        \n",
    "    return paired_paths"
   ]
  },
  {
   "cell_type": "markdown",
   "id": "6e51c4f1-e4f3-47f4-b863-ce6521cecd27",
   "metadata": {},
   "source": [
    "## Clean file names"
   ]
  },
  {
   "cell_type": "code",
   "execution_count": 5,
   "id": "9d41bbce-f74b-40c6-8dc8-3951c76dafc1",
   "metadata": {},
   "outputs": [
    {
     "data": {
      "text/plain": [
       "['1_Cry11Aa_1_mg_FM4_3h_60X_Z3.5_ant_rep.oib',\n",
       " '1_Cry11Aa_1_mg_FM4_3h_60X_Z3.5_ant_rep.zarr',\n",
       " '2_Cry11Aa_1_mg_FM4_3h_60X_Z3.5_ant_bis.oib',\n",
       " '2_Cry11Aa_1_mg_FM4_3h_60X_Z3.5_ant_bis.zarr',\n",
       " '3_Cry11__1mg_3h_FM4_1_mM_60X_Z3.5__ant_bis__int_2.oib',\n",
       " '4_Cry11__1mg_3h_FM4_1_mM_60X_Z3.5__ant_bis_3_int_1.oib',\n",
       " '5_Cry11__1mg_3h_FM4_1_mM_60X_Z3.5__ant_bis_bis_int_2.oib',\n",
       " '6_Cry11Aa_1_mg_FM4_3h_60X_Z3.5_ant_bis_3.oib',\n",
       " '7_Cry11E97A_1mg_3h__FM4_60X_Z3.5_post_int_3.oib',\n",
       " '8_Cry11E97A_1mg_3h__FM4_60X_Z3.5__med_bis_6_int_3.oib',\n",
       " '9_Cry11E97A_1mg_3h__FM4_60X_Z3.5__med_bis_bis_int_3.oib',\n",
       " '10_Cry11E97A_1mg_3h__FM4_60X_Z3.5__med_bis_int_3.oib',\n",
       " '11_Cry11E97A_1mg_3h__FM4_60X_Z3.5__med_bis5__int_3.oib',\n",
       " '12_Cry11E97A_1mg_3h__FM4_60X_Z3.5_bis_bis_post_int_3.oib',\n",
       " '.ipynb_checkpoints',\n",
       " 'RoiSet_1_Cry11Aa_1_mg_FM4_3h_60X_Z3.5_ant_rep.zip',\n",
       " 'RoiSet_2_Cry11Aa_1_mg_FM4_3h_60X_Z3.5_ant_bis.zip',\n",
       " 'RoiSet_3_Cry11__1mg_3h_FM4_1_mM_60X_Z3.5__ant_bis__int_2.zip',\n",
       " 'RoiSet_4_Cry11__1mg_3h_FM4_1_mM_60X_Z3.5__ant_bis_3_int_1.zip',\n",
       " 'RoiSet_5_Cry11__1mg_3h_FM4_1_mM_60X_Z3.5__ant_bis_bis_int_2.zip',\n",
       " 'RoiSet_6_Cry11Aa_1_mg_FM4_3h_60X_Z3.5_ant_bis_3.zip',\n",
       " 'RoiSet_7_Cry11E97A_1mg_3h__FM4_60X_Z3.5_post_int_3.zip',\n",
       " 'RoiSet_8_Cry11E97A_1mg_3h__FM4_60X_Z3.5__med_bis_6_int_3.zip',\n",
       " 'RoiSet_9_Cry11E97A_1mg_3h__FM4_60X_Z3.5__med_bis_bis_int_3.zip',\n",
       " 'RoiSet_10_Cry11E97A_1mg_3h__FM4_60X_Z3.5__med_bis_int_3.zip',\n",
       " 'RoiSet_11_Cry11E97A_1mg_3h__FM4_60X_Z3.5__med_bis5__int_3.zip',\n",
       " 'RoiSet_12_Cry11E97A_1mg_3h__FM4_60X_Z3.5_bis_bis_post_int_3.zip']"
      ]
     },
     "execution_count": 5,
     "metadata": {},
     "output_type": "execute_result"
    }
   ],
   "source": [
    "directory_path = os.path.join(data_path, data_folder)\n",
    "cleaned_files = clean_filenames(directory_path)\n",
    "cleaned_files"
   ]
  },
  {
   "cell_type": "markdown",
   "id": "bf875801-278b-44a4-a022-794cd3d2b340",
   "metadata": {},
   "source": [
    "## Define File Paths Dictionary"
   ]
  },
  {
   "cell_type": "code",
   "execution_count": 6,
   "id": "bb64587a-fef7-4dbc-ab6a-ab2e9fc0cb16",
   "metadata": {},
   "outputs": [
    {
     "data": {
      "text/plain": [
       "[{'oib_file_path': '/home/jovyan/LNMA/bravoa/data/Seleccion ROIs para Fig endoscitosis/1_Cry11Aa_1_mg_FM4_3h_60X_Z3.5_ant_rep.oib',\n",
       "  'rois_path': '/home/jovyan/LNMA/bravoa/data/Seleccion ROIs para Fig endoscitosis/RoiSet_1_Cry11Aa_1_mg_FM4_3h_60X_Z3.5_ant_rep.zip',\n",
       "  'ome_zarr_path': '/home/jovyan/LNMA/bravoa/data/Seleccion ROIs para Fig endoscitosis/1_Cry11Aa_1_mg_FM4_3h_60X_Z3.5_ant_rep.zarr'},\n",
       " {'oib_file_path': '/home/jovyan/LNMA/bravoa/data/Seleccion ROIs para Fig endoscitosis/2_Cry11Aa_1_mg_FM4_3h_60X_Z3.5_ant_bis.oib',\n",
       "  'rois_path': '/home/jovyan/LNMA/bravoa/data/Seleccion ROIs para Fig endoscitosis/RoiSet_2_Cry11Aa_1_mg_FM4_3h_60X_Z3.5_ant_bis.zip',\n",
       "  'ome_zarr_path': '/home/jovyan/LNMA/bravoa/data/Seleccion ROIs para Fig endoscitosis/2_Cry11Aa_1_mg_FM4_3h_60X_Z3.5_ant_bis.zarr'},\n",
       " {'oib_file_path': '/home/jovyan/LNMA/bravoa/data/Seleccion ROIs para Fig endoscitosis/3_Cry11__1mg_3h_FM4_1_mM_60X_Z3.5__ant_bis__int_2.oib',\n",
       "  'rois_path': '/home/jovyan/LNMA/bravoa/data/Seleccion ROIs para Fig endoscitosis/RoiSet_3_Cry11__1mg_3h_FM4_1_mM_60X_Z3.5__ant_bis__int_2.zip',\n",
       "  'ome_zarr_path': '/home/jovyan/LNMA/bravoa/data/Seleccion ROIs para Fig endoscitosis/3_Cry11__1mg_3h_FM4_1_mM_60X_Z3.5__ant_bis__int_2.zarr'},\n",
       " {'oib_file_path': '/home/jovyan/LNMA/bravoa/data/Seleccion ROIs para Fig endoscitosis/4_Cry11__1mg_3h_FM4_1_mM_60X_Z3.5__ant_bis_3_int_1.oib',\n",
       "  'rois_path': '/home/jovyan/LNMA/bravoa/data/Seleccion ROIs para Fig endoscitosis/RoiSet_4_Cry11__1mg_3h_FM4_1_mM_60X_Z3.5__ant_bis_3_int_1.zip',\n",
       "  'ome_zarr_path': '/home/jovyan/LNMA/bravoa/data/Seleccion ROIs para Fig endoscitosis/4_Cry11__1mg_3h_FM4_1_mM_60X_Z3.5__ant_bis_3_int_1.zarr'},\n",
       " {'oib_file_path': '/home/jovyan/LNMA/bravoa/data/Seleccion ROIs para Fig endoscitosis/5_Cry11__1mg_3h_FM4_1_mM_60X_Z3.5__ant_bis_bis_int_2.oib',\n",
       "  'rois_path': '/home/jovyan/LNMA/bravoa/data/Seleccion ROIs para Fig endoscitosis/RoiSet_5_Cry11__1mg_3h_FM4_1_mM_60X_Z3.5__ant_bis_bis_int_2.zip',\n",
       "  'ome_zarr_path': '/home/jovyan/LNMA/bravoa/data/Seleccion ROIs para Fig endoscitosis/5_Cry11__1mg_3h_FM4_1_mM_60X_Z3.5__ant_bis_bis_int_2.zarr'},\n",
       " {'oib_file_path': '/home/jovyan/LNMA/bravoa/data/Seleccion ROIs para Fig endoscitosis/6_Cry11Aa_1_mg_FM4_3h_60X_Z3.5_ant_bis_3.oib',\n",
       "  'rois_path': '/home/jovyan/LNMA/bravoa/data/Seleccion ROIs para Fig endoscitosis/RoiSet_6_Cry11Aa_1_mg_FM4_3h_60X_Z3.5_ant_bis_3.zip',\n",
       "  'ome_zarr_path': '/home/jovyan/LNMA/bravoa/data/Seleccion ROIs para Fig endoscitosis/6_Cry11Aa_1_mg_FM4_3h_60X_Z3.5_ant_bis_3.zarr'},\n",
       " {'oib_file_path': '/home/jovyan/LNMA/bravoa/data/Seleccion ROIs para Fig endoscitosis/7_Cry11E97A_1mg_3h__FM4_60X_Z3.5_post_int_3.oib',\n",
       "  'rois_path': '/home/jovyan/LNMA/bravoa/data/Seleccion ROIs para Fig endoscitosis/RoiSet_7_Cry11E97A_1mg_3h__FM4_60X_Z3.5_post_int_3.zip',\n",
       "  'ome_zarr_path': '/home/jovyan/LNMA/bravoa/data/Seleccion ROIs para Fig endoscitosis/7_Cry11E97A_1mg_3h__FM4_60X_Z3.5_post_int_3.zarr'},\n",
       " {'oib_file_path': '/home/jovyan/LNMA/bravoa/data/Seleccion ROIs para Fig endoscitosis/8_Cry11E97A_1mg_3h__FM4_60X_Z3.5__med_bis_6_int_3.oib',\n",
       "  'rois_path': '/home/jovyan/LNMA/bravoa/data/Seleccion ROIs para Fig endoscitosis/RoiSet_8_Cry11E97A_1mg_3h__FM4_60X_Z3.5__med_bis_6_int_3.zip',\n",
       "  'ome_zarr_path': '/home/jovyan/LNMA/bravoa/data/Seleccion ROIs para Fig endoscitosis/8_Cry11E97A_1mg_3h__FM4_60X_Z3.5__med_bis_6_int_3.zarr'},\n",
       " {'oib_file_path': '/home/jovyan/LNMA/bravoa/data/Seleccion ROIs para Fig endoscitosis/9_Cry11E97A_1mg_3h__FM4_60X_Z3.5__med_bis_bis_int_3.oib',\n",
       "  'rois_path': '/home/jovyan/LNMA/bravoa/data/Seleccion ROIs para Fig endoscitosis/RoiSet_9_Cry11E97A_1mg_3h__FM4_60X_Z3.5__med_bis_bis_int_3.zip',\n",
       "  'ome_zarr_path': '/home/jovyan/LNMA/bravoa/data/Seleccion ROIs para Fig endoscitosis/9_Cry11E97A_1mg_3h__FM4_60X_Z3.5__med_bis_bis_int_3.zarr'},\n",
       " {'oib_file_path': '/home/jovyan/LNMA/bravoa/data/Seleccion ROIs para Fig endoscitosis/10_Cry11E97A_1mg_3h__FM4_60X_Z3.5__med_bis_int_3.oib',\n",
       "  'rois_path': '/home/jovyan/LNMA/bravoa/data/Seleccion ROIs para Fig endoscitosis/RoiSet_10_Cry11E97A_1mg_3h__FM4_60X_Z3.5__med_bis_int_3.zip',\n",
       "  'ome_zarr_path': '/home/jovyan/LNMA/bravoa/data/Seleccion ROIs para Fig endoscitosis/10_Cry11E97A_1mg_3h__FM4_60X_Z3.5__med_bis_int_3.zarr'},\n",
       " {'oib_file_path': '/home/jovyan/LNMA/bravoa/data/Seleccion ROIs para Fig endoscitosis/11_Cry11E97A_1mg_3h__FM4_60X_Z3.5__med_bis5__int_3.oib',\n",
       "  'rois_path': '/home/jovyan/LNMA/bravoa/data/Seleccion ROIs para Fig endoscitosis/RoiSet_11_Cry11E97A_1mg_3h__FM4_60X_Z3.5__med_bis5__int_3.zip',\n",
       "  'ome_zarr_path': '/home/jovyan/LNMA/bravoa/data/Seleccion ROIs para Fig endoscitosis/11_Cry11E97A_1mg_3h__FM4_60X_Z3.5__med_bis5__int_3.zarr'},\n",
       " {'oib_file_path': '/home/jovyan/LNMA/bravoa/data/Seleccion ROIs para Fig endoscitosis/12_Cry11E97A_1mg_3h__FM4_60X_Z3.5_bis_bis_post_int_3.oib',\n",
       "  'rois_path': '/home/jovyan/LNMA/bravoa/data/Seleccion ROIs para Fig endoscitosis/RoiSet_12_Cry11E97A_1mg_3h__FM4_60X_Z3.5_bis_bis_post_int_3.zip',\n",
       "  'ome_zarr_path': '/home/jovyan/LNMA/bravoa/data/Seleccion ROIs para Fig endoscitosis/12_Cry11E97A_1mg_3h__FM4_60X_Z3.5_bis_bis_post_int_3.zarr'}]"
      ]
     },
     "execution_count": 6,
     "metadata": {},
     "output_type": "execute_result"
    }
   ],
   "source": [
    "paired_files = pair_oib_zip_files(cleaned_files)\n",
    "paired_paths = create_paths_from_pairs(paired_files, directory_path)\n",
    "paired_paths"
   ]
  },
  {
   "cell_type": "markdown",
   "id": "f6fb4199-8ab1-48a6-b9db-463a0da2139b",
   "metadata": {},
   "source": [
    "## Create OME-Zarr files with metadata and rois included"
   ]
  },
  {
   "cell_type": "code",
   "execution_count": 8,
   "id": "f020b656-e866-46dc-801b-b627a98f39e3",
   "metadata": {},
   "outputs": [
    {
     "ename": "error",
     "evalue": "unpack requires a buffer of 4096 bytes",
     "output_type": "error",
     "traceback": [
      "\u001b[0;31m---------------------------------------------------------------------------\u001b[0m",
      "\u001b[0;31merror\u001b[0m                                     Traceback (most recent call last)",
      "Cell \u001b[0;32mIn[8], line 5\u001b[0m\n\u001b[1;32m      3\u001b[0m rois_path \u001b[38;5;241m=\u001b[39m paths[\u001b[38;5;124m'\u001b[39m\u001b[38;5;124mrois_path\u001b[39m\u001b[38;5;124m'\u001b[39m]\n\u001b[1;32m      4\u001b[0m ome_zarr_path \u001b[38;5;241m=\u001b[39m paths[\u001b[38;5;124m'\u001b[39m\u001b[38;5;124mome_zarr_path\u001b[39m\u001b[38;5;124m'\u001b[39m]\n\u001b[0;32m----> 5\u001b[0m \u001b[38;5;28;01mwith\u001b[39;00m \u001b[43moiffile\u001b[49m\u001b[38;5;241;43m.\u001b[39;49m\u001b[43mOifFile\u001b[49m\u001b[43m(\u001b[49m\u001b[43moib_file_path\u001b[49m\u001b[43m)\u001b[49m \u001b[38;5;28;01mas\u001b[39;00m oib:\n\u001b[1;32m      6\u001b[0m     image_data \u001b[38;5;241m=\u001b[39m oib\u001b[38;5;241m.\u001b[39masarray()  \u001b[38;5;66;03m# Load image data\u001b[39;00m\n\u001b[1;32m      7\u001b[0m     all_metadata \u001b[38;5;241m=\u001b[39m \u001b[38;5;28mdict\u001b[39m(oib\u001b[38;5;241m.\u001b[39mmainfile)  \u001b[38;5;66;03m# Retrieve all metadata as a dictionary\u001b[39;00m\n",
      "File \u001b[0;32m/opt/conda/lib/python3.11/site-packages/oiffile/oiffile.py:297\u001b[0m, in \u001b[0;36mOifFile.__init__\u001b[0;34m(self, filename)\u001b[0m\n\u001b[1;32m    295\u001b[0m     \u001b[38;5;28mself\u001b[39m\u001b[38;5;241m.\u001b[39mfilesystem \u001b[38;5;241m=\u001b[39m OifFileSystem(filename)\n\u001b[1;32m    296\u001b[0m \u001b[38;5;28;01melse\u001b[39;00m:\n\u001b[0;32m--> 297\u001b[0m     \u001b[38;5;28mself\u001b[39m\u001b[38;5;241m.\u001b[39mfilesystem \u001b[38;5;241m=\u001b[39m \u001b[43mOibFileSystem\u001b[49m\u001b[43m(\u001b[49m\u001b[43mfilename\u001b[49m\u001b[43m)\u001b[49m\n\u001b[1;32m    298\u001b[0m \u001b[38;5;28mself\u001b[39m\u001b[38;5;241m.\u001b[39mmainfile \u001b[38;5;241m=\u001b[39m \u001b[38;5;28mself\u001b[39m\u001b[38;5;241m.\u001b[39mfilesystem\u001b[38;5;241m.\u001b[39msettings\n\u001b[1;32m    299\u001b[0m \u001b[38;5;66;03m# map file names to storage names (flattened name space)\u001b[39;00m\n",
      "File \u001b[0;32m/opt/conda/lib/python3.11/site-packages/oiffile/oiffile.py:582\u001b[0m, in \u001b[0;36mOibFileSystem.__init__\u001b[0;34m(self, filename)\u001b[0m\n\u001b[1;32m    579\u001b[0m \u001b[38;5;28;01mdef\u001b[39;00m \u001b[38;5;21m__init__\u001b[39m(\u001b[38;5;28mself\u001b[39m, filename: \u001b[38;5;28mstr\u001b[39m \u001b[38;5;241m|\u001b[39m os\u001b[38;5;241m.\u001b[39mPathLike[Any], \u001b[38;5;241m/\u001b[39m) \u001b[38;5;241m-\u001b[39m\u001b[38;5;241m>\u001b[39m \u001b[38;5;28;01mNone\u001b[39;00m:\n\u001b[1;32m    580\u001b[0m     \u001b[38;5;66;03m# open compound document and read OibInfo.txt settings\u001b[39;00m\n\u001b[1;32m    581\u001b[0m     \u001b[38;5;28mself\u001b[39m\u001b[38;5;241m.\u001b[39mfilename \u001b[38;5;241m=\u001b[39m filename \u001b[38;5;241m=\u001b[39m os\u001b[38;5;241m.\u001b[39mfspath(filename)\n\u001b[0;32m--> 582\u001b[0m     \u001b[38;5;28mself\u001b[39m\u001b[38;5;241m.\u001b[39mcom \u001b[38;5;241m=\u001b[39m \u001b[43mCompoundFile\u001b[49m\u001b[43m(\u001b[49m\u001b[43mfilename\u001b[49m\u001b[43m)\u001b[49m\n\u001b[1;32m    583\u001b[0m     info \u001b[38;5;241m=\u001b[39m SettingsFile(\u001b[38;5;28mself\u001b[39m\u001b[38;5;241m.\u001b[39mcom\u001b[38;5;241m.\u001b[39mopen_file(\u001b[38;5;124m'\u001b[39m\u001b[38;5;124mOibInfo.txt\u001b[39m\u001b[38;5;124m'\u001b[39m), \u001b[38;5;124m'\u001b[39m\u001b[38;5;124mOibInfo.txt\u001b[39m\u001b[38;5;124m'\u001b[39m)[\n\u001b[1;32m    584\u001b[0m         \u001b[38;5;124m'\u001b[39m\u001b[38;5;124mOibSaveInfo\u001b[39m\u001b[38;5;124m'\u001b[39m\n\u001b[1;32m    585\u001b[0m     ]\n\u001b[1;32m    586\u001b[0m     \u001b[38;5;28mself\u001b[39m\u001b[38;5;241m.\u001b[39mname \u001b[38;5;241m=\u001b[39m info\u001b[38;5;241m.\u001b[39mget(\u001b[38;5;124m'\u001b[39m\u001b[38;5;124mName\u001b[39m\u001b[38;5;124m'\u001b[39m, \u001b[38;5;28;01mNone\u001b[39;00m)\n",
      "File \u001b[0;32m/opt/conda/lib/python3.11/site-packages/oiffile/oiffile.py:808\u001b[0m, in \u001b[0;36mCompoundFile.__init__\u001b[0;34m(self, filename)\u001b[0m\n\u001b[1;32m    806\u001b[0m \u001b[38;5;28mself\u001b[39m\u001b[38;5;241m.\u001b[39m_fh \u001b[38;5;241m=\u001b[39m \u001b[38;5;28mopen\u001b[39m(filename, \u001b[38;5;124m'\u001b[39m\u001b[38;5;124mrb\u001b[39m\u001b[38;5;124m'\u001b[39m)\n\u001b[1;32m    807\u001b[0m \u001b[38;5;28;01mtry\u001b[39;00m:\n\u001b[0;32m--> 808\u001b[0m     \u001b[38;5;28;43mself\u001b[39;49m\u001b[38;5;241;43m.\u001b[39;49m\u001b[43m_fromfile\u001b[49m\u001b[43m(\u001b[49m\u001b[43m)\u001b[49m\n\u001b[1;32m    809\u001b[0m \u001b[38;5;28;01mexcept\u001b[39;00m \u001b[38;5;167;01mException\u001b[39;00m:\n\u001b[1;32m    810\u001b[0m     \u001b[38;5;28mself\u001b[39m\u001b[38;5;241m.\u001b[39m_fh\u001b[38;5;241m.\u001b[39mclose()\n",
      "File \u001b[0;32m/opt/conda/lib/python3.11/site-packages/oiffile/oiffile.py:896\u001b[0m, in \u001b[0;36mCompoundFile._fromfile\u001b[0;34m(self)\u001b[0m\n\u001b[1;32m    894\u001b[0m     \u001b[38;5;28;01mif\u001b[39;00m i \u001b[38;5;241m>\u001b[39m\u001b[38;5;241m=\u001b[39m \u001b[38;5;28mself\u001b[39m\u001b[38;5;241m.\u001b[39mminifat_len:\n\u001b[1;32m    895\u001b[0m         \u001b[38;5;28;01mbreak\u001b[39;00m\n\u001b[0;32m--> 896\u001b[0m     \u001b[38;5;28mself\u001b[39m\u001b[38;5;241m.\u001b[39m_minifat\u001b[38;5;241m.\u001b[39mextend(struct\u001b[38;5;241m.\u001b[39munpack(secfmt, sector))\n\u001b[1;32m    897\u001b[0m \u001b[38;5;66;03m# read directories\u001b[39;00m\n\u001b[1;32m    898\u001b[0m \u001b[38;5;28mself\u001b[39m\u001b[38;5;241m.\u001b[39m_dirs \u001b[38;5;241m=\u001b[39m []\n",
      "\u001b[0;31merror\u001b[0m: unpack requires a buffer of 4096 bytes"
     ]
    }
   ],
   "source": [
    "for paths in paired_paths:\n",
    "    oib_file_path = paths['oib_file_path']\n",
    "    rois_path = paths['rois_path']\n",
    "    ome_zarr_path = paths['ome_zarr_path']\n",
    "    with oiffile.OifFile(oib_file_path) as oib:\n",
    "        image_data = oib.asarray()  # Load image data\n",
    "        all_metadata = dict(oib.mainfile)  # Retrieve all metadata as a dictionary\n",
    "    \n",
    "    ## Load rois\n",
    "    rois = read_roi_zip(rois_path)\n",
    "    roi_metadata = [\n",
    "        {\n",
    "            \"name\": roi_name,\n",
    "            \"type\": roi_data.get(\"type\"),\n",
    "            \"left\": roi_data.get(\"left\"),\n",
    "            \"top\": roi_data.get(\"top\"),\n",
    "            \"width\": roi_data.get(\"width\"),\n",
    "            \"height\": roi_data.get(\"height\"),\n",
    "            \"arc_size\": roi_data.get(\"arc_size\"),\n",
    "            \"position\": roi_data.get(\"position\"),\n",
    "        }\n",
    "        for roi_name, roi_data in rois.items()\n",
    "    ]\n",
    "    \n",
    "    ## Format Image Data for OME-Zarr\n",
    "    \n",
    "    # Ensure data shape is in (T, C, Z, Y, X) format\n",
    "    while image_data.ndim < 5:\n",
    "        image_data = np.expand_dims(image_data, axis=0)  # Add dimensions as needed\n",
    "\n",
    "    # Convert the data to a numpy array (if not already)\n",
    "    image_data = np.asarray(image_data)\n",
    "\n",
    "    # Reorder data\n",
    "    image_data = image_data.transpose(0, 2, 1, 3, 4)\n",
    "    \n",
    "    ## Remove Existing Zarr Store (if exists)\n",
    "    if os.path.exists(ome_zarr_path):\n",
    "        import shutil\n",
    "        shutil.rmtree(ome_zarr_path)\n",
    "        \n",
    "    ## Save Image Data and Metadata to OME-Zarr\n",
    "    store = parse_url(ome_zarr_path, mode=\"w\").store\n",
    "    root = zarr.group(store=store)\n",
    "    dataset = root.create_dataset(\"image_data\", data=image_data, chunks=True)\n",
    "\n",
    "    # Save image metadata and ROI metadata as attributes\n",
    "    root.attrs[\"image_metadata\"] = all_metadata\n",
    "    root.attrs[\"roi_metadata\"] = roi_metadata\n",
    "\n",
    "print(\"Conversion complete. The OME-Zarr files are saved with all metadata.\")\n"
   ]
  }
 ],
 "metadata": {
  "kernelspec": {
   "display_name": "Python 3 (ipykernel)",
   "language": "python",
   "name": "python3"
  },
  "language_info": {
   "codemirror_mode": {
    "name": "ipython",
    "version": 3
   },
   "file_extension": ".py",
   "mimetype": "text/x-python",
   "name": "python",
   "nbconvert_exporter": "python",
   "pygments_lexer": "ipython3",
   "version": "3.11.8"
  }
 },
 "nbformat": 4,
 "nbformat_minor": 5
}
